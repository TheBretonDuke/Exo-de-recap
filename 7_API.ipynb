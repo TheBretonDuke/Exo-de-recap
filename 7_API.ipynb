{
 "cells": [
  {
   "cell_type": "markdown",
   "id": "29a41535",
   "metadata": {},
   "source": [
    "# 🌐 PARTIE 7 : APIs ET SERVICES WEB\n",
    "\n",
    "### 🌟 Ce que vous allez apprendre :\n",
    "- **Théorie** : Protocoles SOAP vs REST vs GraphQL\n",
    "- **Architecture** : RESTful design et bonnes pratiques\n",
    "- **FastAPI** : Framework moderne Python pour APIs\n",
    "- **Sécurité** : Authentification JWT et OAuth2\n",
    "- **Documentation** : Swagger/OpenAPI automatique\n",
    "- **Tests** : Testing d'APIs avec pytest\n",
    "\n",
    "### 🛠️ Prérequis :\n",
    "Exécutez d'abord la cellule système ci-dessous.\n",
    "\n",
    "---"
   ]
  },
  {
   "cell_type": "code",
   "execution_count": 4,
   "id": "57dc2f79",
   "metadata": {},
   "outputs": [
    {
     "name": "stdout",
     "output_type": "stream",
     "text": [
      "🌐 API Helper v1.0.0 chargé avec succès!\n",
      "💡 Tapez api_helper.help('section') pour obtenir de l'aide\n",
      "📚 Sections disponibles: 7.1.1, 7.1.2, 7.2.1, 7.2.2, 7.3.1, 7.3.2, 7.4.1, 7.4.2\n"
     ]
    }
   ],
   "source": [
    "exec(open('helpers/api_helper.py').read())"
   ]
  },
  {
   "cell_type": "markdown",
   "id": "617ead32",
   "metadata": {},
   "source": [
    "---\n",
    "\n",
    "## 📚 Section 7.1 : Théorie des APIs\n",
    "\n",
    "### 🎯 Objectif :\n",
    "Comprendre les différents types d'APIs et leurs cas d'usage."
   ]
  },
  {
   "cell_type": "markdown",
   "id": "f368fd48",
   "metadata": {},
   "source": [
    "### 📝 Étape 7.1.1 : SOAP vs REST vs GraphQL\n",
    "\n",
    "**Instructions :**\n",
    "Analyser les différences entre les protocoles d'API."
   ]
  },
  {
   "cell_type": "code",
   "execution_count": null,
   "id": "55781ff7",
   "metadata": {},
   "outputs": [],
   "source": [
    "# 📝 ÉTAPE 7.1.1 : Comparaison des protocoles API\n",
    "# Exécutez cette cellule pour voir la comparaison interactive\n",
    "\n",
    "api_helper.compare_protocols()"
   ]
  },
  {
   "cell_type": "code",
   "execution_count": 5,
   "id": "375f5776",
   "metadata": {},
   "outputs": [
    {
     "data": {
      "text/html": [
       "\n",
       "        <div style='background: linear-gradient(135deg, #667eea 0%, #764ba2 100%); \n",
       "                    padding: 20px; border-radius: 10px; color: white; margin: 10px 0;'>\n",
       "            <h2>🌐 Section 7.1.1 : Comparaison SOAP vs REST vs GraphQL</h2>\n",
       "            <p>Utilisez la méthode <code>api_helper.compare_protocols()</code> pour voir un tableau détaillé des différences.</p>\n",
       "            <p><strong>Points clés :</strong></p>\n",
       "            <ul>\n",
       "                <li><strong>SOAP :</strong> Protocol complexe, XML, sécurité robuste</li>\n",
       "                <li><strong>REST :</strong> Simple, léger, JSON, caches HTTP</li>\n",
       "                <li><strong>GraphQL :</strong> Flexible, query précise, single endpoint</li>\n",
       "            </ul>\n",
       "        </div>\n",
       "        "
      ],
      "text/plain": [
       "<IPython.core.display.HTML object>"
      ]
     },
     "metadata": {},
     "output_type": "display_data"
    }
   ],
   "source": [
    "# 💡 Aide pour l'étape 7.1.1\n",
    "api_helper.help(\"7.1.1\")"
   ]
  },
  {
   "cell_type": "markdown",
   "id": "78a4c76d",
   "metadata": {},
   "source": [
    "### 📝 Étape 7.1.2 : Principes REST\n",
    "\n",
    "**Instructions :**\n",
    "Comprendre les 6 contraintes de l'architecture REST."
   ]
  },
  {
   "cell_type": "code",
   "execution_count": null,
   "id": "24f4a878",
   "metadata": {},
   "outputs": [],
   "source": [
    "# 📝 ÉTAPE 7.1.2 : Architecture RESTful\n",
    "# Analysez ces exemples d'endpoints REST :\n",
    "\n",
    "# ✅ Bonnes pratiques REST :\n",
    "good_endpoints = {\n",
    "    \"GET /api/v1/users\": \"Récupérer tous les utilisateurs\",\n",
    "    \"GET /api/v1/users/123\": \"Récupérer l'utilisateur 123\",\n",
    "    \"POST /api/v1/users\": \"Créer un nouvel utilisateur\", \n",
    "    \"PUT /api/v1/users/123\": \"Modifier complètement l'utilisateur 123\",\n",
    "    \"PATCH /api/v1/users/123\": \"Modifier partiellement l'utilisateur 123\",\n",
    "    \"DELETE /api/v1/users/123\": \"Supprimer l'utilisateur 123\"\n",
    "}\n",
    "\n",
    "# ❌ Mauvaises pratiques :\n",
    "bad_endpoints = {\n",
    "    \"GET /api/getUsers\": \"Verbe dans l'URL\",\n",
    "    \"POST /api/users/delete/123\": \"Action dans l'URL avec mauvaise méthode\",\n",
    "    \"GET /api/user123\": \"ID collé au nom de ressource\"\n",
    "}\n",
    "\n",
    "# 👇 Analysez et proposez des améliorations :"
   ]
  },
  {
   "cell_type": "code",
   "execution_count": 6,
   "id": "88280af9",
   "metadata": {},
   "outputs": [
    {
     "data": {
      "text/html": [
       "\n",
       "        <div style='background: linear-gradient(135deg, #667eea 0%, #764ba2 100%); \n",
       "                    padding: 20px; border-radius: 10px; color: white; margin: 10px 0;'>\n",
       "            <h2>🌐 Section 7.1.2 : Principes REST</h2>\n",
       "            <p><strong>Les 6 contraintes REST :</strong></p>\n",
       "            <ol>\n",
       "                <li><strong>Client-Server :</strong> Séparation des responsabilités</li>\n",
       "                <li><strong>Stateless :</strong> Chaque requête est indépendante</li>\n",
       "                <li><strong>Cacheable :</strong> Les réponses peuvent être mises en cache</li>\n",
       "                <li><strong>Uniform Interface :</strong> Interface uniforme (HTTP verbs, URIs)</li>\n",
       "                <li><strong>Layered System :</strong> Architecture en couches</li>\n",
       "                <li><strong>Code on Demand :</strong> (Optionnel) Serveur peut envoyer du code</li>\n",
       "            </ol>\n",
       "            <p><strong>💡 Bonnes pratiques :</strong> Utilisez les noms de ressources au pluriel, verbes HTTP appropriés, codes de statut corrects.</p>\n",
       "        </div>\n",
       "        "
      ],
      "text/plain": [
       "<IPython.core.display.HTML object>"
      ]
     },
     "metadata": {},
     "output_type": "display_data"
    }
   ],
   "source": [
    "# 💡 Aide pour l'étape 7.1.2\n",
    "api_helper.help(\"7.1.2\")"
   ]
  },
  {
   "cell_type": "markdown",
   "id": "7bac5cba",
   "metadata": {},
   "source": [
    "---\n",
    "\n",
    "## 🚀 Section 7.2 : FastAPI Basics\n",
    "\n",
    "### 🎯 Objectif :\n",
    "Créer votre première API avec FastAPI."
   ]
  },
  {
   "cell_type": "markdown",
   "id": "c1b0e168",
   "metadata": {},
   "source": [
    "### 📝 Étape 7.2.1 : Première API FastAPI\n",
    "\n",
    "**Instructions :**\n",
    "Créer une API simple avec plusieurs endpoints."
   ]
  },
  {
   "cell_type": "code",
   "execution_count": null,
   "id": "5d9b8ec4",
   "metadata": {},
   "outputs": [],
   "source": [
    "# 📝 ÉTAPE 7.2.1 : API FastAPI de base\n",
    "# Créez votre première API avec ces endpoints :\n",
    "\n",
    "from fastapi import FastAPI, HTTPException\n",
    "from pydantic import BaseModel\n",
    "from typing import List, Optional\n",
    "import uvicorn\n",
    "from datetime import datetime\n",
    "\n",
    "# Créer l'application FastAPI\n",
    "app = FastAPI(\n",
    "    title=\"Mon API d'exemple\",\n",
    "    description=\"Une API pour apprendre FastAPI\",\n",
    "    version=\"1.0.0\"\n",
    ")\n",
    "\n",
    "# Modèle Pydantic pour validation\n",
    "class User(BaseModel):\n",
    "    id: Optional[int] = None\n",
    "    name: str\n",
    "    email: str\n",
    "    age: int\n",
    "    created_at: Optional[datetime] = None\n",
    "\n",
    "# Base de données simulée\n",
    "users_db = []\n",
    "next_id = 1\n",
    "\n",
    "# 👇 Implémentez ces endpoints :\n",
    "# GET / - Page d'accueil\n",
    "# GET /users - Lister tous les utilisateurs  \n",
    "# GET /users/{user_id} - Obtenir un utilisateur\n",
    "# POST /users - Créer un utilisateur\n",
    "# PUT /users/{user_id} - Modifier un utilisateur\n",
    "# DELETE /users/{user_id} - Supprimer un utilisateur"
   ]
  },
  {
   "cell_type": "code",
   "execution_count": 7,
   "id": "f1ab8595",
   "metadata": {},
   "outputs": [
    {
     "data": {
      "text/html": [
       "\n",
       "        <div style='background: linear-gradient(135deg, #667eea 0%, #764ba2 100%); \n",
       "                    padding: 20px; border-radius: 10px; color: white; margin: 10px 0;'>\n",
       "            <h2>🚀 Section 7.2.1 : FastAPI Basics</h2>\n",
       "            <p><strong>Endpoints à implémenter :</strong></p>\n",
       "            <ul>\n",
       "                <li><code>@app.get(\"/\")</code> - Page d'accueil</li>\n",
       "                <li><code>@app.get(\"/users\")</code> - Lister utilisateurs</li>\n",
       "                <li><code>@app.get(\"/users/{user_id}\")</code> - Obtenir un utilisateur</li>\n",
       "                <li><code>@app.post(\"/users\", status_code=201)</code> - Créer utilisateur</li>\n",
       "                <li><code>@app.put(\"/users/{user_id}\")</code> - Modifier utilisateur</li>\n",
       "                <li><code>@app.delete(\"/users/{user_id}\")</code> - Supprimer utilisateur</li>\n",
       "            </ul>\n",
       "            <p><strong>💡 Astuce :</strong> Utilisez <code>HTTPException(404, \"Message\")</code> pour les erreurs.</p>\n",
       "        </div>\n",
       "        "
      ],
      "text/plain": [
       "<IPython.core.display.HTML object>"
      ]
     },
     "metadata": {},
     "output_type": "display_data"
    }
   ],
   "source": [
    "# 💡 Aide pour l'étape 7.2.1\n",
    "api_helper.help(\"7.2.1\")"
   ]
  },
  {
   "cell_type": "markdown",
   "id": "009e2bc6",
   "metadata": {},
   "source": [
    "### 📝 Étape 7.2.2 : Validation et modèles Pydantic\n",
    "\n",
    "**Instructions :**\n",
    "Ajouter la validation avancée avec Pydantic."
   ]
  },
  {
   "cell_type": "code",
   "execution_count": null,
   "id": "902dbd1f",
   "metadata": {},
   "outputs": [],
   "source": [
    "# 📝 ÉTAPE 7.2.2 : Validation avancée\n",
    "# Créez des modèles Pydantic plus sophistiqués :\n",
    "\n",
    "from pydantic import BaseModel, EmailStr, validator, Field\n",
    "from typing import List, Optional\n",
    "from enum import Enum\n",
    "\n",
    "class UserRole(str, Enum):\n",
    "    admin = \"admin\"\n",
    "    user = \"user\"\n",
    "    moderator = \"moderator\"\n",
    "\n",
    "class UserCreate(BaseModel):\n",
    "    name: str = Field(..., min_length=2, max_length=50, description=\"Nom de l'utilisateur\")\n",
    "    email: EmailStr = Field(..., description=\"Email valide\")\n",
    "    age: int = Field(..., ge=13, le=120, description=\"Âge entre 13 et 120 ans\")\n",
    "    role: UserRole = Field(default=UserRole.user, description=\"Rôle de l'utilisateur\")\n",
    "    \n",
    "    @validator('name')\n",
    "    def name_must_contain_space_or_single_word(cls, v):\n",
    "        if len(v.split()) == 0:\n",
    "            raise ValueError('Le nom ne peut pas être vide')\n",
    "        return v.title()\n",
    "\n",
    "class UserResponse(BaseModel):\n",
    "    id: int\n",
    "    name: str\n",
    "    email: str\n",
    "    age: int\n",
    "    role: UserRole\n",
    "    created_at: datetime\n",
    "    \n",
    "    class Config:\n",
    "        from_attributes = True\n",
    "\n",
    "# 👇 Modifiez votre API pour utiliser ces modèles :"
   ]
  },
  {
   "cell_type": "code",
   "execution_count": null,
   "id": "5f5cb607",
   "metadata": {},
   "outputs": [],
   "source": [
    "# 💡 Aide pour l'étape 7.2.2\n",
    "api_helper.help(\"7.2.2\")"
   ]
  },
  {
   "cell_type": "markdown",
   "id": "787b9f61",
   "metadata": {},
   "source": [
    "---\n",
    "\n",
    "## 🔒 Section 7.3 : Sécurité et Authentification\n",
    "\n",
    "### 🎯 Objectif :\n",
    "Sécuriser votre API avec JWT et OAuth2."
   ]
  },
  {
   "cell_type": "markdown",
   "id": "634e90f1",
   "metadata": {},
   "source": [
    "### 📝 Étape 7.3.1 : Authentification JWT\n",
    "\n",
    "**Instructions :**\n",
    "Implémenter l'authentification par token JWT."
   ]
  },
  {
   "cell_type": "code",
   "execution_count": null,
   "id": "77aef2ef",
   "metadata": {},
   "outputs": [],
   "source": [
    "# 📝 ÉTAPE 7.3.1 : Authentification JWT\n",
    "# Implémentez l'authentification avec JWT :\n",
    "\n",
    "from fastapi import Depends, HTTPException, status\n",
    "from fastapi.security import HTTPBearer, HTTPAuthorizationCredentials\n",
    "from passlib.context import CryptContext\n",
    "from jose import JWTError, jwt\n",
    "from datetime import datetime, timedelta\n",
    "import os\n",
    "\n",
    "# Configuration JWT\n",
    "SECRET_KEY = \"your-secret-key-change-in-production\"\n",
    "ALGORITHM = \"HS256\"\n",
    "ACCESS_TOKEN_EXPIRE_MINUTES = 30\n",
    "\n",
    "# Configuration du hashage de mot de passe\n",
    "pwd_context = CryptContext(schemes=[\"bcrypt\"], deprecated=\"auto\")\n",
    "security = HTTPBearer()\n",
    "\n",
    "# Modèles pour l'authentification\n",
    "class UserLogin(BaseModel):\n",
    "    email: str\n",
    "    password: str\n",
    "\n",
    "class Token(BaseModel):\n",
    "    access_token: str\n",
    "    token_type: str\n",
    "\n",
    "# Base de données utilisateurs (simulée)\n",
    "users_auth_db = {\n",
    "    \"admin@example.com\": {\n",
    "        \"id\": 1,\n",
    "        \"email\": \"admin@example.com\",\n",
    "        \"hashed_password\": \"$2b$12$EixZaYVK1fsbw1ZfbX3OXePaWxn96p36WQoeG6Lruj3vjPGga31lW\",  # secret\n",
    "        \"role\": \"admin\"\n",
    "    }\n",
    "}\n",
    "\n",
    "# 👇 Implémentez ces fonctions :\n",
    "# - verify_password()\n",
    "# - get_password_hash()\n",
    "# - create_access_token()\n",
    "# - verify_token()\n",
    "# - get_current_user()\n",
    "# - Endpoints /login et /protected"
   ]
  },
  {
   "cell_type": "code",
   "execution_count": null,
   "id": "7cdf5ca1",
   "metadata": {},
   "outputs": [],
   "source": [
    "# 💡 Aide pour l'étape 7.3.1\n",
    "api_helper.help(\"7.3.1\")"
   ]
  },
  {
   "cell_type": "markdown",
   "id": "8bd4cad1",
   "metadata": {},
   "source": [
    "### 📝 Étape 7.3.2 : Middleware et CORS\n",
    "\n",
    "**Instructions :**\n",
    "Ajouter des middlewares pour la sécurité et le CORS."
   ]
  },
  {
   "cell_type": "code",
   "execution_count": null,
   "id": "884fc35b",
   "metadata": {},
   "outputs": [],
   "source": [
    "# 📝 ÉTAPE 7.3.2 : Middleware et sécurité\n",
    "# Ajoutez ces middlewares à votre API :\n",
    "\n",
    "from fastapi.middleware.cors import CORSMiddleware\n",
    "from fastapi.middleware.gzip import GZipMiddleware\n",
    "from fastapi import Request\n",
    "import time\n",
    "\n",
    "# Middleware CORS\n",
    "app.add_middleware(\n",
    "    CORSMiddleware,\n",
    "    allow_origins=[\"http://localhost:3000\", \"http://localhost:8080\"],\n",
    "    allow_credentials=True,\n",
    "    allow_methods=[\"*\"],\n",
    "    allow_headers=[\"*\"],\n",
    ")\n",
    "\n",
    "# Middleware de compression\n",
    "app.add_middleware(GZipMiddleware, minimum_size=1000)\n",
    "\n",
    "# Middleware personnalisé pour logging\n",
    "@app.middleware(\"http\")\n",
    "async def log_requests(request: Request, call_next):\n",
    "    start_time = time.time()\n",
    "    response = await call_next(request)\n",
    "    process_time = time.time() - start_time\n",
    "    \n",
    "    print(f\"{request.method} {request.url.path} - {response.status_code} - {process_time:.4f}s\")\n",
    "    response.headers[\"X-Process-Time\"] = str(process_time)\n",
    "    return response\n",
    "\n",
    "# 👇 Testez votre API avec les middlewares :"
   ]
  },
  {
   "cell_type": "code",
   "execution_count": 8,
   "id": "8d354ef1",
   "metadata": {},
   "outputs": [
    {
     "data": {
      "text/html": [
       "\n",
       "        <div style='background: linear-gradient(135deg, #667eea 0%, #764ba2 100%); \n",
       "                    padding: 20px; border-radius: 10px; color: white; margin: 10px 0;'>\n",
       "            <h2>🛡️ Section 7.3.2 : Middleware et CORS</h2>\n",
       "            \n",
       "            <details style='margin: 15px 0; cursor: pointer;'>\n",
       "                <summary style='font-size: 18px; font-weight: bold; padding: 10px; \n",
       "                               background: rgba(255,255,255,0.1); border-radius: 5px;'>\n",
       "                    🔧 Concepts Middleware\n",
       "                </summary>\n",
       "                <div style='padding: 15px; background: rgba(255,255,255,0.05); margin-top: 10px; border-radius: 5px;'>\n",
       "                    <ul>\n",
       "                        <li><strong>CORS:</strong> Cross-Origin Resource Sharing - permet les requêtes cross-domain</li>\n",
       "                        <li><strong>GZip:</strong> Compression automatique des réponses</li>\n",
       "                        <li><strong>Middleware personnalisé:</strong> Traitement avant/après chaque requête</li>\n",
       "                        <li><strong>Logging:</strong> Enregistrement des requêtes pour monitoring</li>\n",
       "                    </ul>\n",
       "                    <h4>⚠️ Sécurité CORS :</h4>\n",
       "                    <p>En production, spécifiez des domaines précis au lieu de \"*\"</p>\n",
       "                </div>\n",
       "            </details>\n",
       "            \n",
       "            <details style='margin: 15px 0; cursor: pointer;'>\n",
       "                <summary style='font-size: 18px; font-weight: bold; padding: 10px; \n",
       "                               background: rgba(255,255,255,0.1); border-radius: 5px;'>\n",
       "                    🔧 Middlewares de sécurité\n",
       "                </summary>\n",
       "                <div style='padding: 15px; background: rgba(255,255,255,0.05); margin-top: 10px; border-radius: 5px;'>\n",
       "                    <p>Ajoutez ces middlewares :</p>\n",
       "                    <pre style='background: #2d3748; padding: 15px; border-radius: 5px; color: #e2e8f0;'>\n",
       "# Middleware de sécurité\n",
       "@app.middleware(\"http\")\n",
       "async def security_headers(request: Request, call_next):\n",
       "    response = await call_next(request)\n",
       "    response.headers[\"X-Content-Type-Options\"] = \"nosniff\"\n",
       "    response.headers[\"X-Frame-Options\"] = \"DENY\"\n",
       "    response.headers[\"X-XSS-Protection\"] = \"1; mode=block\"\n",
       "    return response\n",
       "\n",
       "# Rate limiting  \n",
       "from collections import defaultdict\n",
       "request_counts = defaultdict(list)\n",
       "\n",
       "@app.middleware(\"http\")\n",
       "async def rate_limit(request: Request, call_next):\n",
       "    client_ip = request.client.host\n",
       "    current_time = time.time()\n",
       "    \n",
       "    # Nettoyer les anciens timestamps\n",
       "    request_counts[client_ip] = [\n",
       "        t for t in request_counts[client_ip] \n",
       "        if current_time - t < 60\n",
       "    ]\n",
       "    \n",
       "    # Vérifier limite (100 req/min)\n",
       "    if len(request_counts[client_ip]) >= 100:\n",
       "        raise HTTPException(429, \"Trop de requêtes\")\n",
       "    \n",
       "    request_counts[client_ip].append(current_time)\n",
       "    return await call_next(request)</pre>\n",
       "                </div>\n",
       "            </details>\n",
       "            \n",
       "            <details style='margin: 15px 0; cursor: pointer;'>\n",
       "                <summary style='font-size: 18px; font-weight: bold; padding: 10px; \n",
       "                               background: rgba(255,255,255,0.1); border-radius: 5px;'>\n",
       "                    🧪 Tests des middlewares\n",
       "                </summary>\n",
       "                <div style='padding: 15px; background: rgba(255,255,255,0.05); margin-top: 10px; border-radius: 5px;'>\n",
       "                    <h4>Comment tester :</h4>\n",
       "                    <ol>\n",
       "                        <li><strong>CORS:</strong> Requête depuis un autre domaine</li>\n",
       "                        <li><strong>Compression:</strong> Header \"Content-Encoding: gzip\"</li>\n",
       "                        <li><strong>Logging:</strong> Observer les logs console</li>\n",
       "                        <li><strong>Sécurité:</strong> Inspecter headers HTTP</li>\n",
       "                    </ol>\n",
       "                    \n",
       "                    <h4>🧪 Commandes de test :</h4>\n",
       "                    <pre style='background: #2d3748; padding: 10px; border-radius: 5px; color: #e2e8f0;'>\n",
       "# Test CORS\n",
       "curl -H \"Origin: http://example.com\" -X OPTIONS http://localhost:8000/users\n",
       "\n",
       "# Test headers sécurité  \n",
       "curl -I http://localhost:8000/</pre>\n",
       "                    \n",
       "                    <h4>⚡ Endpoint de test :</h4>\n",
       "                    <pre style='background: #2d3748; padding: 10px; border-radius: 5px; color: #e2e8f0;'>\n",
       "@app.get(\"/test-middleware\")\n",
       "async def test_middleware():\n",
       "    return {\n",
       "        \"message\": \"Middleware actifs\",\n",
       "        \"timestamp\": datetime.now(),\n",
       "        \"size\": \"A\" * 2000  # Pour tester compression\n",
       "    }</pre>\n",
       "                </div>\n",
       "            </details>\n",
       "        </div>\n",
       "        "
      ],
      "text/plain": [
       "<IPython.core.display.HTML object>"
      ]
     },
     "metadata": {},
     "output_type": "display_data"
    }
   ],
   "source": [
    "# 💡 Aide pour l'étape 7.3.2\n",
    "api_helper.help(\"7.3.2\")"
   ]
  },
  {
   "cell_type": "markdown",
   "id": "eee1a552",
   "metadata": {},
   "source": [
    "---\n",
    "\n",
    "## 🧪 Section 7.4 : Tests et Déploiement\n",
    "\n",
    "### 🎯 Objectif :\n",
    "Tester et déployer votre API en production."
   ]
  },
  {
   "cell_type": "markdown",
   "id": "fda800df",
   "metadata": {},
   "source": [
    "### 📝 Étape 7.4.1 : Tests automatisés\n",
    "\n",
    "**Instructions :**\n",
    "Créer des tests complets pour votre API."
   ]
  },
  {
   "cell_type": "code",
   "execution_count": null,
   "id": "bf01359f",
   "metadata": {},
   "outputs": [],
   "source": [
    "# 📝 ÉTAPE 7.4.1 : Tests d'API\n",
    "# Créez des tests avec pytest et TestClient :\n",
    "\n",
    "from fastapi.testclient import TestClient\n",
    "import pytest\n",
    "\n",
    "# Client de test\n",
    "client = TestClient(app)\n",
    "\n",
    "# Tests de base\n",
    "def test_read_main():\n",
    "    response = client.get(\"/\")\n",
    "    assert response.status_code == 200\n",
    "    assert \"API\" in response.json()[\"message\"]\n",
    "\n",
    "def test_create_user():\n",
    "    user_data = {\n",
    "        \"name\": \"Test User\",\n",
    "        \"email\": \"test@example.com\",\n",
    "        \"age\": 25,\n",
    "        \"role\": \"user\"\n",
    "    }\n",
    "    response = client.post(\"/users\", json=user_data)\n",
    "    assert response.status_code == 201\n",
    "    assert response.json()[\"email\"] == user_data[\"email\"]\n",
    "\n",
    "def test_get_users():\n",
    "    response = client.get(\"/users\")\n",
    "    assert response.status_code == 200\n",
    "    assert isinstance(response.json(), list)\n",
    "\n",
    "# Tests d'authentification\n",
    "def test_login():\n",
    "    login_data = {\n",
    "        \"email\": \"admin@example.com\",\n",
    "        \"password\": \"secret\"\n",
    "    }\n",
    "    response = client.post(\"/login\", json=login_data)\n",
    "    assert response.status_code == 200\n",
    "    assert \"access_token\" in response.json()\n",
    "\n",
    "# Tests d'erreurs\n",
    "def test_get_user_not_found():\n",
    "    response = client.get(\"/users/999\")\n",
    "    assert response.status_code == 404\n",
    "\n",
    "# 👇 Exécutez les tests :\n",
    "if __name__ == \"__main__\":\n",
    "    pytest.main([\"-v\", \"--tb=short\"])"
   ]
  },
  {
   "cell_type": "code",
   "execution_count": 9,
   "id": "b5b23c84",
   "metadata": {},
   "outputs": [
    {
     "data": {
      "text/html": [
       "\n",
       "        <div style='background: linear-gradient(135deg, #667eea 0%, #764ba2 100%); \n",
       "                    padding: 20px; border-radius: 10px; color: white; margin: 10px 0;'>\n",
       "            <h2>🧪 Section 7.4.1 : Tests</h2>\n",
       "            <p><strong>Types de tests :</strong></p>\n",
       "            <ul>\n",
       "                <li><strong>Tests endpoints :</strong> TestClient(app)</li>\n",
       "                <li><strong>Tests validation :</strong> Données invalides → 422</li>\n",
       "                <li><strong>Tests auth :</strong> Avec/sans token</li>\n",
       "                <li><strong>Tests erreurs :</strong> 404, 401, etc.</li>\n",
       "            </ul>\n",
       "            <p><strong>💡 Commande :</strong> <code>pytest -v</code> pour exécuter les tests</p>\n",
       "            <p><strong>📊 Couverture :</strong> <code>pytest --cov=main</code></p>\n",
       "        </div>\n",
       "        "
      ],
      "text/plain": [
       "<IPython.core.display.HTML object>"
      ]
     },
     "metadata": {},
     "output_type": "display_data"
    }
   ],
   "source": [
    "# 💡 Aide pour l'étape 7.4.1\n",
    "api_helper.help(\"7.4.1\")"
   ]
  },
  {
   "cell_type": "markdown",
   "id": "2441fc31",
   "metadata": {},
   "source": [
    "### 📝 Étape 7.4.2 : Déploiement et monitoring\n",
    "\n",
    "**Instructions :**\n",
    "Préparer l'API pour la production."
   ]
  },
  {
   "cell_type": "code",
   "execution_count": null,
   "id": "e7e78c0a",
   "metadata": {},
   "outputs": [],
   "source": [
    "# 📝 ÉTAPE 7.4.2 : Configuration production\n",
    "# Configurez votre API pour la production :\n",
    "\n",
    "from fastapi import FastAPI\n",
    "from fastapi.responses import JSONResponse\n",
    "import logging\n",
    "from contextlib import asynccontextmanager\n",
    "\n",
    "# Configuration du logging\n",
    "logging.basicConfig(\n",
    "    level=logging.INFO,\n",
    "    format=\"%(asctime)s - %(name)s - %(levelname)s - %(message)s\"\n",
    ")\n",
    "logger = logging.getLogger(__name__)\n",
    "\n",
    "# Gestionnaire d'événements de cycle de vie\n",
    "@asynccontextmanager\n",
    "async def lifespan(app: FastAPI):\n",
    "    # Startup\n",
    "    logger.info(\"API démarrée\")\n",
    "    yield\n",
    "    # Shutdown\n",
    "    logger.info(\"API arrêtée\")\n",
    "\n",
    "# Configuration de production\n",
    "app_prod = FastAPI(\n",
    "    title=\"Production API\",\n",
    "    description=\"API prête pour la production\",\n",
    "    version=\"1.0.0\",\n",
    "    lifespan=lifespan,\n",
    "    docs_url=\"/docs\",  # Swagger UI\n",
    "    redoc_url=\"/redoc\", # ReDoc\n",
    "    openapi_url=\"/openapi.json\"\n",
    ")\n",
    "\n",
    "# Gestionnaire d'erreurs global\n",
    "@app_prod.exception_handler(Exception)\n",
    "async def global_exception_handler(request, exc):\n",
    "    logger.error(f\"Erreur non gérée: {exc}\")\n",
    "    return JSONResponse(\n",
    "        status_code=500,\n",
    "        content={\"message\": \"Erreur interne du serveur\"}\n",
    "    )\n",
    "\n",
    "# Endpoint de santé\n",
    "@app_prod.get(\"/health\")\n",
    "async def health_check():\n",
    "    return {\"status\": \"healthy\", \"timestamp\": datetime.now()}\n",
    "\n",
    "# 👇 Lancez en mode production :\n",
    "# uvicorn main:app_prod --host 0.0.0.0 --port 8000 --workers 4"
   ]
  },
  {
   "cell_type": "code",
   "execution_count": 10,
   "id": "e89534ae",
   "metadata": {},
   "outputs": [
    {
     "data": {
      "text/html": [
       "\n",
       "        <div style='background: linear-gradient(135deg, #667eea 0%, #764ba2 100%); \n",
       "                    padding: 20px; border-radius: 10px; color: white; margin: 10px 0;'>\n",
       "            <h2>🚀 Section 7.4.2 : Déploiement</h2>\n",
       "            <p><strong>Configuration production :</strong></p>\n",
       "            <ul>\n",
       "                <li><strong>Logging :</strong> Configuration structurée</li>\n",
       "                <li><strong>Variables d'env :</strong> Secrets sécurisés</li>\n",
       "                <li><strong>Health checks :</strong> Endpoint /health</li>\n",
       "                <li><strong>Gestionnaire d'erreurs :</strong> Exception handler global</li>\n",
       "            </ul>\n",
       "            <p><strong>🐳 Docker :</strong> Dockerfile + docker-compose</p>\n",
       "            <p><strong>🚀 Commande :</strong> <code>uvicorn main:app --host 0.0.0.0 --port 8000 --workers 4</code></p>\n",
       "        </div>\n",
       "        "
      ],
      "text/plain": [
       "<IPython.core.display.HTML object>"
      ]
     },
     "metadata": {},
     "output_type": "display_data"
    }
   ],
   "source": [
    "# 💡 Aide pour l'étape 7.4.2\n",
    "api_helper.help(\"7.4.2\")"
   ]
  },
  {
   "cell_type": "markdown",
   "id": "16e6ed06",
   "metadata": {},
   "source": [
    "---\n",
    "\n",
    "## 🎊 FÉLICITATIONS !\n",
    "\n",
    "Vous avez terminé le module API ! Vous maîtrisez maintenant :\n",
    "\n",
    "### ✅ Ce que vous avez appris :\n",
    "- **Théorie** : SOAP, REST, GraphQL et architectures d'API\n",
    "- **FastAPI** : Framework moderne pour créer des APIs Python\n",
    "- **Validation** : Modèles Pydantic et validation automatique\n",
    "- **Sécurité** : JWT, OAuth2, CORS et middlewares\n",
    "- **Tests** : Tests automatisés avec pytest et TestClient\n",
    "- **Production** : Déploiement, logging et monitoring\n",
    "\n",
    "### 🚀 Prochaines étapes :\n",
    "- Explorez GraphQL avec Strawberry ou Ariadne\n",
    "- Intégrez avec des bases de données (SQLAlchemy, Tortoise ORM)\n",
    "- Déployez sur le cloud (AWS, GCP, Azure)\n",
    "- Apprenez les microservices et l'architecture distribuée\n",
    "\n",
    "**🎯 Votre formation Python Data est maintenant complète !**"
   ]
  }
 ],
 "metadata": {
  "kernelspec": {
   "display_name": ".venvexoultime (3.12.11)",
   "language": "python",
   "name": "python3"
  },
  "language_info": {
   "codemirror_mode": {
    "name": "ipython",
    "version": 3
   },
   "file_extension": ".py",
   "mimetype": "text/x-python",
   "name": "python",
   "nbconvert_exporter": "python",
   "pygments_lexer": "ipython3",
   "version": "3.12.11"
  }
 },
 "nbformat": 4,
 "nbformat_minor": 5
}
