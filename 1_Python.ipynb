{
 "cells": [
  {
   "cell_type": "markdown",
   "id": "b43d4c25",
   "metadata": {},
   "source": [
    "# 🎓 EXERCICE PYTHON\n",
    "\n",
    "## 📚 Guide d'Apprentissage Progressif\n",
    "\n",
    "### 🛠️ Comment utiliser ce notebook :\n",
    "1. **Écrivez votre code** dans les cellules prévues\n",
    "2. **Consultez les solutions** si nécessaire (cachées par défaut)\n",
    "3. **Passez à l'étape suivante** une fois validée\n",
    "\n",
    "---"
   ]
  },
  {
   "cell_type": "code",
   "execution_count": 37,
   "id": "d6197b02",
   "metadata": {},
   "outputs": [
    {
     "name": "stdout",
     "output_type": "stream",
     "text": [
      "🚀 Chargement du système d'aide Python...\n",
      "🎯 Système d'aide Python chargé avec succès !\n",
      "📚 Fonctions disponibles:\n",
      "  • helper.help('1.1.1') - Aide pour une étape spécifique\n",
      "  • helper.solution('code') - Afficher une solution\n",
      "  • helper.hint('conseil') - Afficher un conseil\n"
     ]
    },
    {
     "data": {
      "application/vnd.jupyter.widget-view+json": {
       "model_id": "fa2a3083aac047f5a5c4bfb9c071bdd4",
       "version_major": 2,
       "version_minor": 0
      },
      "text/plain": [
       "VBox(children=(Button(button_style='info', description='📦 Installer packages', icon='download', layout=Layout(…"
      ]
     },
     "metadata": {},
     "output_type": "display_data"
    }
   ],
   "source": [
    "exec(open('helpers/python_basics_helper.py').read())"
   ]
  },
  {
   "cell_type": "markdown",
   "id": "5bac260b",
   "metadata": {},
   "source": [
    "---\n",
    "\n",
    "# 🎯 PARTIE 1 : FONDAMENTAUX PYTHON\n",
    "\n",
    "## 🌟 Section 1.1 : Variables et Types de Données\n",
    "\n",
    "### 🎯 Objectif :\n",
    "Maîtriser les types de base : `str`, `int`, `float`, `bool`, `list`, `dict`"
   ]
  },
  {
   "cell_type": "markdown",
   "id": "af9223f8",
   "metadata": {},
   "source": [
    "### 📝 Étape 1.1.1 : Créer votre première variable\n",
    "\n",
    "**Instructions :**\n",
    "Créer une variable `nom` qui contient votre prénom."
   ]
  },
  {
   "cell_type": "code",
   "execution_count": 27,
   "id": "96371bcd",
   "metadata": {},
   "outputs": [],
   "source": [
    "# 📝 ÉTAPE 1.1.1 : Votre première variable\n",
    "# Créez une variable 'nom' avec votre prénom\n",
    "# Exemple : nom = \"Marie\"\n",
    "\n",
    "# 👇 Écrivez votre code ici :"
   ]
  },
  {
   "cell_type": "code",
   "execution_count": 5,
   "id": "2be48b08",
   "metadata": {},
   "outputs": [
    {
     "data": {
      "text/html": [
       "\n",
       "        <details style=\"margin: 10px 0; border: 1px solid #ddd; border-radius: 5px; padding: 5px; background: #f9f9f9;\">\n",
       "            <summary style=\"cursor: pointer; background: #fff3e0; padding: 10px; border-radius: 3px; font-weight: bold; color: #ef6c00;\">\n",
       "                💡 Conseil (cliquer pour dérouler)\n",
       "            </summary>\n",
       "            <div style=\"padding: 15px; margin-top: 10px; background: white; border-radius: 3px;\">\n",
       "                <p style=\"margin: 0; color: #333;\">Une chaîne de caractères utilise des guillemets : nom = 'Pierre' ou nom = \"Pierre\"</p>\n",
       "            </div>\n",
       "        </details>\n",
       "        "
      ],
      "text/plain": [
       "<IPython.core.display.HTML object>"
      ]
     },
     "metadata": {},
     "output_type": "display_data"
    },
    {
     "data": {
      "text/html": [
       "\n",
       "        <details style=\"margin: 10px 0; border: 1px solid #ddd; border-radius: 5px; padding: 5px; background: #f9f9f9;\">\n",
       "            <summary style=\"cursor: pointer; background: #e8f5e8; padding: 10px; border-radius: 3px; font-weight: bold; color: #2e7d32;\">\n",
       "                🔍 Solution (cliquer pour dérouler)\n",
       "            </summary>\n",
       "            <div style=\"padding: 15px; margin-top: 10px; background: white; border-radius: 3px;\">\n",
       "                <p><strong>💡 Explication :</strong> En Python, on peut utiliser des guillemets simples ' ou doubles \" pour créer une chaîne.</p>\n",
       "                <pre style=\"background: #f5f5f5; padding: 10px; border-radius: 3px; overflow-x: auto; border-left: 3px solid #4caf50;\"><code>nom = 'Pierre'  # Une chaîne de caractères (string)</code></pre>\n",
       "            </div>\n",
       "        </details>\n",
       "        "
      ],
      "text/plain": [
       "<IPython.core.display.HTML object>"
      ]
     },
     "metadata": {},
     "output_type": "display_data"
    }
   ],
   "source": [
    "# 💡 Aide pour l'étape 1.1.1\n",
    "helper.help(\"1.1.1\")"
   ]
  },
  {
   "cell_type": "markdown",
   "id": "a2c3a228",
   "metadata": {},
   "source": [
    "### 📝 Étape 1.1.2 : Variable numérique\n",
    "\n",
    "**Instructions :**\n",
    "Créer une variable `age` avec votre âge (nombre entier)."
   ]
  },
  {
   "cell_type": "code",
   "execution_count": 28,
   "id": "48aa4935",
   "metadata": {},
   "outputs": [],
   "source": [
    "# 📝 ÉTAPE 1.1.2 : Variable numérique\n",
    "# Créez une variable 'age' avec votre âge\n",
    "# Note : pas de guillemets pour les nombres !\n",
    "\n",
    "# 👇 Écrivez votre code ici :"
   ]
  },
  {
   "cell_type": "code",
   "execution_count": 9,
   "id": "5ed0b123",
   "metadata": {},
   "outputs": [
    {
     "data": {
      "text/html": [
       "\n",
       "        <details style=\"margin: 10px 0; border: 1px solid #ddd; border-radius: 5px; padding: 5px; background: #f9f9f9;\">\n",
       "            <summary style=\"cursor: pointer; background: #fff3e0; padding: 10px; border-radius: 3px; font-weight: bold; color: #ef6c00;\">\n",
       "                💡 Conseil (cliquer pour dérouler)\n",
       "            </summary>\n",
       "            <div style=\"padding: 15px; margin-top: 10px; background: white; border-radius: 3px;\">\n",
       "                <p style=\"margin: 0; color: #333;\">Un nombre entier s'écrit sans guillemets : age = 25</p>\n",
       "            </div>\n",
       "        </details>\n",
       "        "
      ],
      "text/plain": [
       "<IPython.core.display.HTML object>"
      ]
     },
     "metadata": {},
     "output_type": "display_data"
    },
    {
     "data": {
      "text/html": [
       "\n",
       "        <details style=\"margin: 10px 0; border: 1px solid #ddd; border-radius: 5px; padding: 5px; background: #f9f9f9;\">\n",
       "            <summary style=\"cursor: pointer; background: #e8f5e8; padding: 10px; border-radius: 3px; font-weight: bold; color: #2e7d32;\">\n",
       "                🔍 Solution (cliquer pour dérouler)\n",
       "            </summary>\n",
       "            <div style=\"padding: 15px; margin-top: 10px; background: white; border-radius: 3px;\">\n",
       "                <p><strong>💡 Explication :</strong> Les nombres entiers (int) s'écrivent directement sans guillemets. Python les reconnaît automatiquement.</p>\n",
       "                <pre style=\"background: #f5f5f5; padding: 10px; border-radius: 3px; overflow-x: auto; border-left: 3px solid #4caf50;\"><code>age = 25  # Un nombre entier (int)</code></pre>\n",
       "            </div>\n",
       "        </details>\n",
       "        "
      ],
      "text/plain": [
       "<IPython.core.display.HTML object>"
      ]
     },
     "metadata": {},
     "output_type": "display_data"
    }
   ],
   "source": [
    "# 💡 Aide pour l'étape 1.1.2\n",
    "helper.help(\"1.1.2\")"
   ]
  },
  {
   "cell_type": "markdown",
   "id": "e0da525d",
   "metadata": {},
   "source": [
    "### 📝 Étape 1.1.3 : Variable décimale\n",
    "\n",
    "**Instructions :**\n",
    "Créer une variable `salaire` de type float (nombre décimal)."
   ]
  },
  {
   "cell_type": "code",
   "execution_count": 29,
   "id": "823da0b1",
   "metadata": {},
   "outputs": [],
   "source": [
    "# 📝 ÉTAPE 1.1.3 : Variable décimale\n",
    "# Créez une variable 'salaire' avec un salaire fictif (ex: 45000.50)\n",
    "# Utilisez un point pour les décimales (pas de virgule !)\n",
    "\n",
    "# 👇 Écrivez votre code ici :"
   ]
  },
  {
   "cell_type": "code",
   "execution_count": 11,
   "id": "468ac6fd",
   "metadata": {},
   "outputs": [
    {
     "data": {
      "text/html": [
       "\n",
       "        <details style=\"margin: 10px 0; border: 1px solid #ddd; border-radius: 5px; padding: 5px; background: #f9f9f9;\">\n",
       "            <summary style=\"cursor: pointer; background: #fff3e0; padding: 10px; border-radius: 3px; font-weight: bold; color: #ef6c00;\">\n",
       "                💡 Conseil (cliquer pour dérouler)\n",
       "            </summary>\n",
       "            <div style=\"padding: 15px; margin-top: 10px; background: white; border-radius: 3px;\">\n",
       "                <p style=\"margin: 0; color: #333;\">Un nombre décimal utilise un point : salaire = 45000.50</p>\n",
       "            </div>\n",
       "        </details>\n",
       "        "
      ],
      "text/plain": [
       "<IPython.core.display.HTML object>"
      ]
     },
     "metadata": {},
     "output_type": "display_data"
    },
    {
     "data": {
      "text/html": [
       "\n",
       "        <details style=\"margin: 10px 0; border: 1px solid #ddd; border-radius: 5px; padding: 5px; background: #f9f9f9;\">\n",
       "            <summary style=\"cursor: pointer; background: #e8f5e8; padding: 10px; border-radius: 3px; font-weight: bold; color: #2e7d32;\">\n",
       "                🔍 Solution (cliquer pour dérouler)\n",
       "            </summary>\n",
       "            <div style=\"padding: 15px; margin-top: 10px; background: white; border-radius: 3px;\">\n",
       "                <p><strong>💡 Explication :</strong> En Python, on utilise le point (.) pour séparer les décimales, jamais la virgule.</p>\n",
       "                <pre style=\"background: #f5f5f5; padding: 10px; border-radius: 3px; overflow-x: auto; border-left: 3px solid #4caf50;\"><code>salaire = 45000.50  # Un nombre décimal (float)</code></pre>\n",
       "            </div>\n",
       "        </details>\n",
       "        "
      ],
      "text/plain": [
       "<IPython.core.display.HTML object>"
      ]
     },
     "metadata": {},
     "output_type": "display_data"
    }
   ],
   "source": [
    "# 💡 Aide pour l'étape 1.1.3\n",
    "helper.help(\"1.1.3\")"
   ]
  },
  {
   "cell_type": "markdown",
   "id": "5b5a57b5",
   "metadata": {},
   "source": [
    "### 📝 Étape 1.1.4 : Créer une liste\n",
    "\n",
    "**Instructions :**\n",
    "Créer une liste `competences` avec 5 compétences techniques."
   ]
  },
  {
   "cell_type": "code",
   "execution_count": 30,
   "id": "2dc90562",
   "metadata": {},
   "outputs": [],
   "source": [
    "# 📝 ÉTAPE 1.1.4 : Créer une liste\n",
    "# Créez une liste 'competences' avec 5 compétences techniques\n",
    "# Exemple : [\"Python\", \"SQL\", \"Docker\", \"MongoDB\", \"Git\"]\n",
    "# Utilisez les crochets [] et séparez par des virgules\n",
    "\n",
    "# 👇 Écrivez votre code ici :"
   ]
  },
  {
   "cell_type": "code",
   "execution_count": 2,
   "id": "cda166a7",
   "metadata": {},
   "outputs": [
    {
     "data": {
      "text/html": [
       "\n",
       "        <details style=\"margin: 10px 0; border: 1px solid #ddd; border-radius: 5px; padding: 5px; background: #f9f9f9;\">\n",
       "            <summary style=\"cursor: pointer; background: #fff3e0; padding: 10px; border-radius: 3px; font-weight: bold; color: #ef6c00;\">\n",
       "                💡 Conseil (cliquer pour dérouler)\n",
       "            </summary>\n",
       "            <div style=\"padding: 15px; margin-top: 10px; background: white; border-radius: 3px;\">\n",
       "                <p style=\"margin: 0; color: #333;\">Une liste se crée avec des crochets : competences = ['Python', 'SQL', 'Docker', 'MongoDB', 'Git']</p>\n",
       "            </div>\n",
       "        </details>\n",
       "        "
      ],
      "text/plain": [
       "<IPython.core.display.HTML object>"
      ]
     },
     "metadata": {},
     "output_type": "display_data"
    },
    {
     "data": {
      "text/html": [
       "\n",
       "        <details style=\"margin: 10px 0; border: 1px solid #ddd; border-radius: 5px; padding: 5px; background: #f9f9f9;\">\n",
       "            <summary style=\"cursor: pointer; background: #e8f5e8; padding: 10px; border-radius: 3px; font-weight: bold; color: #2e7d32;\">\n",
       "                🔍 Solution (cliquer pour dérouler)\n",
       "            </summary>\n",
       "            <div style=\"padding: 15px; margin-top: 10px; background: white; border-radius: 3px;\">\n",
       "                <p><strong>💡 Explication :</strong> Une liste (list) contient plusieurs éléments entre crochets, séparés par des virgules.</p>\n",
       "                <pre style=\"background: #f5f5f5; padding: 10px; border-radius: 3px; overflow-x: auto; border-left: 3px solid #4caf50;\"><code>competences = ['Python', 'SQL', 'Docker', 'MongoDB', 'Git']</code></pre>\n",
       "            </div>\n",
       "        </details>\n",
       "        "
      ],
      "text/plain": [
       "<IPython.core.display.HTML object>"
      ]
     },
     "metadata": {},
     "output_type": "display_data"
    }
   ],
   "source": [
    "# 💡 Aide pour l'étape 1.1.4\n",
    "helper.help(\"1.1.4\")"
   ]
  },
  {
   "cell_type": "markdown",
   "id": "049434af",
   "metadata": {},
   "source": [
    "### 📝 Étape 1.1.5 : Créer un dictionnaire\n",
    "\n",
    "**Instructions :**\n",
    "Créer un dictionnaire `profil` qui combine toutes vos variables."
   ]
  },
  {
   "cell_type": "code",
   "execution_count": 31,
   "id": "3c8e0f87",
   "metadata": {},
   "outputs": [],
   "source": [
    "# 📝 ÉTAPE 1.1.5 : Créer un dictionnaire\n",
    "# Créez un dictionnaire 'profil' avec les clés :\n",
    "# - \"nom\" : votre variable nom\n",
    "# - \"age\" : votre variable age  \n",
    "# - \"salaire\" : votre variable salaire\n",
    "# - \"competences\" : votre variable competences\n",
    "# Format : {\"clé\": valeur, \"clé2\": valeur2}\n",
    "\n",
    "# 👇 Écrivez votre code ici :"
   ]
  },
  {
   "cell_type": "code",
   "execution_count": 32,
   "id": "1e87c810",
   "metadata": {},
   "outputs": [
    {
     "data": {
      "text/html": [
       "\n",
       "        <details style=\"margin: 10px 0; border: 1px solid #ddd; border-radius: 5px; padding: 5px; background: #f9f9f9;\">\n",
       "            <summary style=\"cursor: pointer; background: #fff3e0; padding: 10px; border-radius: 3px; font-weight: bold; color: #ef6c00;\">\n",
       "                💡 Conseil (cliquer pour dérouler)\n",
       "            </summary>\n",
       "            <div style=\"padding: 15px; margin-top: 10px; background: white; border-radius: 3px;\">\n",
       "                <p style=\"margin: 0; color: #333;\">Un dictionnaire utilise des accolades et des clés : profil = {'nom': nom, 'age': age, ...}</p>\n",
       "            </div>\n",
       "        </details>\n",
       "        "
      ],
      "text/plain": [
       "<IPython.core.display.HTML object>"
      ]
     },
     "metadata": {},
     "output_type": "display_data"
    },
    {
     "data": {
      "text/html": [
       "\n",
       "        <details style=\"margin: 10px 0; border: 1px solid #ddd; border-radius: 5px; padding: 5px; background: #f9f9f9;\">\n",
       "            <summary style=\"cursor: pointer; background: #e8f5e8; padding: 10px; border-radius: 3px; font-weight: bold; color: #2e7d32;\">\n",
       "                🔍 Solution (cliquer pour dérouler)\n",
       "            </summary>\n",
       "            <div style=\"padding: 15px; margin-top: 10px; background: white; border-radius: 3px;\">\n",
       "                <p><strong>💡 Explication :</strong> Un dictionnaire (dict) associe des clés à des valeurs. On peut utiliser nos variables comme valeurs.</p>\n",
       "                <pre style=\"background: #f5f5f5; padding: 10px; border-radius: 3px; overflow-x: auto; border-left: 3px solid #4caf50;\"><code>profil = {\n",
       "    \"nom\": nom,\n",
       "    \"age\": age,\n",
       "    \"salaire\": salaire,\n",
       "    \"competences\": competences\n",
       "}</code></pre>\n",
       "            </div>\n",
       "        </details>\n",
       "        "
      ],
      "text/plain": [
       "<IPython.core.display.HTML object>"
      ]
     },
     "metadata": {},
     "output_type": "display_data"
    }
   ],
   "source": [
    "# 💡 Aide pour l'étape 1.1.5\n",
    "helper.help(\"1.1.5\")"
   ]
  },
  {
   "cell_type": "code",
   "execution_count": null,
   "id": "e855b9e3",
   "metadata": {},
   "outputs": [],
   "source": [
    "# 🎉 VALIDATION FINALE Section 1.1\n",
    "helper.success(\"SECTION 1.1 TERMINÉE ! Vous maîtrisez les types de base Python !\")\n",
    "\n",
    "print(\"\\n🚀 Prêt pour la section suivante : Structures de contrôle\")"
   ]
  },
  {
   "cell_type": "markdown",
   "id": "4d68f9e6",
   "metadata": {},
   "source": [
    "---\n",
    "\n",
    "## 🌟 Section 1.2 : Structures de Contrôle\n",
    "\n",
    "### 🎯 Objectif :\n",
    "Créer une fonction qui categorise l'âge avec des conditions."
   ]
  },
  {
   "cell_type": "markdown",
   "id": "3d3db57d",
   "metadata": {},
   "source": [
    "### 📝 Étape 1.2.1 : Fonction de catégorisation d'âge\n",
    "\n",
    "**Instructions :**\n",
    "Créer une fonction `categoriser_age(age)` avec toutes les conditions."
   ]
  },
  {
   "cell_type": "code",
   "execution_count": 33,
   "id": "50b507e6",
   "metadata": {},
   "outputs": [],
   "source": [
    "# 📝 ÉTAPE 1.2.1 : Fonction complète\n",
    "# Créez une fonction 'categoriser_age' qui retourne :\n",
    "# - \"Enfant\" si age < 13\n",
    "# - \"Adolescent\" si 13 <= age < 18\n",
    "# - \"Adulte\" si 18 <= age < 65\n",
    "# - \"Senior\" si age >= 65\n",
    "\n",
    "# Structure :\n",
    "# def categoriser_age(age):\n",
    "#     if ...\n",
    "#     elif ...\n",
    "#     return ...\n",
    "# Vous pouvez changer cette valeur pour tester\n",
    "# 👇 Écrivez votre fonction ici :"
   ]
  },
  {
   "cell_type": "code",
   "execution_count": 18,
   "id": "81f95d4b",
   "metadata": {},
   "outputs": [
    {
     "data": {
      "text/html": [
       "\n",
       "        <details style=\"margin: 10px 0; border: 1px solid #ddd; border-radius: 5px; padding: 5px; background: #f9f9f9;\">\n",
       "            <summary style=\"cursor: pointer; background: #fff3e0; padding: 10px; border-radius: 3px; font-weight: bold; color: #ef6c00;\">\n",
       "                💡 Conseil (cliquer pour dérouler)\n",
       "            </summary>\n",
       "            <div style=\"padding: 15px; margin-top: 10px; background: white; border-radius: 3px;\">\n",
       "                <p style=\"margin: 0; color: #333;\">Utilisez if/elif/else avec les comparaisons < et >=. Python teste les conditions dans l'ordre.</p>\n",
       "            </div>\n",
       "        </details>\n",
       "        "
      ],
      "text/plain": [
       "<IPython.core.display.HTML object>"
      ]
     },
     "metadata": {},
     "output_type": "display_data"
    },
    {
     "data": {
      "text/html": [
       "\n",
       "        <details style=\"margin: 10px 0; border: 1px solid #ddd; border-radius: 5px; padding: 5px; background: #f9f9f9;\">\n",
       "            <summary style=\"cursor: pointer; background: #e8f5e8; padding: 10px; border-radius: 3px; font-weight: bold; color: #2e7d32;\">\n",
       "                🔍 Solution (cliquer pour dérouler)\n",
       "            </summary>\n",
       "            <div style=\"padding: 15px; margin-top: 10px; background: white; border-radius: 3px;\">\n",
       "                <p><strong>💡 Explication :</strong> 'elif' (else if) permet de tester plusieurs conditions. Python teste dans l'ordre et s'arrête à la première vraie.</p>\n",
       "                <pre style=\"background: #f5f5f5; padding: 10px; border-radius: 3px; overflow-x: auto; border-left: 3px solid #4caf50;\"><code>def categoriser_age(age):\n",
       "    if age < 13:\n",
       "        return \"Enfant\"\n",
       "    elif age < 18:\n",
       "        return \"Adolescent\"\n",
       "    elif age < 65:\n",
       "        return \"Adulte\"\n",
       "    else:\n",
       "        return \"Senior</code></pre>\n",
       "            </div>\n",
       "        </details>\n",
       "        "
      ],
      "text/plain": [
       "<IPython.core.display.HTML object>"
      ]
     },
     "metadata": {},
     "output_type": "display_data"
    }
   ],
   "source": [
    "# 💡 Aide pour l'étape 1.2.1\n",
    "helper.help(\"1.2.1\")"
   ]
  },
  {
   "cell_type": "markdown",
   "id": "d1a0d02f",
   "metadata": {},
   "source": [
    "### 📝 Étape 1.2.2 : Test avec une boucle\n",
    "\n",
    "**Instructions :**\n",
    "Créer une liste d'âges et tester la fonction avec une boucle."
   ]
  },
  {
   "cell_type": "code",
   "execution_count": 34,
   "id": "4fbfa63e",
   "metadata": {},
   "outputs": [],
   "source": [
    "# 📝 ÉTAPE 1.2.2 : Boucle de test\n",
    "# 1. Créez une liste 'ages_test' avec au moins 5 âges différents\n",
    "# 2. Utilisez une boucle for pour tester chaque âge\n",
    "# 3. Affichez : \"Age X est un(e) Y\" pour chaque test\n",
    "\n",
    "# Syntaxe boucle : \n",
    "# for age in ages_test:\n",
    "#     categorie = categoriser_age(age)\n",
    "#     print(...)\n",
    "\n",
    "# 👇 Écrivez votre code ici :"
   ]
  },
  {
   "cell_type": "code",
   "execution_count": 23,
   "id": "7cc635ec",
   "metadata": {},
   "outputs": [
    {
     "data": {
      "text/html": [
       "\n",
       "        <details style=\"margin: 10px 0; border: 1px solid #ddd; border-radius: 5px; padding: 5px; background: #f9f9f9;\">\n",
       "            <summary style=\"cursor: pointer; background: #fff3e0; padding: 10px; border-radius: 3px; font-weight: bold; color: #ef6c00;\">\n",
       "                💡 Conseil (cliquer pour dérouler)\n",
       "            </summary>\n",
       "            <div style=\"padding: 15px; margin-top: 10px; background: white; border-radius: 3px;\">\n",
       "                <p style=\"margin: 0; color: #333;\">Créez d'abord la liste : ages_test = [10, 15, 25, 45, 70], puis utilisez : for age in ages_test:</p>\n",
       "            </div>\n",
       "        </details>\n",
       "        "
      ],
      "text/plain": [
       "<IPython.core.display.HTML object>"
      ]
     },
     "metadata": {},
     "output_type": "display_data"
    },
    {
     "data": {
      "text/html": [
       "\n",
       "        <details style=\"margin: 10px 0; border: 1px solid #ddd; border-radius: 5px; padding: 5px; background: #f9f9f9;\">\n",
       "            <summary style=\"cursor: pointer; background: #e8f5e8; padding: 10px; border-radius: 3px; font-weight: bold; color: #2e7d32;\">\n",
       "                🔍 Solution (cliquer pour dérouler)\n",
       "            </summary>\n",
       "            <div style=\"padding: 15px; margin-top: 10px; background: white; border-radius: 3px;\">\n",
       "                <p><strong>💡 Explication :</strong> Une boucle 'for' itère sur chaque élément d'une liste. On peut utiliser le résultat de la fonction dans la boucle.</p>\n",
       "                <pre style=\"background: #f5f5f5; padding: 10px; border-radius: 3px; overflow-x: auto; border-left: 3px solid #4caf50;\"><code>ages_test = [10, 15, 25, 45, 70]\n",
       "\n",
       "for age in ages_test:\n",
       "    categorie = categoriser_age(age)\n",
       "    print(f\"Age {age} est un(e) {categorie}\")</code></pre>\n",
       "            </div>\n",
       "        </details>\n",
       "        "
      ],
      "text/plain": [
       "<IPython.core.display.HTML object>"
      ]
     },
     "metadata": {},
     "output_type": "display_data"
    }
   ],
   "source": [
    "# 💡 Aide pour l'étape 1.2.2\n",
    "helper.help(\"1.2.2\")"
   ]
  },
  {
   "cell_type": "code",
   "execution_count": 35,
   "id": "d9f54216",
   "metadata": {},
   "outputs": [
    {
     "data": {
      "text/html": [
       "\n",
       "        <div style=\"background: linear-gradient(90deg, #4CAF50, #45a049); color: white; padding: 15px; border-radius: 10px; margin: 10px 0; text-align: center; font-weight: bold; font-size: 16px; box-shadow: 0 4px 8px rgba(0,0,0,0.1);\">\n",
       "            🎉 SECTION 1.2 TERMINÉE ! Vous maîtrisez les fonctions et boucles ! 🎉\n",
       "        </div>\n",
       "        "
      ],
      "text/plain": [
       "<IPython.core.display.HTML object>"
      ]
     },
     "metadata": {},
     "output_type": "display_data"
    },
    {
     "name": "stdout",
     "output_type": "stream",
     "text": [
      "\n",
      "🏆 BRAVO ! Vous avez terminé les fondamentaux Python !\n",
      "📊 Prochaine étape : Manipulation de données avec Pandas\n"
     ]
    }
   ],
   "source": [
    "# 🎉 VALIDATION FINALE Section 1.2\n",
    "helper.success(\"SECTION 1.2 TERMINÉE ! Vous maîtrisez les fonctions et boucles !\")\n",
    "\n",
    "print(\"\\n🏆 BRAVO ! Vous avez terminé les fondamentaux Python !\")\n",
    "print(\"📊 Prochaine étape : Manipulation de données avec Pandas\")"
   ]
  },
  {
   "cell_type": "markdown",
   "id": "86c62bd5",
   "metadata": {},
   "source": [
    "---\n",
    "\n",
    "## 🎯 RÉCAPITULATIF DES COMPÉTENCES ACQUISES\n",
    "\n",
    "### ✅ Vous maîtrisez maintenant :\n",
    "\n",
    "**🐍 Types de données Python :**\n",
    "- Variables et assignation\n",
    "- Types : str, int, float, list, dict\n",
    "- Manipulation de base\n",
    "\n",
    "**🔄 Structures de contrôle :**\n",
    "- Conditions if/elif/else\n",
    "- Boucles for\n",
    "- Fonctions avec paramètres et return\n",
    "\n",
    "**🛠️ Bonnes pratiques :**\n",
    "- Code lisible et indenté\n",
    "- Noms de variables explicites\n",
    "- Tests de fonctions\n",
    "\n",
    "---\n",
    "\n",
    "**🚀 Vous êtes prêt(e) pour les sections avancées !**\n",
    "\n",
    "**📖 Consultez les autres notebooks pour continuer :**\n",
    "- 📊 Pandas et manipulation de données\n",
    "- 🔄 ETL et traitement de données\n",
    "- 🗄️ Bases de données SQLite\n",
    "- 🐳 Docker et containerisation\n",
    "- 🍃 MongoDB et NoSQL"
   ]
  },
  {
   "cell_type": "markdown",
   "id": "d85032f1",
   "metadata": {},
   "source": [
    "---\n",
    "\n",
    "## \udfaf RÉCAPITULATIF DES COMPÉTENCES ACQUISES\n",
    "\n",
    "### ✅ Vous maîtrisez maintenant :\n",
    "\n",
    "**🐍 Types de données Python :**\n",
    "- Variables et assignation\n",
    "- Types : str, int, float, bool, list, dict\n",
    "- Manipulation de base\n",
    "\n",
    "**🔄 Structures de contrôle :**\n",
    "- Conditions if/elif/else\n",
    "- Boucles for\n",
    "- Fonctions avec paramètres et return\n",
    "\n",
    "**📊 Collections avancées :**\n",
    "- Manipulation de listes (append, insert, remove, sort)\n",
    "- Opérations sur dictionnaires (update, keys, values)\n",
    "- List comprehensions et filtrage\n",
    "\n",
    "**⚠️ Gestion d'erreurs :**\n",
    "- Try/except pour capturer les exceptions\n",
    "- Gestion spécifique des erreurs\n",
    "- Code robuste et sécurisé\n",
    "\n",
    "**📦 Modules et imports :**\n",
    "- Utilisation de modules standard (datetime, random, math, os)\n",
    "- Différentes syntaxes d'import\n",
    "- Organisation du code\n",
    "\n",
    "**\udfd7️ Programmation orientée objet (introduction) :**\n",
    "- Création de classes\n",
    "- Attributs et méthodes\n",
    "- Constructeur __init__\n",
    "- Concepts de base de la POO\n",
    "\n",
    "**🛠️ Bonnes pratiques :**\n",
    "- Code lisible et indenté\n",
    "- Noms de variables explicites\n",
    "- Tests de fonctions\n",
    "- Gestion propre des erreurs\n",
    "\n",
    "---\n",
    "\n",
    "**🚀 Vous êtes maintenant un(e) développeur(se) Python solide !**\n",
    "\n",
    "**📖 Consultez les autres notebooks pour continuer :**\n",
    "- 📊 Pandas et manipulation de données\n",
    "- 🔄 ETL et traitement de données\n",
    "- 🗄️ Bases de données SQLite\n",
    "- 🐳 Docker et containerisation\n",
    "- 🍃 MongoDB et NoSQL\n",
    "\n",
    "**🎓 Avec ces fondamentaux Python, vous pouvez maintenant :**\n",
    "- Créer des scripts d'automatisation\n",
    "- Analyser des données avec pandas\n",
    "- Développer des applications web\n",
    "- Travailler avec des bases de données\n",
    "- Et bien plus encore !"
   ]
  },
  {
   "cell_type": "markdown",
   "id": "e9fea841",
   "metadata": {},
   "source": [
    "### 📝 Étape 1.3.1 : Opérations sur les listes\n",
    "\n",
    "**Instructions :**\n",
    "Manipuler votre liste de compétences avec différentes méthodes."
   ]
  },
  {
   "cell_type": "code",
   "execution_count": null,
   "id": "819e8723",
   "metadata": {},
   "outputs": [],
   "source": [
    "# 📝 ÉTAPE 1.3.1 : Manipulation de listes\n",
    "# À partir de votre liste 'competences', effectuez ces opérations :\n",
    "# 1. Ajoutez \"Machine Learning\" à la fin\n",
    "# 2. Insérez \"React\" en position 2\n",
    "# 3. Supprimez une compétence de votre choix\n",
    "# 4. Triez la liste alphabétiquement\n",
    "# 5. Créez une nouvelle liste avec seulement les compétences de plus de 5 caractères\n",
    "\n",
    "# Méthodes utiles : append(), insert(), remove(), sort(), len()\n",
    "# List comprehension : [x for x in liste if condition]\n",
    "\n",
    "# 👇 Manipulez votre liste ici :\n",
    "print(\"🔧 Liste originale :\", competences)\n",
    "\n",
    "# Vos manipulations :"
   ]
  },
  {
   "cell_type": "code",
   "execution_count": 40,
   "id": "e297beed",
   "metadata": {},
   "outputs": [
    {
     "data": {
      "text/html": [
       "\n",
       "            <details style=\"margin: 10px 0; border: 1px solid #ddd; border-radius: 5px; padding: 5px; background: #f9f9f9;\">\n",
       "                <summary style=\"cursor: pointer; background: #fff3e0; padding: 10px; border-radius: 3px; font-weight: bold; color: #f57c00;\">\n",
       "                    💡 Conseil Python (cliquer pour dérouler)\n",
       "                </summary>\n",
       "                <div style=\"padding: 15px; margin-top: 10px; background: white; border-radius: 3px;\">\n",
       "                    <p style=\"margin: 0; color: #333;\">Utilisez append() pour ajouter, insert(position, élément) pour insérer, remove() pour supprimer, sort() pour trier.</p>\n",
       "                </div>\n",
       "            </details>\n",
       "            "
      ],
      "text/plain": [
       "<IPython.core.display.HTML object>"
      ]
     },
     "metadata": {},
     "output_type": "display_data"
    },
    {
     "data": {
      "text/html": [
       "\n",
       "            <details style=\"margin: 10px 0; border: 1px solid #ddd; border-radius: 5px; padding: 5px; background: #f9f9f9;\">\n",
       "                <summary style=\"cursor: pointer; background: #e8f5e8; padding: 10px; border-radius: 3px; font-weight: bold; color: #2e7d32;\">\n",
       "                    🔍 Solution Python (cliquer pour dérouler)\n",
       "                </summary>\n",
       "                <div style=\"padding: 15px; margin-top: 10px; background: white; border-radius: 3px;\">\n",
       "                    <p><strong>🐍 Explication :</strong> Les listes ont des méthodes pour les modifier. List comprehension : [expression for item in liste if condition].</p>\n",
       "                    <pre style=\"background: #f5f5f5; padding: 10px; border-radius: 3px; overflow-x: auto; border-left: 3px solid #ff9800;\"><code># 1. Ajouter à la fin\n",
       "competences.append(\"Machine Learning\")\n",
       "\n",
       "# 2. Insérer à la position 2\n",
       "competences.insert(2, \"React\")\n",
       "\n",
       "# 3. Supprimer un élément\n",
       "competences.remove(\"Git\")  # ou competences.pop()\n",
       "\n",
       "# 4. Trier alphabétiquement\n",
       "competences.sort()\n",
       "\n",
       "# 5. Liste avec compétences de plus de 5 caractères\n",
       "competences_longues = [comp for comp in competences if len(comp) > 5]\n",
       "\n",
       "print(\"🔧 Liste modifiée :\", competences)\n",
       "print(\"📏 Compétences longues :\", competences_longues)</code></pre>\n",
       "                </div>\n",
       "            </details>\n",
       "            "
      ],
      "text/plain": [
       "<IPython.core.display.HTML object>"
      ]
     },
     "metadata": {},
     "output_type": "display_data"
    }
   ],
   "source": [
    "# 💡 Aide pour l'étape 1.3.1\n",
    "helper.help(\"1.3.1\")"
   ]
  },
  {
   "cell_type": "markdown",
   "id": "c2fdd67d",
   "metadata": {},
   "source": [
    "### 📝 Étape 1.3.2 : Manipulation de dictionnaires\n",
    "\n",
    "**Instructions :**\n",
    "Enrichir votre dictionnaire profil avec de nouvelles informations."
   ]
  },
  {
   "cell_type": "code",
   "execution_count": null,
   "id": "29847f76",
   "metadata": {},
   "outputs": [],
   "source": [
    "# 📝 ÉTAPE 1.3.2 : Manipulation de dictionnaires\n",
    "# À partir de votre dictionnaire 'profil', effectuez ces opérations :\n",
    "# 1. Ajoutez une clé \"experience\" avec le nombre d'années\n",
    "# 2. Ajoutez une clé \"langues\" avec une liste de langues parlées\n",
    "# 3. Modifiez le salaire (augmentation de 10%)\n",
    "# 4. Créez un dictionnaire \"contact\" avec email, téléphone, ville\n",
    "# 5. Fusionnez le dictionnaire contact dans profil\n",
    "\n",
    "# Méthodes utiles : update(), keys(), values(), items(), get()\n",
    "\n",
    "# 👇 Manipulez votre dictionnaire ici :\n",
    "print(\"📋 Profil original :\")\n",
    "for cle, valeur in profil.items():\n",
    "    print(f\"  {cle}: {valeur}\")\n",
    "\n",
    "# Vos manipulations :"
   ]
  },
  {
   "cell_type": "code",
   "execution_count": 39,
   "id": "82b2f6c3",
   "metadata": {},
   "outputs": [
    {
     "data": {
      "text/html": [
       "\n",
       "            <details style=\"margin: 10px 0; border: 1px solid #ddd; border-radius: 5px; padding: 5px; background: #f9f9f9;\">\n",
       "                <summary style=\"cursor: pointer; background: #fff3e0; padding: 10px; border-radius: 3px; font-weight: bold; color: #f57c00;\">\n",
       "                    💡 Conseil Python (cliquer pour dérouler)\n",
       "                </summary>\n",
       "                <div style=\"padding: 15px; margin-top: 10px; background: white; border-radius: 3px;\">\n",
       "                    <p style=\"margin: 0; color: #333;\">Utilisez dict[clé] = valeur pour ajouter, dict.update() pour fusionner, dict.items() pour parcourir.</p>\n",
       "                </div>\n",
       "            </details>\n",
       "            "
      ],
      "text/plain": [
       "<IPython.core.display.HTML object>"
      ]
     },
     "metadata": {},
     "output_type": "display_data"
    },
    {
     "data": {
      "text/html": [
       "\n",
       "            <details style=\"margin: 10px 0; border: 1px solid #ddd; border-radius: 5px; padding: 5px; background: #f9f9f9;\">\n",
       "                <summary style=\"cursor: pointer; background: #e8f5e8; padding: 10px; border-radius: 3px; font-weight: bold; color: #2e7d32;\">\n",
       "                    🔍 Solution Python (cliquer pour dérouler)\n",
       "                </summary>\n",
       "                <div style=\"padding: 15px; margin-top: 10px; background: white; border-radius: 3px;\">\n",
       "                    <p><strong>🐍 Explication :</strong> update() fusionne deux dictionnaires. items() retourne les paires clé-valeur pour l'itération.</p>\n",
       "                    <pre style=\"background: #f5f5f5; padding: 10px; border-radius: 3px; overflow-x: auto; border-left: 3px solid #ff9800;\"><code># 1. Ajouter expérience\n",
       "profil[\"experience\"] = 3\n",
       "\n",
       "# 2. Ajouter langues\n",
       "profil[\"langues\"] = [\"Français\", \"Anglais\", \"Espagnol\"]\n",
       "\n",
       "# 3. Augmenter salaire de 10%\n",
       "profil[\"salaire\"] = profil[\"salaire\"] * 1.10\n",
       "\n",
       "# 4. Créer dictionnaire contact\n",
       "contact = {\n",
       "    \"email\": \"contact@example.com\",\n",
       "    \"telephone\": \"06.12.34.56.78\",\n",
       "    \"ville\": \"Paris\"\n",
       "}\n",
       "\n",
       "# 5. Fusionner dans profil\n",
       "profil.update(contact)\n",
       "\n",
       "print(\"📋 Profil enrichi :\")\n",
       "for cle, valeur in profil.items():\n",
       "    print(f\"  {cle}: {valeur}\")</code></pre>\n",
       "                </div>\n",
       "            </details>\n",
       "            "
      ],
      "text/plain": [
       "<IPython.core.display.HTML object>"
      ]
     },
     "metadata": {},
     "output_type": "display_data"
    }
   ],
   "source": [
    "# 💡 Aide pour l'étape 1.3.2\n",
    "helper.help(\"1.3.2\")"
   ]
  },
  {
   "cell_type": "code",
   "execution_count": null,
   "id": "85446201",
   "metadata": {},
   "outputs": [],
   "source": [
    "# 🎉 VALIDATION Section 1.3\n",
    "helper.success(\"SECTION 1.3 TERMINÉE ! Vous maîtrisez les collections Python !\")\n",
    "\n",
    "print(\"\\n🚀 Prêt pour la section suivante : Gestion des erreurs\")"
   ]
  },
  {
   "cell_type": "markdown",
   "id": "1dad5362",
   "metadata": {},
   "source": [
    "---\n",
    "\n",
    "## 🌟 Section 1.4 : Gestion des Erreurs\n",
    "\n",
    "### 🎯 Objectif :\n",
    "Maîtriser les try/except pour gérer les erreurs proprement."
   ]
  },
  {
   "cell_type": "markdown",
   "id": "041a3baf",
   "metadata": {},
   "source": [
    "### 📝 Étape 1.4.1 : Calculatrice sécurisée\n",
    "\n",
    "**Instructions :**\n",
    "Créer une fonction de division qui gère les erreurs (division par zéro, types incorrects)."
   ]
  },
  {
   "cell_type": "code",
   "execution_count": null,
   "id": "560524a8",
   "metadata": {},
   "outputs": [],
   "source": [
    "# 📝 ÉTAPE 1.4.1 : Calculatrice avec gestion d'erreurs\n",
    "# Créez une fonction 'division_securisee(a, b)' qui :\n",
    "# 1. Vérifie que a et b sont des nombres (int ou float)\n",
    "# 2. Gère la division par zéro\n",
    "# 3. Retourne le résultat ou un message d'erreur approprié\n",
    "\n",
    "# Structure try/except :\n",
    "# try:\n",
    "#     # code qui peut lever une exception\n",
    "# except TypeError:\n",
    "#     # gestion erreur de type\n",
    "# except ZeroDivisionError:\n",
    "#     # gestion division par zéro\n",
    "# except Exception as e:\n",
    "#     # gestion autres erreurs\n",
    "\n",
    "# 👇 Créez votre fonction sécurisée ici :\n",
    "\n",
    "# Tests à effectuer :\n",
    "# print(division_securisee(10, 2))      # 5.0\n",
    "# print(division_securisee(10, 0))      # Erreur division par zéro\n",
    "# print(division_securisee(\"10\", 2))    # Erreur de type"
   ]
  },
  {
   "cell_type": "code",
   "execution_count": 41,
   "id": "50c30e62",
   "metadata": {},
   "outputs": [
    {
     "data": {
      "text/html": [
       "\n",
       "            <details style=\"margin: 10px 0; border: 1px solid #ddd; border-radius: 5px; padding: 5px; background: #f9f9f9;\">\n",
       "                <summary style=\"cursor: pointer; background: #fff3e0; padding: 10px; border-radius: 3px; font-weight: bold; color: #f57c00;\">\n",
       "                    💡 Conseil Python (cliquer pour dérouler)\n",
       "                </summary>\n",
       "                <div style=\"padding: 15px; margin-top: 10px; background: white; border-radius: 3px;\">\n",
       "                    <p style=\"margin: 0; color: #333;\">Utilisez isinstance(variable, (int, float)) pour vérifier le type. Gérez ZeroDivisionError pour la division par zéro.</p>\n",
       "                </div>\n",
       "            </details>\n",
       "            "
      ],
      "text/plain": [
       "<IPython.core.display.HTML object>"
      ]
     },
     "metadata": {},
     "output_type": "display_data"
    },
    {
     "data": {
      "text/html": [
       "\n",
       "            <details style=\"margin: 10px 0; border: 1px solid #ddd; border-radius: 5px; padding: 5px; background: #f9f9f9;\">\n",
       "                <summary style=\"cursor: pointer; background: #e8f5e8; padding: 10px; border-radius: 3px; font-weight: bold; color: #2e7d32;\">\n",
       "                    🔍 Solution Python (cliquer pour dérouler)\n",
       "                </summary>\n",
       "                <div style=\"padding: 15px; margin-top: 10px; background: white; border-radius: 3px;\">\n",
       "                    <p><strong>🐍 Explication :</strong> try/except capture les erreurs. isinstance() vérifie le type. Gérez spécifiquement chaque type d'erreur.</p>\n",
       "                    <pre style=\"background: #f5f5f5; padding: 10px; border-radius: 3px; overflow-x: auto; border-left: 3px solid #ff9800;\"><code>def division_securisee(a, b):\n",
       "    try:\n",
       "        # Vérification des types\n",
       "        if not isinstance(a, (int, float)) or not isinstance(b, (int, float)):\n",
       "            return \"❌ Erreur : Les arguments doivent être des nombres\"\n",
       "        \n",
       "        # Division\n",
       "        resultat = a / b\n",
       "        return f\"✅ Résultat : {resultat}\"\n",
       "        \n",
       "    except ZeroDivisionError:\n",
       "        return \"❌ Erreur : Division par zéro impossible\"\n",
       "    except Exception as e:\n",
       "        return f\"❌ Erreur inattendue : {e}\"\n",
       "\n",
       "# Tests\n",
       "print(division_securisee(10, 2))      # ✅ Résultat : 5.0\n",
       "print(division_securisee(10, 0))      # ❌ Erreur : Division par zéro\n",
       "print(division_securisee(\"10\", 2))    # ❌ Erreur : Types incorrects</code></pre>\n",
       "                </div>\n",
       "            </details>\n",
       "            "
      ],
      "text/plain": [
       "<IPython.core.display.HTML object>"
      ]
     },
     "metadata": {},
     "output_type": "display_data"
    }
   ],
   "source": [
    "# 💡 Aide pour l'étape 1.4.1\n",
    "helper.help(\"1.4.1\")"
   ]
  },
  {
   "cell_type": "code",
   "execution_count": null,
   "id": "a471c9d1",
   "metadata": {},
   "outputs": [],
   "source": [
    "# 🎉 VALIDATION Section 1.4\n",
    "helper.success(\"SECTION 1.4 TERMINÉE ! Vous maîtrisez la gestion d'erreurs !\")\n",
    "\n",
    "print(\"\\n🚀 Prêt pour la section suivante : Modules et imports\")"
   ]
  },
  {
   "cell_type": "markdown",
   "id": "6a848afc",
   "metadata": {},
   "source": [
    "---\n",
    "\n",
    "## 🌟 Section 1.5 : Modules et Imports\n",
    "\n",
    "### 🎯 Objectif :\n",
    "Découvrir les modules Python et créer ses propres utilitaires."
   ]
  },
  {
   "cell_type": "markdown",
   "id": "b10fc203",
   "metadata": {},
   "source": [
    "### 📝 Étape 1.5.1 : Utilisation de modules standard\n",
    "\n",
    "**Instructions :**\n",
    "Explorer les modules datetime, random, et math avec des exemples pratiques."
   ]
  },
  {
   "cell_type": "code",
   "execution_count": null,
   "id": "a6c158ab",
   "metadata": {},
   "outputs": [],
   "source": [
    "# 📝 ÉTAPE 1.5.1 : Exploration de modules standard\n",
    "# Utilisez ces modules pour créer des fonctionnalités utiles :\n",
    "\n",
    "# 1. datetime : Affichez la date et heure actuelles\n",
    "# 2. random : Générez une liste de 5 nombres aléatoires entre 1 et 100\n",
    "# 3. math : Calculez la racine carrée et le logarithme de 16\n",
    "# 4. os : Affichez le répertoire de travail actuel\n",
    "\n",
    "# Syntaxes d'import :\n",
    "# import datetime\n",
    "# from random import randint\n",
    "# import math as m\n",
    "# from os import getcwd\n",
    "\n",
    "# 👇 Explorez les modules ici :\n",
    "\n",
    "# datetime - Date et heure\n",
    "\n",
    "# random - Nombres aléatoires  \n",
    "\n",
    "# math - Fonctions mathématiques\n",
    "\n",
    "# os - Système d'exploitation"
   ]
  },
  {
   "cell_type": "code",
   "execution_count": 42,
   "id": "ba45d4ec",
   "metadata": {},
   "outputs": [
    {
     "data": {
      "text/html": [
       "\n",
       "            <details style=\"margin: 10px 0; border: 1px solid #ddd; border-radius: 5px; padding: 5px; background: #f9f9f9;\">\n",
       "                <summary style=\"cursor: pointer; background: #fff3e0; padding: 10px; border-radius: 3px; font-weight: bold; color: #f57c00;\">\n",
       "                    💡 Conseil Python (cliquer pour dérouler)\n",
       "                </summary>\n",
       "                <div style=\"padding: 15px; margin-top: 10px; background: white; border-radius: 3px;\">\n",
       "                    <p style=\"margin: 0; color: #333;\">Importez avec import, from...import, ou import...as. Utilisez datetime.now(), random.randint(), math.sqrt().</p>\n",
       "                </div>\n",
       "            </details>\n",
       "            "
      ],
      "text/plain": [
       "<IPython.core.display.HTML object>"
      ]
     },
     "metadata": {},
     "output_type": "display_data"
    },
    {
     "data": {
      "text/html": [
       "\n",
       "            <details style=\"margin: 10px 0; border: 1px solid #ddd; border-radius: 5px; padding: 5px; background: #f9f9f9;\">\n",
       "                <summary style=\"cursor: pointer; background: #e8f5e8; padding: 10px; border-radius: 3px; font-weight: bold; color: #2e7d32;\">\n",
       "                    🔍 Solution Python (cliquer pour dérouler)\n",
       "                </summary>\n",
       "                <div style=\"padding: 15px; margin-top: 10px; background: white; border-radius: 3px;\">\n",
       "                    <p><strong>🐍 Explication :</strong> Chaque module offre des fonctionnalités spécialisées. Différentes syntaxes d'import pour différents besoins.</p>\n",
       "                    <pre style=\"background: #f5f5f5; padding: 10px; border-radius: 3px; overflow-x: auto; border-left: 3px solid #ff9800;\"><code># 1. datetime - Date et heure\n",
       "import datetime\n",
       "maintenant = datetime.datetime.now()\n",
       "print(f\"📅 Date/heure actuelles : {maintenant.strftime('%d/%m/%Y %H:%M:%S')}\")\n",
       "\n",
       "# 2. random - Nombres aléatoires\n",
       "from random import randint\n",
       "nombres_aleatoires = [randint(1, 100) for _ in range(5)]\n",
       "print(f\"🎲 5 nombres aléatoires : {nombres_aleatoires}\")\n",
       "\n",
       "# 3. math - Fonctions mathématiques\n",
       "import math as m\n",
       "racine = m.sqrt(16)\n",
       "logarithme = m.log(16)\n",
       "print(f\"🔢 √16 = {racine}, ln(16) = {logarithme:.2f}\")\n",
       "\n",
       "# 4. os - Système d'exploitation\n",
       "from os import getcwd\n",
       "repertoire = getcwd()\n",
       "print(f\"📁 Répertoire actuel : {repertoire}\")</code></pre>\n",
       "                </div>\n",
       "            </details>\n",
       "            "
      ],
      "text/plain": [
       "<IPython.core.display.HTML object>"
      ]
     },
     "metadata": {},
     "output_type": "display_data"
    }
   ],
   "source": [
    "# 💡 Aide pour l'étape 1.5.1\n",
    "helper.help(\"1.5.1\")"
   ]
  },
  {
   "cell_type": "code",
   "execution_count": null,
   "id": "fbecf9c0",
   "metadata": {},
   "outputs": [],
   "source": [
    "# 🎉 VALIDATION Section 1.5\n",
    "helper.success(\"SECTION 1.5 TERMINÉE ! Vous maîtrisez les modules Python !\")\n",
    "\n",
    "print(\"\\n🚀 Prêt pour la section suivante : Introduction aux classes\")"
   ]
  },
  {
   "cell_type": "markdown",
   "id": "053d4cd6",
   "metadata": {},
   "source": [
    "---\n",
    "\n",
    "## 🌟 Section 1.6 : Introduction aux Classes (POO)\n",
    "\n",
    "### 🎯 Objectif :\n",
    "Découvrir la programmation orientée objet avec une classe simple."
   ]
  },
  {
   "cell_type": "markdown",
   "id": "73af0cdc",
   "metadata": {},
   "source": [
    "### 📝 Étape 1.6.1 : Créer une classe Employé\n",
    "\n",
    "**Instructions :**\n",
    "Créer une classe simple qui représente un employé avec attributs et méthodes."
   ]
  },
  {
   "cell_type": "code",
   "execution_count": null,
   "id": "408b4ede",
   "metadata": {},
   "outputs": [],
   "source": [
    "# 📝 ÉTAPE 1.6.1 : Classe Employé\n",
    "# Créez une classe 'Employe' avec :\n",
    "# Attributs : nom, prenom, salaire, departement\n",
    "# Méthodes : \n",
    "#   - __init__(self, nom, prenom, salaire, departement)\n",
    "#   - se_presenter(self) : affiche les infos de l'employé\n",
    "#   - augmentation(self, pourcentage) : augmente le salaire\n",
    "#   - changer_departement(self, nouveau_dept) : change le département\n",
    "\n",
    "# Structure d'une classe :\n",
    "# class NomClasse:\n",
    "#     def __init__(self, paramètres):\n",
    "#         self.attribut = valeur\n",
    "#     \n",
    "#     def methode(self):\n",
    "#         return quelque_chose\n",
    "\n",
    "# 👇 Créez votre classe ici :\n",
    "\n",
    "# Tests à effectuer après création :\n",
    "# emp1 = Employe(\"Dupont\", \"Marie\", 45000, \"IT\")\n",
    "# emp1.se_presenter()\n",
    "# emp1.augmentation(10)\n",
    "# emp1.changer_departement(\"DevOps\")"
   ]
  },
  {
   "cell_type": "code",
   "execution_count": 43,
   "id": "5647f77d",
   "metadata": {},
   "outputs": [
    {
     "data": {
      "text/html": [
       "\n",
       "            <details style=\"margin: 10px 0; border: 1px solid #ddd; border-radius: 5px; padding: 5px; background: #f9f9f9;\">\n",
       "                <summary style=\"cursor: pointer; background: #fff3e0; padding: 10px; border-radius: 3px; font-weight: bold; color: #f57c00;\">\n",
       "                    💡 Conseil Python (cliquer pour dérouler)\n",
       "                </summary>\n",
       "                <div style=\"padding: 15px; margin-top: 10px; background: white; border-radius: 3px;\">\n",
       "                    <p style=\"margin: 0; color: #333;\">Une classe définit un modèle. __init__ est le constructeur. self fait référence à l'instance courante.</p>\n",
       "                </div>\n",
       "            </details>\n",
       "            "
      ],
      "text/plain": [
       "<IPython.core.display.HTML object>"
      ]
     },
     "metadata": {},
     "output_type": "display_data"
    },
    {
     "data": {
      "text/html": [
       "\n",
       "            <details style=\"margin: 10px 0; border: 1px solid #ddd; border-radius: 5px; padding: 5px; background: #f9f9f9;\">\n",
       "                <summary style=\"cursor: pointer; background: #e8f5e8; padding: 10px; border-radius: 3px; font-weight: bold; color: #2e7d32;\">\n",
       "                    🔍 Solution Python (cliquer pour dérouler)\n",
       "                </summary>\n",
       "                <div style=\"padding: 15px; margin-top: 10px; background: white; border-radius: 3px;\">\n",
       "                    <p><strong>🐍 Explication :</strong> class définit une classe. __init__ initialise les attributs. self représente l'instance. Les méthodes agissent sur l'objet.</p>\n",
       "                    <pre style=\"background: #f5f5f5; padding: 10px; border-radius: 3px; overflow-x: auto; border-left: 3px solid #ff9800;\"><code>class Employe:\n",
       "    def __init__(self, nom, prenom, salaire, departement):\n",
       "        self.nom = nom\n",
       "        self.prenom = prenom\n",
       "        self.salaire = salaire\n",
       "        self.departement = departement\n",
       "    \n",
       "    def se_presenter(self):\n",
       "        print(f\"👋 Je suis {self.prenom} {self.nom}\")\n",
       "        print(f\"💼 Département : {self.departement}\")\n",
       "        print(f\"💰 Salaire : {self.salaire}€\")\n",
       "    \n",
       "    def augmentation(self, pourcentage):\n",
       "        ancien_salaire = self.salaire\n",
       "        self.salaire = self.salaire * (1 + pourcentage/100)\n",
       "        print(f\"📈 Augmentation de {pourcentage}% : {ancien_salaire}€ → {self.salaire}€\")\n",
       "    \n",
       "    def changer_departement(self, nouveau_dept):\n",
       "        ancien_dept = self.departement\n",
       "        self.departement = nouveau_dept\n",
       "        print(f\"🔄 Changement : {ancien_dept} → {nouveau_dept}\")\n",
       "\n",
       "# Test de la classe\n",
       "emp1 = Employe(\"Dupont\", \"Marie\", 45000, \"IT\")\n",
       "emp1.se_presenter()\n",
       "emp1.augmentation(10)\n",
       "emp1.changer_departement(\"DevOps\")</code></pre>\n",
       "                </div>\n",
       "            </details>\n",
       "            "
      ],
      "text/plain": [
       "<IPython.core.display.HTML object>"
      ]
     },
     "metadata": {},
     "output_type": "display_data"
    }
   ],
   "source": [
    "# 💡 Aide pour l'étape 1.6.1\n",
    "helper.help(\"1.6.1\")"
   ]
  },
  {
   "cell_type": "code",
   "execution_count": null,
   "id": "8ae8c5f9",
   "metadata": {},
   "outputs": [],
   "source": [
    "# 🎉 VALIDATION FINALE Section 1.6\n",
    "helper.success(\"SECTION 1.6 TERMINÉE ! Vous découvrez la programmation orientée objet !\")\n",
    "\n",
    "print(\"\\n🏆 BRAVO ! Vous avez terminé TOUS les fondamentaux Python !\")\n",
    "print(\"📊 Vous êtes maintenant prêt pour les technologies avancées !\")"
   ]
  }
 ],
 "metadata": {
  "kernelspec": {
   "display_name": ".venvexoultime (3.12.11)",
   "language": "python",
   "name": "python3"
  },
  "language_info": {
   "codemirror_mode": {
    "name": "ipython",
    "version": 3
   },
   "file_extension": ".py",
   "mimetype": "text/x-python",
   "name": "python",
   "nbconvert_exporter": "python",
   "pygments_lexer": "ipython3",
   "version": "3.12.11"
  }
 },
 "nbformat": 4,
 "nbformat_minor": 5
}
