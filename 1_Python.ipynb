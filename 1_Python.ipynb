{
 "cells": [
  {
   "cell_type": "markdown",
   "id": "b43d4c25",
   "metadata": {},
   "source": [
    "# 🎓 EXERCICE PYTHON\n",
    "\n",
    "## 📚 Guide d'Apprentissage Progressif\n",
    "\n",
    "### 🛠️ Comment utiliser ce notebook :\n",
    "1. **Écrivez votre code** dans les cellules prévues\n",
    "2. **Consultez les solutions** si nécessaire (cachées par défaut)\n",
    "3. **Passez à l'étape suivante** une fois validée\n",
    "\n",
    "---"
   ]
  },
  {
   "cell_type": "code",
   "execution_count": null,
   "id": "d6197b02",
   "metadata": {},
   "outputs": [],
   "source": [
    "# 📦 INSTALLATION DES PACKAGES NÉCESSAIRES\n",
    "# Exécutez cette cellule en premier pour installer tous les packages requis\n",
    "\n",
    "import subprocess\n",
    "import sys\n",
    "\n",
    "def install_package(package):\n",
    "    \"\"\"Installe un package Python via pip\"\"\"\n",
    "    try:\n",
    "        subprocess.check_call([sys.executable, \"-m\", \"pip\", \"install\", package])\n",
    "        print(f\"✅ {package} installé avec succès\")\n",
    "    except subprocess.CalledProcessError:\n",
    "        print(f\"❌ Erreur lors de l'installation de {package}\")\n",
    "\n",
    "# Liste des packages nécessaires pour ce notebook\n",
    "packages = [\n",
    "    \"ipywidgets>=7.6.0\"\n",
    "]\n",
    "\n",
    "print(\"🚀 Installation des packages pour Python...\")\n",
    "print(\"📝 Note: Les modules de base Python ne nécessitent pas d'installation\")\n",
    "\n",
    "for package in packages:\n",
    "    install_package(package)\n",
    "\n",
    "print(\"\\n✨ Installation terminée ! Vous pouvez maintenant exécuter les cellules suivantes.\")\n",
    "print(\"📝 Note: Redémarrez le kernel si nécessaire après l'installation.\")"
   ]
  },
  {
   "cell_type": "markdown",
   "id": "7a92b6c9",
   "metadata": {},
   "source": [
    "## 🔧 SYSTÈME D'AIDE INTÉGRÉ\n",
    "\n",
    "**⚠️ Exécutez cette cellule une seule fois au début :**"
   ]
  },
  {
   "cell_type": "code",
   "execution_count": 1,
   "id": "9ac0083b",
   "metadata": {},
   "outputs": [
    {
     "name": "stdout",
     "output_type": "stream",
     "text": [
      "🎓 Système d'aide avec interface propre chargé !\n",
      "✨ Fonctions disponibles:\n",
      "  • helper.check_button('variable') - Bouton de vérification\n",
      "  • helper.test_button('fonction', tests) - Bouton de test\n",
      "  • helper.solution('code') - Solution cachée\n",
      "  • helper.hint('conseil') - Conseil caché\n"
     ]
    }
   ],
   "source": [
    "# 🛠️ SYSTÈME D'AIDE AVEC INTERFACE PROPRE\n",
    "import sys\n",
    "from IPython.display import HTML, display\n",
    "import ipywidgets as widgets\n",
    "\n",
    "class CleanHelper:\n",
    "    \"\"\"Système d'aide avec interface propre\"\"\"\n",
    "    \n",
    "    def __init__(self):\n",
    "        self.step_counter = 1\n",
    "        # Base de données des aides cachées\n",
    "        self.helps = {\n",
    "            \"1.1.1\": {\n",
    "                \"hint\": \"Une chaîne de caractères utilise des guillemets : nom = 'Pierre' ou nom = \\\"Pierre\\\"\",\n",
    "                \"solution\": \"nom = 'Pierre'  # Une chaîne de caractères (string)\",\n",
    "                \"explanation\": \"En Python, on peut utiliser des guillemets simples ' ou doubles \\\" pour créer une chaîne.\"\n",
    "            },\n",
    "            \"1.1.2\": {\n",
    "                \"hint\": \"Un nombre entier s'écrit sans guillemets : age = 25\",\n",
    "                \"solution\": \"age = 25  # Un nombre entier (int)\",\n",
    "                \"explanation\": \"Les nombres entiers (int) s'écrivent directement sans guillemets. Python les reconnaît automatiquement.\"\n",
    "            },\n",
    "            \"1.1.3\": {\n",
    "                \"hint\": \"Un nombre décimal utilise un point : salaire = 45000.50\",\n",
    "                \"solution\": \"salaire = 45000.50  # Un nombre décimal (float)\",\n",
    "                \"explanation\": \"En Python, on utilise le point (.) pour séparer les décimales, jamais la virgule.\"\n",
    "            },\n",
    "            \"1.1.4\": {\n",
    "                \"hint\": \"Une liste se crée avec des crochets : competences = ['Python', 'SQL', 'Docker', 'MongoDB', 'Git']\",\n",
    "                \"solution\": \"competences = ['Python', 'SQL', 'Docker', 'MongoDB', 'Git']\",\n",
    "                \"explanation\": \"Une liste (list) contient plusieurs éléments entre crochets, séparés par des virgules.\"\n",
    "            },\n",
    "            \"1.1.5\": {\n",
    "                \"hint\": \"Un dictionnaire utilise des accolades et des clés : profil = {'nom': nom, 'age': age, ...}\",\n",
    "                \"solution\": \"\"\"profil = {\n",
    "    \"nom\": nom,\n",
    "    \"age\": age,\n",
    "    \"salaire\": salaire,\n",
    "    \"competences\": competences\n",
    "}\"\"\",\n",
    "                \"explanation\": \"Un dictionnaire (dict) associe des clés à des valeurs. On peut utiliser nos variables comme valeurs.\"\n",
    "            },\n",
    "            \"1.2.1\": {\n",
    "                \"hint\": \"Utilisez if/elif/else avec les comparaisons < et >=. Python teste les conditions dans l'ordre.\",\n",
    "                \"solution\": \"\"\"def categoriser_age(age):\n",
    "    if age < 13:\n",
    "        return \"Enfant\"\n",
    "    elif age < 18:\n",
    "        return \"Adolescent\"\n",
    "    elif age < 65:\n",
    "        return \"Adulte\"\n",
    "    else:\n",
    "        return \"Senior\"\"\",\n",
    "                \"explanation\": \"'elif' (else if) permet de tester plusieurs conditions. Python teste dans l'ordre et s'arrête à la première vraie.\"\n",
    "            },\n",
    "            \"1.2.2\": {\n",
    "                \"hint\": \"Créez d'abord la liste : ages_test = [10, 15, 25, 45, 70], puis utilisez : for age in ages_test:\",\n",
    "                \"solution\": \"\"\"ages_test = [10, 15, 25, 45, 70]\n",
    "\n",
    "for age in ages_test:\n",
    "    categorie = categoriser_age(age)\n",
    "    print(f\"Age {age} est un(e) {categorie}\")\"\"\",\n",
    "                \"explanation\": \"Une boucle 'for' itère sur chaque élément d'une liste. On peut utiliser le résultat de la fonction dans la boucle.\"\n",
    "            }\n",
    "        }\n",
    "        \n",
    "    def help(self, step):\n",
    "        \"\"\"Affiche l'aide pour une étape donnée\"\"\"\n",
    "        if step not in self.helps:\n",
    "            print(f\"❌ Aide non trouvée pour l'étape {step}\")\n",
    "            return\n",
    "            \n",
    "        help_data = self.helps[step]\n",
    "        \n",
    "        # Conseil caché\n",
    "        html_hint = f\"\"\"\n",
    "        <details style=\"margin: 10px 0; border: 1px solid #ddd; border-radius: 5px; padding: 5px; background: #f9f9f9;\">\n",
    "            <summary style=\"cursor: pointer; background: #fff3e0; padding: 10px; border-radius: 3px; font-weight: bold; color: #ef6c00;\">\n",
    "                💡 Conseil (cliquer pour dérouler)\n",
    "            </summary>\n",
    "            <div style=\"padding: 15px; margin-top: 10px; background: white; border-radius: 3px;\">\n",
    "                <p style=\"margin: 0; color: #333;\">{help_data['hint']}</p>\n",
    "            </div>\n",
    "        </details>\n",
    "        \"\"\"\n",
    "        \n",
    "        # Solution cachée\n",
    "        html_solution = f\"\"\"\n",
    "        <details style=\"margin: 10px 0; border: 1px solid #ddd; border-radius: 5px; padding: 5px; background: #f9f9f9;\">\n",
    "            <summary style=\"cursor: pointer; background: #e8f5e8; padding: 10px; border-radius: 3px; font-weight: bold; color: #2e7d32;\">\n",
    "                🔍 Solution (cliquer pour dérouler)\n",
    "            </summary>\n",
    "            <div style=\"padding: 15px; margin-top: 10px; background: white; border-radius: 3px;\">\n",
    "                <p><strong>💡 Explication :</strong> {help_data['explanation']}</p>\n",
    "                <pre style=\"background: #f5f5f5; padding: 10px; border-radius: 3px; overflow-x: auto; border-left: 3px solid #4caf50;\"><code>{help_data['solution']}</code></pre>\n",
    "            </div>\n",
    "        </details>\n",
    "        \"\"\"\n",
    "        \n",
    "        display(HTML(html_hint))\n",
    "        display(HTML(html_solution))\n",
    "        \n",
    "    def solution(self, code, explanation=\"\"):\n",
    "        \"\"\"Affiche une solution dans un déroulant HTML natif\"\"\"\n",
    "        html = f\"\"\"\n",
    "        <details style=\"margin: 10px 0; border: 1px solid #ddd; border-radius: 5px; padding: 5px; background: #f9f9f9;\">\n",
    "            <summary style=\"cursor: pointer; background: #e8f5e8; padding: 10px; border-radius: 3px; font-weight: bold; color: #2e7d32;\">\n",
    "                🔍 Solution (cliquer pour dérouler)\n",
    "            </summary>\n",
    "            <div style=\"padding: 15px; margin-top: 10px; background: white; border-radius: 3px;\">\n",
    "                {f'<p><strong>💡 Explication :</strong> {explanation}</p>' if explanation else ''}\n",
    "                <pre style=\"background: #f5f5f5; padding: 10px; border-radius: 3px; overflow-x: auto; border-left: 3px solid #4caf50;\"><code>{code}</code></pre>\n",
    "            </div>\n",
    "        </details>\n",
    "        \"\"\"\n",
    "        display(HTML(html))\n",
    "    \n",
    "    def hint(self, text):\n",
    "        \"\"\"Affiche un conseil dans un déroulant HTML natif\"\"\"\n",
    "        html = f\"\"\"\n",
    "        <details style=\"margin: 10px 0; border: 1px solid #ddd; border-radius: 5px; padding: 5px; background: #f9f9f9;\">\n",
    "            <summary style=\"cursor: pointer; background: #fff3e0; padding: 10px; border-radius: 3px; font-weight: bold; color: #ef6c00;\">\n",
    "                💡 Conseil (cliquer pour dérouler)\n",
    "            </summary>\n",
    "            <div style=\"padding: 15px; margin-top: 10px; background: white; border-radius: 3px;\">\n",
    "                <p style=\"margin: 0; color: #333;\">{text}</p>\n",
    "            </div>\n",
    "        </details>\n",
    "        \"\"\"\n",
    "        display(HTML(html))\n",
    "    \n",
    "    def _check_variable(self, var_name, expected_type=None, expected_value=None, min_val=None, max_val=None):\n",
    "        \"\"\"Méthode interne de vérification (cachée)\"\"\"\n",
    "        try:\n",
    "            frame = sys._getframe(2)  # Remonte de 2 niveaux (bouton -> vérification)\n",
    "            var_value = frame.f_globals.get(var_name, frame.f_locals.get(var_name))\n",
    "            \n",
    "            if var_value is None:\n",
    "                return False, f\"❌ Variable '{var_name}' non trouvée\"\n",
    "            \n",
    "            # Vérification du type\n",
    "            if expected_type and not isinstance(var_value, expected_type):\n",
    "                return False, f\"❌ Type incorrect: attendu {expected_type.__name__}, reçu {type(var_value).__name__}\"\n",
    "            \n",
    "            # Vérification de la valeur\n",
    "            if expected_value is not None and var_value != expected_value:\n",
    "                return False, f\"❌ Valeur incorrecte: attendu {expected_value}, reçu {var_value}\"\n",
    "            \n",
    "            # Vérification des limites\n",
    "            if min_val is not None and var_value < min_val:\n",
    "                return False, f\"❌ Valeur trop petite: {var_value} < {min_val}\"\n",
    "            \n",
    "            if max_val is not None and var_value > max_val:\n",
    "                return False, f\"❌ Valeur trop grande: {var_value} > {max_val}\"\n",
    "            \n",
    "            return True, f\"✅ Variable '{var_name}' correcte ! Valeur: {var_value}, Type: {type(var_value).__name__}\"\n",
    "            \n",
    "        except Exception as e:\n",
    "            return False, f\"❌ Erreur lors de la vérification: {e}\"\n",
    "    \n",
    "    def _check_function(self, func_name, test_cases):\n",
    "        \"\"\"Méthode interne de test de fonction (cachée)\"\"\"\n",
    "        try:\n",
    "            frame = sys._getframe(2)\n",
    "            func = frame.f_globals.get(func_name, frame.f_locals.get(func_name))\n",
    "            \n",
    "            if func is None:\n",
    "                return False, f\"❌ Fonction '{func_name}' non trouvée\"\n",
    "            \n",
    "            if not callable(func):\n",
    "                return False, f\"❌ '{func_name}' n'est pas une fonction\"\n",
    "            \n",
    "            results = []\n",
    "            all_passed = True\n",
    "            \n",
    "            for i, (inputs, expected) in enumerate(test_cases, 1):\n",
    "                try:\n",
    "                    if isinstance(inputs, tuple):\n",
    "                        result = func(*inputs)\n",
    "                    else:\n",
    "                        result = func(inputs)\n",
    "                    \n",
    "                    if result == expected:\n",
    "                        results.append(f\"  ✅ Test {i}: {inputs} → {result}\")\n",
    "                    else:\n",
    "                        results.append(f\"  ❌ Test {i}: {inputs} → {result} (attendu: {expected})\")\n",
    "                        all_passed = False\n",
    "                        \n",
    "                except Exception as e:\n",
    "                    results.append(f\"  ❌ Test {i}: Erreur avec {inputs} → {e}\")\n",
    "                    all_passed = False\n",
    "            \n",
    "            message = f\"🧪 Tests de '{func_name}':\\n\" + \"\\n\".join(results)\n",
    "            if all_passed:\n",
    "                message += f\"\\n\\n🎉 Tous les tests passent ! Fonction parfaite !\"\n",
    "            \n",
    "            return all_passed, message\n",
    "            \n",
    "        except Exception as e:\n",
    "            return False, f\"❌ Erreur lors du test: {e}\"\n",
    "    \n",
    "    def check_button(self, var_name, expected_type=None, expected_value=None, min_val=None, max_val=None):\n",
    "        \"\"\"Crée un bouton de vérification pour une variable\"\"\"\n",
    "        output = widgets.Output()\n",
    "        button = widgets.Button(\n",
    "            description=f\"🔍 Vérifier {var_name}\",\n",
    "            button_style='info',\n",
    "            layout=widgets.Layout(width='200px', height='35px')\n",
    "        )\n",
    "        \n",
    "        def on_click(b):\n",
    "            with output:\n",
    "                output.clear_output()\n",
    "                success, message = self._check_variable(var_name, expected_type, expected_value, min_val, max_val)\n",
    "                if success:\n",
    "                    print(f\"🎉 {message}\")\n",
    "                else:\n",
    "                    print(message)\n",
    "        \n",
    "        button.on_click(on_click)\n",
    "        display(widgets.VBox([button, output]))\n",
    "    \n",
    "    def test_button(self, func_name, test_cases):\n",
    "        \"\"\"Crée un bouton de test pour une fonction\"\"\"\n",
    "        output = widgets.Output()\n",
    "        button = widgets.Button(\n",
    "            description=f\"🧪 Tester {func_name}\",\n",
    "            button_style='success',\n",
    "            layout=widgets.Layout(width='200px', height='35px')\n",
    "        )\n",
    "        \n",
    "        def on_click(b):\n",
    "            with output:\n",
    "                output.clear_output()\n",
    "                success, message = self._check_function(func_name, test_cases)\n",
    "                print(message)\n",
    "        \n",
    "        button.on_click(on_click)\n",
    "        display(widgets.VBox([button, output]))\n",
    "    \n",
    "    def success(self, message):\n",
    "        \"\"\"Affiche un message de succès stylé\"\"\"\n",
    "        html = f\"\"\"\n",
    "        <div style=\"background: linear-gradient(90deg, #4CAF50, #45a049); color: white; padding: 15px; border-radius: 10px; margin: 10px 0; text-align: center; font-weight: bold; font-size: 16px; box-shadow: 0 4px 8px rgba(0,0,0,0.1);\">\n",
    "            🎉 {message} 🎉\n",
    "        </div>\n",
    "        \"\"\"\n",
    "        display(HTML(html))\n",
    "\n",
    "# Création de l'assistant global\n",
    "helper = CleanHelper()\n",
    "\n",
    "print(\"🎓 Système d'aide avec interface propre chargé !\")\n",
    "print(\"✨ Fonctions disponibles:\")\n",
    "print(\"  • helper.check_button('variable') - Bouton de vérification\")\n",
    "print(\"  • helper.test_button('fonction', tests) - Bouton de test\")\n",
    "print(\"  • helper.solution('code') - Solution cachée\")\n",
    "print(\"  • helper.hint('conseil') - Conseil caché\")"
   ]
  },
  {
   "cell_type": "markdown",
   "id": "5bac260b",
   "metadata": {},
   "source": [
    "---\n",
    "\n",
    "# 🎯 PARTIE 1 : FONDAMENTAUX PYTHON\n",
    "\n",
    "## 🌟 Section 1.1 : Variables et Types de Données\n",
    "\n",
    "### 🎯 Objectif :\n",
    "Maîtriser les types de base : `str`, `int`, `float`, `bool`, `list`, `dict`"
   ]
  },
  {
   "cell_type": "markdown",
   "id": "af9223f8",
   "metadata": {},
   "source": [
    "### 📝 Étape 1.1.1 : Créer votre première variable\n",
    "\n",
    "**Instructions :**\n",
    "Créer une variable `nom` qui contient votre prénom."
   ]
  },
  {
   "cell_type": "code",
   "execution_count": null,
   "id": "96371bcd",
   "metadata": {},
   "outputs": [],
   "source": [
    "# 📝 ÉTAPE 1.1.1 : Votre première variable\n",
    "# Créez une variable 'nom' avec votre prénom\n",
    "# Exemple : nom = \"Marie\"\n",
    "\n",
    "# 👇 Écrivez votre code ici :"
   ]
  },
  {
   "cell_type": "code",
   "execution_count": null,
   "id": "2be48b08",
   "metadata": {},
   "outputs": [],
   "source": [
    "# 💡 Aide pour l'étape 1.1.1\n",
    "helper.help(\"1.1.1\")"
   ]
  },
  {
   "cell_type": "markdown",
   "id": "a2c3a228",
   "metadata": {},
   "source": [
    "### 📝 Étape 1.1.2 : Variable numérique\n",
    "\n",
    "**Instructions :**\n",
    "Créer une variable `age` avec votre âge (nombre entier)."
   ]
  },
  {
   "cell_type": "code",
   "execution_count": null,
   "id": "48aa4935",
   "metadata": {},
   "outputs": [],
   "source": [
    "# 📝 ÉTAPE 1.1.2 : Variable numérique\n",
    "# Créez une variable 'age' avec votre âge\n",
    "# Note : pas de guillemets pour les nombres !\n",
    "\n",
    "# 👇 Écrivez votre code ici :"
   ]
  },
  {
   "cell_type": "code",
   "execution_count": null,
   "id": "5ed0b123",
   "metadata": {},
   "outputs": [],
   "source": [
    "# 💡 Aide pour l'étape 1.1.2\n",
    "helper.help(\"1.1.2\")"
   ]
  },
  {
   "cell_type": "markdown",
   "id": "e0da525d",
   "metadata": {},
   "source": [
    "### 📝 Étape 1.1.3 : Variable décimale\n",
    "\n",
    "**Instructions :**\n",
    "Créer une variable `salaire` de type float (nombre décimal)."
   ]
  },
  {
   "cell_type": "code",
   "execution_count": null,
   "id": "823da0b1",
   "metadata": {},
   "outputs": [],
   "source": [
    "# 📝 ÉTAPE 1.1.3 : Variable décimale\n",
    "# Créez une variable 'salaire' avec un salaire fictif (ex: 45000.50)\n",
    "# Utilisez un point pour les décimales (pas de virgule !)\n",
    "\n",
    "# 👇 Écrivez votre code ici :"
   ]
  },
  {
   "cell_type": "code",
   "execution_count": null,
   "id": "468ac6fd",
   "metadata": {},
   "outputs": [],
   "source": [
    "# 💡 Aide pour l'étape 1.1.3\n",
    "helper.help(\"1.1.3\")"
   ]
  },
  {
   "cell_type": "markdown",
   "id": "5b5a57b5",
   "metadata": {},
   "source": [
    "### 📝 Étape 1.1.4 : Créer une liste\n",
    "\n",
    "**Instructions :**\n",
    "Créer une liste `competences` avec 5 compétences techniques."
   ]
  },
  {
   "cell_type": "code",
   "execution_count": null,
   "id": "2dc90562",
   "metadata": {},
   "outputs": [],
   "source": [
    "# 📝 ÉTAPE 1.1.4 : Créer une liste\n",
    "# Créez une liste 'competences' avec 5 compétences techniques\n",
    "# Exemple : [\"Python\", \"SQL\", \"Docker\", \"MongoDB\", \"Git\"]\n",
    "# Utilisez les crochets [] et séparez par des virgules\n",
    "\n",
    "# 👇 Écrivez votre code ici :"
   ]
  },
  {
   "cell_type": "code",
   "execution_count": 2,
   "id": "cda166a7",
   "metadata": {},
   "outputs": [
    {
     "data": {
      "text/html": [
       "\n",
       "        <details style=\"margin: 10px 0; border: 1px solid #ddd; border-radius: 5px; padding: 5px; background: #f9f9f9;\">\n",
       "            <summary style=\"cursor: pointer; background: #fff3e0; padding: 10px; border-radius: 3px; font-weight: bold; color: #ef6c00;\">\n",
       "                💡 Conseil (cliquer pour dérouler)\n",
       "            </summary>\n",
       "            <div style=\"padding: 15px; margin-top: 10px; background: white; border-radius: 3px;\">\n",
       "                <p style=\"margin: 0; color: #333;\">Une liste se crée avec des crochets : competences = ['Python', 'SQL', 'Docker', 'MongoDB', 'Git']</p>\n",
       "            </div>\n",
       "        </details>\n",
       "        "
      ],
      "text/plain": [
       "<IPython.core.display.HTML object>"
      ]
     },
     "metadata": {},
     "output_type": "display_data"
    },
    {
     "data": {
      "text/html": [
       "\n",
       "        <details style=\"margin: 10px 0; border: 1px solid #ddd; border-radius: 5px; padding: 5px; background: #f9f9f9;\">\n",
       "            <summary style=\"cursor: pointer; background: #e8f5e8; padding: 10px; border-radius: 3px; font-weight: bold; color: #2e7d32;\">\n",
       "                🔍 Solution (cliquer pour dérouler)\n",
       "            </summary>\n",
       "            <div style=\"padding: 15px; margin-top: 10px; background: white; border-radius: 3px;\">\n",
       "                <p><strong>💡 Explication :</strong> Une liste (list) contient plusieurs éléments entre crochets, séparés par des virgules.</p>\n",
       "                <pre style=\"background: #f5f5f5; padding: 10px; border-radius: 3px; overflow-x: auto; border-left: 3px solid #4caf50;\"><code>competences = ['Python', 'SQL', 'Docker', 'MongoDB', 'Git']</code></pre>\n",
       "            </div>\n",
       "        </details>\n",
       "        "
      ],
      "text/plain": [
       "<IPython.core.display.HTML object>"
      ]
     },
     "metadata": {},
     "output_type": "display_data"
    }
   ],
   "source": [
    "# 💡 Aide pour l'étape 1.1.4\n",
    "helper.help(\"1.1.4\")"
   ]
  },
  {
   "cell_type": "markdown",
   "id": "049434af",
   "metadata": {},
   "source": [
    "### 📝 Étape 1.1.5 : Créer un dictionnaire\n",
    "\n",
    "**Instructions :**\n",
    "Créer un dictionnaire `profil` qui combine toutes vos variables."
   ]
  },
  {
   "cell_type": "code",
   "execution_count": null,
   "id": "3c8e0f87",
   "metadata": {},
   "outputs": [],
   "source": [
    "# 📝 ÉTAPE 1.1.5 : Créer un dictionnaire\n",
    "# Créez un dictionnaire 'profil' avec les clés :\n",
    "# - \"nom\" : votre variable nom\n",
    "# - \"age\" : votre variable age  \n",
    "# - \"salaire\" : votre variable salaire\n",
    "# - \"competences\" : votre variable competences\n",
    "# Format : {\"clé\": valeur, \"clé2\": valeur2}\n",
    "\n",
    "# 👇 Écrivez votre code ici :"
   ]
  },
  {
   "cell_type": "code",
   "execution_count": null,
   "id": "1e87c810",
   "metadata": {},
   "outputs": [],
   "source": [
    "# 💡 Aide pour l'étape 1.1.5\n",
    "helper.help(\"1.1.5\")"
   ]
  },
  {
   "cell_type": "code",
   "execution_count": null,
   "id": "e855b9e3",
   "metadata": {},
   "outputs": [],
   "source": [
    "# 🎉 VALIDATION FINALE Section 1.1\n",
    "helper.success(\"SECTION 1.1 TERMINÉE ! Vous maîtrisez les types de base Python !\")\n",
    "\n",
    "print(\"\\n🚀 Prêt pour la section suivante : Structures de contrôle\")"
   ]
  },
  {
   "cell_type": "markdown",
   "id": "4d68f9e6",
   "metadata": {},
   "source": [
    "---\n",
    "\n",
    "## 🌟 Section 1.2 : Structures de Contrôle\n",
    "\n",
    "### 🎯 Objectif :\n",
    "Créer une fonction qui categorise l'âge avec des conditions."
   ]
  },
  {
   "cell_type": "markdown",
   "id": "3d3db57d",
   "metadata": {},
   "source": [
    "### 📝 Étape 1.2.1 : Fonction de catégorisation d'âge\n",
    "\n",
    "**Instructions :**\n",
    "Créer une fonction `categoriser_age(age)` avec toutes les conditions."
   ]
  },
  {
   "cell_type": "code",
   "execution_count": null,
   "id": "50b507e6",
   "metadata": {},
   "outputs": [],
   "source": [
    "# 📝 ÉTAPE 1.2.1 : Fonction complète\n",
    "# Créez une fonction 'categoriser_age' qui retourne :\n",
    "# - \"Enfant\" si age < 13\n",
    "# - \"Adolescent\" si 13 <= age < 18\n",
    "# - \"Adulte\" si 18 <= age < 65\n",
    "# - \"Senior\" si age >= 65\n",
    "\n",
    "# Structure :\n",
    "# def categoriser_age(age):\n",
    "#     if ...\n",
    "#     elif ...\n",
    "#     return ...\n",
    "\n",
    "# 👇 Écrivez votre fonction ici :"
   ]
  },
  {
   "cell_type": "code",
   "execution_count": null,
   "id": "81f95d4b",
   "metadata": {},
   "outputs": [],
   "source": [
    "# 💡 Aide pour l'étape 1.2.1\n",
    "helper.help(\"1.2.1\")"
   ]
  },
  {
   "cell_type": "markdown",
   "id": "d1a0d02f",
   "metadata": {},
   "source": [
    "### 📝 Étape 1.2.2 : Test avec une boucle\n",
    "\n",
    "**Instructions :**\n",
    "Créer une liste d'âges et tester la fonction avec une boucle."
   ]
  },
  {
   "cell_type": "code",
   "execution_count": null,
   "id": "4fbfa63e",
   "metadata": {},
   "outputs": [],
   "source": [
    "# 📝 ÉTAPE 1.2.2 : Boucle de test\n",
    "# 1. Créez une liste 'ages_test' avec au moins 5 âges différents\n",
    "# 2. Utilisez une boucle for pour tester chaque âge\n",
    "# 3. Affichez : \"Age X est un(e) Y\" pour chaque test\n",
    "\n",
    "# Syntaxe boucle : \n",
    "# for age in ages_test:\n",
    "#     categorie = categoriser_age(age)\n",
    "#     print(...)\n",
    "\n",
    "# 👇 Écrivez votre code ici :"
   ]
  },
  {
   "cell_type": "code",
   "execution_count": null,
   "id": "7cc635ec",
   "metadata": {},
   "outputs": [],
   "source": [
    "# 💡 Aide pour l'étape 1.2.2\n",
    "helper.help(\"1.2.2\")"
   ]
  },
  {
   "cell_type": "code",
   "execution_count": null,
   "id": "d9f54216",
   "metadata": {},
   "outputs": [],
   "source": [
    "# 🎉 VALIDATION FINALE Section 1.2\n",
    "helper.success(\"SECTION 1.2 TERMINÉE ! Vous maîtrisez les fonctions et boucles !\")\n",
    "\n",
    "print(\"\\n🏆 BRAVO ! Vous avez terminé les fondamentaux Python !\")\n",
    "print(\"📊 Prochaine étape : Manipulation de données avec Pandas\")"
   ]
  },
  {
   "cell_type": "markdown",
   "id": "86c62bd5",
   "metadata": {},
   "source": [
    "---\n",
    "\n",
    "## 🎯 RÉCAPITULATIF DES COMPÉTENCES ACQUISES\n",
    "\n",
    "### ✅ Vous maîtrisez maintenant :\n",
    "\n",
    "**🐍 Types de données Python :**\n",
    "- Variables et assignation\n",
    "- Types : str, int, float, list, dict\n",
    "- Manipulation de base\n",
    "\n",
    "**🔄 Structures de contrôle :**\n",
    "- Conditions if/elif/else\n",
    "- Boucles for\n",
    "- Fonctions avec paramètres et return\n",
    "\n",
    "**🛠️ Bonnes pratiques :**\n",
    "- Code lisible et indenté\n",
    "- Noms de variables explicites\n",
    "- Tests de fonctions\n",
    "\n",
    "---\n",
    "\n",
    "**🚀 Vous êtes prêt(e) pour les sections avancées !**\n",
    "\n",
    "**📖 Consultez les autres notebooks pour continuer :**\n",
    "- 📊 Pandas et manipulation de données\n",
    "- 🔄 ETL et traitement de données\n",
    "- 🗄️ Bases de données SQLite\n",
    "- 🐳 Docker et containerisation\n",
    "- 🍃 MongoDB et NoSQL"
   ]
  }
 ],
 "metadata": {
  "kernelspec": {
   "display_name": ".venvexoultime (3.12.11)",
   "language": "python",
   "name": "python3"
  },
  "language_info": {
   "codemirror_mode": {
    "name": "ipython",
    "version": 3
   },
   "file_extension": ".py",
   "mimetype": "text/x-python",
   "name": "python",
   "nbconvert_exporter": "python",
   "pygments_lexer": "ipython3",
   "version": "3.12.11"
  }
 },
 "nbformat": 4,
 "nbformat_minor": 5
}
