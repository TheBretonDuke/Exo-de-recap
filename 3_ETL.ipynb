{
 "cells": [
  {
   "cell_type": "markdown",
   "id": "63b2d14a",
   "metadata": {},
   "source": [
    "# 🏭 PARTIE 3 : ETL (EXTRACT, TRANSFORM, LOAD)\n",
    "\n",
    "### 🌟 Ce que vous allez apprendre :\n",
    "- **Extract** : Lire des fichiers CSV et JSON\n",
    "- **Transform** : Nettoyer et enrichir les données\n",
    "- **Load** : Sauvegarder vers différents formats\n",
    "- **Pipeline** : Automatiser le processus complet\n",
    "\n",
    "### 🛠️ Prérequis :\n",
    "Exécutez d'abord la cellule système ci-dessous.\n",
    "\n",
    "---"
   ]
  },
  {
   "cell_type": "code",
   "execution_count": 12,
   "id": "bf383928",
   "metadata": {},
   "outputs": [],
   "source": [
    "exec(open('helpers/etl_helper.py').read())"
   ]
  },
  {
   "cell_type": "markdown",
   "id": "184947a7",
   "metadata": {},
   "source": [
    "---\n",
    "\n",
    "## 🌟 Section 3.1 : EXTRACT - Lecture des Données\n",
    "\n",
    "### 🎯 Objectif :\n",
    "Maîtriser la lecture de différents formats de données."
   ]
  },
  {
   "cell_type": "markdown",
   "id": "769cc809",
   "metadata": {},
   "source": [
    "### 📝 Étape 3.1.1 : Extraction CSV\n",
    "\n",
    "**Instructions :**\n",
    "Lire le fichier `ventes.csv` avec pandas."
   ]
  },
  {
   "cell_type": "code",
   "execution_count": null,
   "id": "f43702db",
   "metadata": {},
   "outputs": [],
   "source": [
    "# 📝 ÉTAPE 3.1.1 : Lecture CSV\n",
    "# Lisez le fichier 'data_etl/ventes.csv' dans un DataFrame 'df_ventes'\n",
    "# Utilisez pd.read_csv()\n",
    "\n",
    "# Syntaxe : df = pd.read_csv('chemin/fichier.csv')\n",
    "\n",
    "# 👇 Lisez le fichier CSV ici :"
   ]
  },
  {
   "cell_type": "code",
   "execution_count": 7,
   "id": "19edafe8",
   "metadata": {},
   "outputs": [
    {
     "data": {
      "text/html": [
       "\n",
       "        <details style=\"margin: 10px 0; border: 1px solid #ddd; border-radius: 5px; padding: 5px; background: #f9f9f9;\">\n",
       "            <summary style=\"cursor: pointer; background: #fff3e0; padding: 10px; border-radius: 3px; font-weight: bold; color: #ef6c00;\">\n",
       "                💡 Conseil ETL (cliquer pour dérouler)\n",
       "            </summary>\n",
       "            <div style=\"padding: 15px; margin-top: 10px; background: white; border-radius: 3px;\">\n",
       "                <p style=\"margin: 0; color: #333;\">Utilisez pd.read_csv('chemin/fichier.csv'). Le fichier sera dans le dossier data_etl/</p>\n",
       "            </div>\n",
       "        </details>\n",
       "        "
      ],
      "text/plain": [
       "<IPython.core.display.HTML object>"
      ]
     },
     "metadata": {},
     "output_type": "display_data"
    },
    {
     "data": {
      "text/html": [
       "\n",
       "        <details style=\"margin: 10px 0; border: 1px solid #ddd; border-radius: 5px; padding: 5px; background: #f9f9f9;\">\n",
       "            <summary style=\"cursor: pointer; background: #e8f5e8; padding: 10px; border-radius: 3px; font-weight: bold; color: #2e7d32;\">\n",
       "                🔍 Solution ETL (cliquer pour dérouler)\n",
       "            </summary>\n",
       "            <div style=\"padding: 15px; margin-top: 10px; background: white; border-radius: 3px;\">\n",
       "                <p><strong>🏭 Explication :</strong> pd.read_csv() lit un fichier CSV et le convertit en DataFrame. Vérifiez toujours la structure après extraction.</p>\n",
       "                <pre style=\"background: #f5f5f5; padding: 10px; border-radius: 3px; overflow-x: auto; border-left: 3px solid #ff6b35;\"><code># Extract - Lire le fichier CSV des ventes\n",
       "df_ventes = pd.read_csv('data_etl/ventes.csv')\n",
       "\n",
       "print(f\"📊 Ventes extraites: {len(df_ventes)} lignes\")\n",
       "print(\"📋 Colonnes:\", list(df_ventes.columns))\n",
       "print(\"\\n🔍 Aperçu:\")\n",
       "print(df_ventes.head())</code></pre>\n",
       "            </div>\n",
       "        </details>\n",
       "        "
      ],
      "text/plain": [
       "<IPython.core.display.HTML object>"
      ]
     },
     "metadata": {},
     "output_type": "display_data"
    }
   ],
   "source": [
    "# 💡 Aide pour l'étape 3.1.1\n",
    "etl_helper.help(\"3.1.1\")"
   ]
  },
  {
   "cell_type": "markdown",
   "id": "2ce9181a",
   "metadata": {},
   "source": [
    "### 📝 Étape 3.1.2 : Extraction JSON\n",
    "\n",
    "**Instructions :**\n",
    "Lire le fichier `clients.json` et le convertir en DataFrame."
   ]
  },
  {
   "cell_type": "code",
   "execution_count": null,
   "id": "9c0d0b82",
   "metadata": {},
   "outputs": [],
   "source": [
    "# 📝 ÉTAPE 3.1.2 : Lecture JSON\n",
    "# 1. Ouvrez le fichier 'data_etl/clients.json' avec json.load()\n",
    "# 2. Convertissez les données JSON en DataFrame 'df_clients'\n",
    "# \n",
    "# Structure JSON :\n",
    "# {\n",
    "#   \"clients\": [\n",
    "#     {\"id\": 1, \"nom\": \"Martin\", ...},\n",
    "#     {\"id\": 2, \"nom\": \"Dubois\", ...}\n",
    "#   ]\n",
    "# }\n",
    "\n",
    "# Syntaxe :\n",
    "# with open('fichier.json', 'r', encoding='utf-8') as f:\n",
    "#     data = json.load(f)\n",
    "# df = pd.DataFrame(data['clients'])\n",
    "\n",
    "# 👇 Lisez le fichier JSON ici :"
   ]
  },
  {
   "cell_type": "code",
   "execution_count": 8,
   "id": "0bd4cde5",
   "metadata": {},
   "outputs": [
    {
     "data": {
      "text/html": [
       "\n",
       "        <details style=\"margin: 10px 0; border: 1px solid #ddd; border-radius: 5px; padding: 5px; background: #f9f9f9;\">\n",
       "            <summary style=\"cursor: pointer; background: #fff3e0; padding: 10px; border-radius: 3px; font-weight: bold; color: #ef6c00;\">\n",
       "                💡 Conseil ETL (cliquer pour dérouler)\n",
       "            </summary>\n",
       "            <div style=\"padding: 15px; margin-top: 10px; background: white; border-radius: 3px;\">\n",
       "                <p style=\"margin: 0; color: #333;\">Utilisez pd.read_json('chemin/fichier.json'). Les données JSON peuvent avoir une structure complexe.</p>\n",
       "            </div>\n",
       "        </details>\n",
       "        "
      ],
      "text/plain": [
       "<IPython.core.display.HTML object>"
      ]
     },
     "metadata": {},
     "output_type": "display_data"
    },
    {
     "data": {
      "text/html": [
       "\n",
       "        <details style=\"margin: 10px 0; border: 1px solid #ddd; border-radius: 5px; padding: 5px; background: #f9f9f9;\">\n",
       "            <summary style=\"cursor: pointer; background: #e8f5e8; padding: 10px; border-radius: 3px; font-weight: bold; color: #2e7d32;\">\n",
       "                🔍 Solution ETL (cliquer pour dérouler)\n",
       "            </summary>\n",
       "            <div style=\"padding: 15px; margin-top: 10px; background: white; border-radius: 3px;\">\n",
       "                <p><strong>🏭 Explication :</strong> pd.read_json() convertit les données JSON en DataFrame. JSON peut contenir des structures imbriquées.</p>\n",
       "                <pre style=\"background: #f5f5f5; padding: 10px; border-radius: 3px; overflow-x: auto; border-left: 3px solid #ff6b35;\"><code># Extract - Lire le fichier JSON des clients  \n",
       "df_clients = pd.read_json('data_etl/clients.json')\n",
       "\n",
       "print(f\"👥 Clients extraits: {len(df_clients)} lignes\") \n",
       "print(\"📋 Colonnes:\", list(df_clients.columns))\n",
       "print(\"\\n🔍 Aperçu:\")\n",
       "print(df_clients.head())</code></pre>\n",
       "            </div>\n",
       "        </details>\n",
       "        "
      ],
      "text/plain": [
       "<IPython.core.display.HTML object>"
      ]
     },
     "metadata": {},
     "output_type": "display_data"
    },
    {
     "data": {
      "text/html": [
       "\n",
       "        <div style=\"background: linear-gradient(90deg, #FF6B35, #F7931E); color: white; padding: 15px; border-radius: 10px; margin: 10px 0; text-align: center; font-weight: bold; font-size: 16px;\">\n",
       "            🏭 Section 3.1 terminée ! Vous maîtrisez l'extraction de données ! 🏭\n",
       "        </div>\n",
       "        "
      ],
      "text/plain": [
       "<IPython.core.display.HTML object>"
      ]
     },
     "metadata": {},
     "output_type": "display_data"
    }
   ],
   "source": [
    "# 💡 Aide pour l'étape 3.1.2\n",
    "etl_helper.help(\"3.1.2\")\n",
    "\n",
    "etl_helper.success(\"Section 3.1 terminée ! Vous maîtrisez l'extraction de données !\")"
   ]
  },
  {
   "cell_type": "markdown",
   "id": "088553f5",
   "metadata": {},
   "source": [
    "---\n",
    "\n",
    "## 🌟 Section 3.2 : TRANSFORM - Transformation des Données\n",
    "\n",
    "### 🎯 Objectif :\n",
    "Nettoyer, enrichir et transformer les données extraites."
   ]
  },
  {
   "cell_type": "markdown",
   "id": "3668b8c1",
   "metadata": {},
   "source": [
    "### 📝 Étape 3.2.1 : Nettoyage des données ventes\n",
    "\n",
    "**Instructions :**\n",
    "Transformer et enrichir le DataFrame des ventes."
   ]
  },
  {
   "cell_type": "code",
   "execution_count": null,
   "id": "ab6e1c68",
   "metadata": {},
   "outputs": [],
   "source": [
    "# 📝 ÉTAPE 3.2.1 : Transform ventes\n",
    "# Transformez df_ventes en df_ventes_clean avec ces opérations :\n",
    "# 1. Convertir la colonne 'date' en datetime avec pd.to_datetime()\n",
    "# 2. Créer une colonne 'montant_total' = quantite * prix_unitaire\n",
    "# 3. Créer une colonne 'mois' extraite de la date (df['date'].dt.month)\n",
    "# 4. Créer une colonne 'categorie_prix' :\n",
    "#    - 'Économique' si prix_unitaire < 50\n",
    "#    - 'Moyen' si 50 <= prix_unitaire < 200  \n",
    "#    - 'Premium' si prix_unitaire >= 200\n",
    "\n",
    "# Commencez par copier le DataFrame original :\n",
    "# df_ventes_clean = df_ventes.copy()\n",
    "\n",
    "# 👇 Transformez les données ici :"
   ]
  },
  {
   "cell_type": "code",
   "execution_count": null,
   "id": "12a7996f",
   "metadata": {},
   "outputs": [],
   "source": [
    "# 🎬 Démonstration des transformations\n",
    "def demo_transform_ventes():\n",
    "    try:\n",
    "        print(\"🔄 TRANSFORMATIONS APPLIQUÉES\")\n",
    "        print(\"=\"*35)\n",
    "        print(f\"📊 Nouvelles colonnes: {list(df_ventes_clean.columns)}\")\n",
    "        print(f\"💰 Montant total moyen: {df_ventes_clean['montant_total'].mean():.2f}€\")\n",
    "        print(f\"📅 Type colonne date: {df_ventes_clean['date'].dtype}\")\n",
    "        \n",
    "        print(\"\\n📈 Répartition catégories prix:\")\n",
    "        print(df_ventes_clean['categorie_prix'].value_counts())\n",
    "        \n",
    "        print(\"\\n🔍 Aperçu données transformées:\")\n",
    "        print(df_ventes_clean[['produit', 'prix_unitaire', 'quantite', 'montant_total', 'categorie_prix']].head())\n",
    "        \n",
    "    except NameError:\n",
    "        print(\"⚠️ Créez d'abord df_ventes_clean\")\n",
    "\n",
    "etl_helper.demo_button(demo_transform_ventes, \"🎬 Voir les transformations\")"
   ]
  },
  {
   "cell_type": "code",
   "execution_count": 9,
   "id": "99a3862d",
   "metadata": {},
   "outputs": [
    {
     "data": {
      "text/html": [
       "\n",
       "        <details style=\"margin: 10px 0; border: 1px solid #ddd; border-radius: 5px; padding: 5px; background: #f9f9f9;\">\n",
       "            <summary style=\"cursor: pointer; background: #fff3e0; padding: 10px; border-radius: 3px; font-weight: bold; color: #ef6c00;\">\n",
       "                💡 Conseil ETL (cliquer pour dérouler)\n",
       "            </summary>\n",
       "            <div style=\"padding: 15px; margin-top: 10px; background: white; border-radius: 3px;\">\n",
       "                <p style=\"margin: 0; color: #333;\">Utilisez .dropna(), .fillna(), .astype() pour nettoyer. pd.to_datetime() pour les dates.</p>\n",
       "            </div>\n",
       "        </details>\n",
       "        "
      ],
      "text/plain": [
       "<IPython.core.display.HTML object>"
      ]
     },
     "metadata": {},
     "output_type": "display_data"
    },
    {
     "data": {
      "text/html": [
       "\n",
       "        <details style=\"margin: 10px 0; border: 1px solid #ddd; border-radius: 5px; padding: 5px; background: #f9f9f9;\">\n",
       "            <summary style=\"cursor: pointer; background: #e8f5e8; padding: 10px; border-radius: 3px; font-weight: bold; color: #2e7d32;\">\n",
       "                🔍 Solution ETL (cliquer pour dérouler)\n",
       "            </summary>\n",
       "            <div style=\"padding: 15px; margin-top: 10px; background: white; border-radius: 3px;\">\n",
       "                <p><strong>🏭 Explication :</strong> Transform nettoie et transforme les données: suppression des nulls, conversion de types, validation.</p>\n",
       "                <pre style=\"background: #f5f5f5; padding: 10px; border-radius: 3px; overflow-x: auto; border-left: 3px solid #ff6b35;\"><code># Transform - Nettoyer les données de ventes\n",
       "df_ventes_clean = df_ventes.copy()\n",
       "\n",
       "# Supprimer les lignes avec des valeurs manquantes critiques\n",
       "df_ventes_clean = df_ventes_clean.dropna(subset=['produit', 'prix'])\n",
       "\n",
       "# Convertir les dates\n",
       "df_ventes_clean['date'] = pd.to_datetime(df_ventes_clean['date'])\n",
       "\n",
       "# Nettoyer les prix (convertir en float)\n",
       "df_ventes_clean['prix'] = pd.to_numeric(df_ventes_clean['prix'], errors='coerce')\n",
       "\n",
       "# Supprimer les prix invalides\n",
       "df_ventes_clean = df_ventes_clean.dropna(subset=['prix'])\n",
       "\n",
       "print(f\"🧹 Données nettoyées: {len(df_ventes_clean)} lignes (était {len(df_ventes)})\")</code></pre>\n",
       "            </div>\n",
       "        </details>\n",
       "        "
      ],
      "text/plain": [
       "<IPython.core.display.HTML object>"
      ]
     },
     "metadata": {},
     "output_type": "display_data"
    }
   ],
   "source": [
    "# 💡 Aide pour l'étape 3.2.1\n",
    "etl_helper.help(\"3.2.1\")"
   ]
  },
  {
   "cell_type": "markdown",
   "id": "e4f1c06d",
   "metadata": {},
   "source": [
    "### 📝 Étape 3.2.2 : Enrichissement des données clients\n",
    "\n",
    "**Instructions :**\n",
    "Transformer le DataFrame des clients."
   ]
  },
  {
   "cell_type": "code",
   "execution_count": null,
   "id": "a9b63354",
   "metadata": {},
   "outputs": [],
   "source": [
    "# 📝 ÉTAPE 3.2.2 : Transform clients\n",
    "# Transformez df_clients en df_clients_clean avec :\n",
    "# 1. Créer une colonne 'nom_complet' = prenom + \" \" + nom\n",
    "# 2. Créer une colonne 'tranche_age' :\n",
    "#    - 'Jeune' si age < 30\n",
    "#    - 'Adulte' si 30 <= age < 50\n",
    "#    - 'Senior' si age >= 50\n",
    "# 3. Créer une colonne 'region' selon la ville :\n",
    "#    - 'Nord' pour Paris, Lyon\n",
    "#    - 'Sud' pour Marseille, Nice, Toulouse\n",
    "\n",
    "# 👇 Transformez les clients ici :"
   ]
  },
  {
   "cell_type": "code",
   "execution_count": 10,
   "id": "3ffed09d",
   "metadata": {},
   "outputs": [
    {
     "data": {
      "text/html": [
       "\n",
       "        <details style=\"margin: 10px 0; border: 1px solid #ddd; border-radius: 5px; padding: 5px; background: #f9f9f9;\">\n",
       "            <summary style=\"cursor: pointer; background: #fff3e0; padding: 10px; border-radius: 3px; font-weight: bold; color: #ef6c00;\">\n",
       "                💡 Conseil ETL (cliquer pour dérouler)\n",
       "            </summary>\n",
       "            <div style=\"padding: 15px; margin-top: 10px; background: white; border-radius: 3px;\">\n",
       "                <p style=\"margin: 0; color: #333;\">Utilisez les mêmes techniques de nettoyage. Attention aux données clients qui peuvent être plus complexes.</p>\n",
       "            </div>\n",
       "        </details>\n",
       "        "
      ],
      "text/plain": [
       "<IPython.core.display.HTML object>"
      ]
     },
     "metadata": {},
     "output_type": "display_data"
    },
    {
     "data": {
      "text/html": [
       "\n",
       "        <details style=\"margin: 10px 0; border: 1px solid #ddd; border-radius: 5px; padding: 5px; background: #f9f9f9;\">\n",
       "            <summary style=\"cursor: pointer; background: #e8f5e8; padding: 10px; border-radius: 3px; font-weight: bold; color: #2e7d32;\">\n",
       "                🔍 Solution ETL (cliquer pour dérouler)\n",
       "            </summary>\n",
       "            <div style=\"padding: 15px; margin-top: 10px; background: white; border-radius: 3px;\">\n",
       "                <p><strong>🏭 Explication :</strong> Nettoyage spécifique aux clients: suppression doublons, validation âges, données obligatoires.</p>\n",
       "                <pre style=\"background: #f5f5f5; padding: 10px; border-radius: 3px; overflow-x: auto; border-left: 3px solid #ff6b35;\"><code># Transform - Nettoyer les données clients\n",
       "df_clients_clean = df_clients.copy()\n",
       "\n",
       "# Supprimer les doublons basés sur l'email\n",
       "df_clients_clean = df_clients_clean.drop_duplicates(subset=['email'], keep='first')\n",
       "\n",
       "# Nettoyer les âges (valeurs raisonnables)\n",
       "df_clients_clean = df_clients_clean[(df_clients_clean['age'] >= 18) & (df_clients_clean['age'] <= 100)]\n",
       "\n",
       "# Nettoyer les noms (pas de valeurs vides)\n",
       "df_clients_clean = df_clients_clean.dropna(subset=['nom', 'email'])\n",
       "\n",
       "print(f\"👥 Clients nettoyés: {len(df_clients_clean)} lignes (était {len(df_clients)})\")</code></pre>\n",
       "            </div>\n",
       "        </details>\n",
       "        "
      ],
      "text/plain": [
       "<IPython.core.display.HTML object>"
      ]
     },
     "metadata": {},
     "output_type": "display_data"
    },
    {
     "data": {
      "text/html": [
       "\n",
       "        <div style=\"background: linear-gradient(90deg, #FF6B35, #F7931E); color: white; padding: 15px; border-radius: 10px; margin: 10px 0; text-align: center; font-weight: bold; font-size: 16px;\">\n",
       "            🏭 Section 3.2 terminée ! Vous maîtrisez la transformation de données ! 🏭\n",
       "        </div>\n",
       "        "
      ],
      "text/plain": [
       "<IPython.core.display.HTML object>"
      ]
     },
     "metadata": {},
     "output_type": "display_data"
    }
   ],
   "source": [
    "# 💡 Aide pour l'étape 3.2.2\n",
    "etl_helper.help(\"3.2.2\")\n",
    "\n",
    "etl_helper.success(\"Section 3.2 terminée ! Vous maîtrisez la transformation de données !\")"
   ]
  },
  {
   "cell_type": "markdown",
   "id": "994801b3",
   "metadata": {},
   "source": [
    "---\n",
    "\n",
    "## 🌟 Section 3.3 : LOAD - Sauvegarde des Données\n",
    "\n",
    "### 🎯 Objectif :\n",
    "Sauvegarder les données transformées vers différents formats."
   ]
  },
  {
   "cell_type": "markdown",
   "id": "05db7161",
   "metadata": {},
   "source": [
    "### 📝 Étape 3.3.1 : Sauvegarde CSV\n",
    "\n",
    "**Instructions :**\n",
    "Sauvegarder les DataFrames transformés en CSV."
   ]
  },
  {
   "cell_type": "code",
   "execution_count": null,
   "id": "25b45b55",
   "metadata": {},
   "outputs": [],
   "source": [
    "# 📝 ÉTAPE 3.3.1 : Sauvegarde CSV\n",
    "# Sauvegardez les DataFrames transformés :\n",
    "# 1. df_ventes_clean → 'data_etl/ventes_clean.csv'\n",
    "# 2. df_clients_clean → 'data_etl/clients_clean.csv'\n",
    "\n",
    "# Utilisez .to_csv() avec index=False pour éviter les index\n",
    "\n",
    "# 👇 Sauvegardez en CSV ici :"
   ]
  },
  {
   "cell_type": "markdown",
   "id": "5c400cf3",
   "metadata": {},
   "source": [
    "### 📝 Étape 3.3.2 : Agrégation et sauvegarde JSON\n",
    "\n",
    "**Instructions :**\n",
    "Créer un rapport agrégé et le sauvegarder en JSON."
   ]
  },
  {
   "cell_type": "code",
   "execution_count": null,
   "id": "e80a5cab",
   "metadata": {},
   "outputs": [],
   "source": [
    "# 📝 ÉTAPE 3.3.2 : Rapport agrégé JSON\n",
    "# Créez un dictionnaire 'rapport_ventes' avec :\n",
    "# 1. 'total_ventes' : somme de tous les montants_total\n",
    "# 2. 'nb_transactions' : nombre total de lignes\n",
    "# 3. 'vente_moyenne' : montant moyen par transaction\n",
    "# 4. 'top_produits' : les 3 produits les plus vendus (en quantité)\n",
    "# 5. 'ventes_par_mois' : montant total par mois\n",
    "# 6. 'date_rapport' : date actuelle (datetime.now().isoformat())\n",
    "\n",
    "# Puis sauvegardez en JSON dans 'data_etl/rapport_ventes.json'\n",
    "\n",
    "# Aide :\n",
    "# - .sum(), .mean(), .count() pour les agrégations\n",
    "# - .groupby('produit')['quantite'].sum().nlargest(3) pour le top\n",
    "# - .groupby('mois')['montant_total'].sum() pour par mois\n",
    "\n",
    "# 👇 Créez et sauvegardez le rapport ici :"
   ]
  },
  {
   "cell_type": "code",
   "execution_count": 11,
   "id": "ff991a88",
   "metadata": {},
   "outputs": [
    {
     "data": {
      "text/html": [
       "\n",
       "        <details style=\"margin: 10px 0; border: 1px solid #ddd; border-radius: 5px; padding: 5px; background: #f9f9f9;\">\n",
       "            <summary style=\"cursor: pointer; background: #fff3e0; padding: 10px; border-radius: 3px; font-weight: bold; color: #ef6c00;\">\n",
       "                💡 Conseil ETL (cliquer pour dérouler)\n",
       "            </summary>\n",
       "            <div style=\"padding: 15px; margin-top: 10px; background: white; border-radius: 3px;\">\n",
       "                <p style=\"margin: 0; color: #333;\">Utilisez .to_json() avec les paramètres orient et indent pour un JSON lisible.</p>\n",
       "            </div>\n",
       "        </details>\n",
       "        "
      ],
      "text/plain": [
       "<IPython.core.display.HTML object>"
      ]
     },
     "metadata": {},
     "output_type": "display_data"
    },
    {
     "data": {
      "text/html": [
       "\n",
       "        <details style=\"margin: 10px 0; border: 1px solid #ddd; border-radius: 5px; padding: 5px; background: #f9f9f9;\">\n",
       "            <summary style=\"cursor: pointer; background: #e8f5e8; padding: 10px; border-radius: 3px; font-weight: bold; color: #2e7d32;\">\n",
       "                🔍 Solution ETL (cliquer pour dérouler)\n",
       "            </summary>\n",
       "            <div style=\"padding: 15px; margin-top: 10px; background: white; border-radius: 3px;\">\n",
       "                <p><strong>🏭 Explication :</strong> to_json() sauvegarde un DataFrame en JSON. orient='records' crée un format liste de dictionnaires.</p>\n",
       "                <pre style=\"background: #f5f5f5; padding: 10px; border-radius: 3px; overflow-x: auto; border-left: 3px solid #ff6b35;\"><code># Load - Sauvegarder en JSON\n",
       "# Fusion des données pour créer un dataset complet\n",
       "df_final = df_ventes_clean.merge(df_clients_clean, left_on='client_id', right_on='id', how='inner')\n",
       "\n",
       "# Sauvegarder en JSON avec formatage\n",
       "output_json = 'data_etl/rapport_final.json'\n",
       "df_final.to_json(output_json, orient='records', indent=2, date_format='iso')\n",
       "\n",
       "print(f\"💾 Données sauvegardées en JSON: {output_json}\")\n",
       "print(f\"📊 {len(df_final)} enregistrements dans le fichier final\")</code></pre>\n",
       "            </div>\n",
       "        </details>\n",
       "        "
      ],
      "text/plain": [
       "<IPython.core.display.HTML object>"
      ]
     },
     "metadata": {},
     "output_type": "display_data"
    },
    {
     "data": {
      "text/html": [
       "\n",
       "        <div style=\"background: linear-gradient(90deg, #FF6B35, #F7931E); color: white; padding: 15px; border-radius: 10px; margin: 10px 0; text-align: center; font-weight: bold; font-size: 16px;\">\n",
       "            🏭 Section 3.3 terminée ! Vous maîtrisez la sauvegarde de données ! 🏭\n",
       "        </div>\n",
       "        "
      ],
      "text/plain": [
       "<IPython.core.display.HTML object>"
      ]
     },
     "metadata": {},
     "output_type": "display_data"
    }
   ],
   "source": [
    "# 💡 Aide pour l'étape 3.3.2\n",
    "etl_helper.help(\"3.3.2\")\n",
    "\n",
    "etl_helper.success(\"Section 3.3 terminée ! Vous maîtrisez la sauvegarde de données !\")"
   ]
  },
  {
   "cell_type": "markdown",
   "id": "e533d668",
   "metadata": {},
   "source": [
    "---\n",
    "\n",
    "## 🌟 Section 3.4 : Pipeline ETL Complet\n",
    "\n",
    "### 🎯 Objectif :\n",
    "Créer une fonction pipeline complète automatisée."
   ]
  },
  {
   "cell_type": "code",
   "execution_count": null,
   "id": "18c3336a",
   "metadata": {},
   "outputs": [],
   "source": [
    "# 📝 ÉTAPE 3.4 : Pipeline ETL automatisé\n",
    "# Créez une fonction 'pipeline_etl()' qui :\n",
    "# 1. EXTRACT : lit les fichiers CSV et JSON\n",
    "# 2. TRANSFORM : applique toutes les transformations\n",
    "# 3. LOAD : sauvegarde tous les résultats\n",
    "# 4. Retourne un dictionnaire avec les métriques du pipeline\n",
    "\n",
    "def pipeline_etl():\n",
    "    \"\"\"Pipeline ETL complet automatisé\"\"\"\n",
    "    print(\"🏭 DÉMARRAGE PIPELINE ETL\")\n",
    "    print(\"=\"*30)\n",
    "    \n",
    "    # 📥 EXTRACT\n",
    "    print(\"📥 Phase EXTRACT...\")\n",
    "    # Votre code extract ici\n",
    "    \n",
    "    # 🔄 TRANSFORM  \n",
    "    print(\"🔄 Phase TRANSFORM...\")\n",
    "    # Votre code transform ici\n",
    "    \n",
    "    # 💾 LOAD\n",
    "    print(\"💾 Phase LOAD...\")\n",
    "    # Votre code load ici\n",
    "    \n",
    "    # 📊 Métriques\n",
    "    metriques = {\n",
    "        'ventes_lues': 0,  # Remplacez par len(df_ventes)\n",
    "        'clients_lus': 0,  # Remplacez par len(df_clients)\n",
    "        'ventes_transformees': 0,  # len(df_ventes_clean)\n",
    "        'clients_transformes': 0,  # len(df_clients_clean)\n",
    "        'fichiers_crees': 0,  # Nombre de fichiers créés\n",
    "        'duree': 0  # En secondes\n",
    "    }\n",
    "    \n",
    "    print(\"✅ PIPELINE TERMINÉ\")\n",
    "    return metriques\n",
    "\n",
    "# 👇 Complétez la fonction pipeline_etl :"
   ]
  },
  {
   "cell_type": "code",
   "execution_count": 15,
   "id": "72e0a4ec",
   "metadata": {},
   "outputs": [
    {
     "data": {
      "text/html": [
       "\n",
       "        <details style=\"margin: 10px 0; border: 1px solid #ddd; border-radius: 5px; padding: 5px; background: #f9f9f9;\">\n",
       "            <summary style=\"cursor: pointer; background: #fff3e0; padding: 10px; border-radius: 3px; font-weight: bold; color: #ef6c00;\">\n",
       "                💡 Conseil ETL (cliquer pour dérouler)\n",
       "            </summary>\n",
       "            <div style=\"padding: 15px; margin-top: 10px; background: white; border-radius: 3px;\">\n",
       "                <p style=\"margin: 0; color: #333;\">Un pipeline ETL automatise Extract→Transform→Load. Structurez avec des phases claires et mesurez les performances.</p>\n",
       "            </div>\n",
       "        </details>\n",
       "        "
      ],
      "text/plain": [
       "<IPython.core.display.HTML object>"
      ]
     },
     "metadata": {},
     "output_type": "display_data"
    },
    {
     "data": {
      "text/html": [
       "\n",
       "        <details style=\"margin: 10px 0; border: 1px solid #ddd; border-radius: 5px; padding: 5px; background: #f9f9f9;\">\n",
       "            <summary style=\"cursor: pointer; background: #e8f5e8; padding: 10px; border-radius: 3px; font-weight: bold; color: #2e7d32;\">\n",
       "                🔍 Solution ETL (cliquer pour dérouler)\n",
       "            </summary>\n",
       "            <div style=\"padding: 15px; margin-top: 10px; background: white; border-radius: 3px;\">\n",
       "                <p><strong>🏭 Explication :</strong> Un pipeline ETL structure le processus en 3 phases : Extract (lecture), Transform (nettoyage), Load (sauvegarde). Mesurez les performances et gérez les erreurs.</p>\n",
       "                <pre style=\"background: #f5f5f5; padding: 10px; border-radius: 3px; overflow-x: auto; border-left: 3px solid #ff6b35;\"><code>def pipeline_etl():\n",
       "    \"\"\"Pipeline ETL complet automatisé\"\"\"\n",
       "    import time\n",
       "    start_time = time.time()\n",
       "    print(\"🏭 DÉMARRAGE PIPELINE ETL\")\n",
       "    print(\"=\"*30)\n",
       "    \n",
       "    # 📥 EXTRACT\n",
       "    print(\"📥 Phase EXTRACT...\")\n",
       "    df_ventes = pd.read_csv('data_etl/ventes.csv')\n",
       "    with open('data_etl/clients.json', 'r', encoding='utf-8') as f:\n",
       "        data = json.load(f)\n",
       "    df_clients = pd.DataFrame(data['clients'])\n",
       "    \n",
       "    # 🔄 TRANSFORM  \n",
       "    print(\"🔄 Phase TRANSFORM...\")\n",
       "    # Ventes\n",
       "    df_ventes_clean = df_ventes.copy()\n",
       "    df_ventes_clean['date'] = pd.to_datetime(df_ventes_clean['date'])\n",
       "    df_ventes_clean['montant_total'] = df_ventes_clean['quantite'] * df_ventes_clean['prix_unitaire']\n",
       "    df_ventes_clean['mois'] = df_ventes_clean['date'].dt.month\n",
       "    df_ventes_clean['categorie_prix'] = np.where(\n",
       "        df_ventes_clean['prix_unitaire'] < 50, 'Économique',\n",
       "        np.where(df_ventes_clean['prix_unitaire'] < 200, 'Moyen', 'Premium')\n",
       "    )\n",
       "    \n",
       "    # Clients\n",
       "    df_clients_clean = df_clients.copy()\n",
       "    df_clients_clean['nom_complet'] = df_clients_clean['prenom'] + \" \" + df_clients_clean['nom']\n",
       "    df_clients_clean['tranche_age'] = np.where(\n",
       "        df_clients_clean['age'] < 30, 'Jeune',\n",
       "        np.where(df_clients_clean['age'] < 50, 'Adulte', 'Senior')\n",
       "    )\n",
       "    mapping_region = {\n",
       "        'Paris': 'Nord', 'Lyon': 'Nord',\n",
       "        'Marseille': 'Sud', 'Nice': 'Sud', 'Toulouse': 'Sud'\n",
       "    }\n",
       "    df_clients_clean['region'] = df_clients_clean['ville'].map(mapping_region)\n",
       "    \n",
       "    # 💾 LOAD\n",
       "    print(\"💾 Phase LOAD...\")\n",
       "    df_ventes_clean.to_csv('data_etl/ventes_clean.csv', index=False)\n",
       "    df_clients_clean.to_csv('data_etl/clients_clean.csv', index=False)\n",
       "    \n",
       "    rapport_ventes = {\n",
       "        'total_ventes': float(df_ventes_clean['montant_total'].sum()),\n",
       "        'nb_transactions': int(len(df_ventes_clean)),\n",
       "        'vente_moyenne': float(df_ventes_clean['montant_total'].mean()),\n",
       "        'date_rapport': datetime.now().isoformat()\n",
       "    }\n",
       "    \n",
       "    with open('data_etl/rapport_ventes.json', 'w', encoding='utf-8') as f:\n",
       "        json.dump(rapport_ventes, f, ensure_ascii=False, indent=2)\n",
       "    \n",
       "    # 📊 Métriques\n",
       "    duree = time.time() - start_time\n",
       "    metriques = {\n",
       "        'ventes_lues': len(df_ventes),\n",
       "        'clients_lus': len(df_clients), \n",
       "        'ventes_transformees': len(df_ventes_clean),\n",
       "        'clients_transformes': len(df_clients_clean),\n",
       "        'fichiers_crees': 3,\n",
       "        'duree': round(duree, 2)\n",
       "    }\n",
       "    \n",
       "    print(f\"✅ PIPELINE TERMINÉ en {duree:.2f}s\")\n",
       "    return metriques\n",
       "\n",
       "# Test du pipeline\n",
       "# metriques = pipeline_etl()\n",
       "# print(\"📊 Métriques:\", metriques)</code></pre>\n",
       "            </div>\n",
       "        </details>\n",
       "        "
      ],
      "text/plain": [
       "<IPython.core.display.HTML object>"
      ]
     },
     "metadata": {},
     "output_type": "display_data"
    }
   ],
   "source": [
    "# 💡 Aide pour l'étape 3.4.1 : Pipeline ETL complet\n",
    "\n",
    "# Forcer le rechargement du helper pour prendre en compte les nouvelles sections\n",
    "etl_helper = ETLHelper()\n",
    "\n",
    "etl_helper.help(\"3.4.1\")"
   ]
  },
  {
   "cell_type": "code",
   "execution_count": 16,
   "id": "62f4767d",
   "metadata": {},
   "outputs": [
    {
     "data": {
      "text/html": [
       "\n",
       "        <div style=\"background: linear-gradient(90deg, #FF6B35, #F7931E); color: white; padding: 15px; border-radius: 10px; margin: 10px 0; text-align: center; font-weight: bold; font-size: 16px;\">\n",
       "            🏭 MAÎTRE ETL ! Pipeline automatisé maîtrisé ! 🏭\n",
       "        </div>\n",
       "        "
      ],
      "text/plain": [
       "<IPython.core.display.HTML object>"
      ]
     },
     "metadata": {},
     "output_type": "display_data"
    },
    {
     "name": "stdout",
     "output_type": "stream",
     "text": [
      "\n",
      "🏆 COMPÉTENCES ETL ACQUISES :\n",
      "✅ Extract: CSV, JSON, API\n",
      "✅ Transform: Nettoyage, enrichissement, agrégation\n",
      "✅ Load: CSV, JSON, bases de données\n",
      "✅ Pipeline: Automatisation complète\n",
      "✅ Monitoring: Métriques et performance\n",
      "\n",
      "🚀 Prêt pour : SQLite et bases de données !\n"
     ]
    }
   ],
   "source": [
    "# 🎉 VALIDATION FINALE ETL\n",
    "etl_helper.success(\"MAÎTRE ETL ! Pipeline automatisé maîtrisé !\")\n",
    "\n",
    "print(\"\\n🏆 COMPÉTENCES ETL ACQUISES :\")\n",
    "print(\"✅ Extract: CSV, JSON, API\")\n",
    "print(\"✅ Transform: Nettoyage, enrichissement, agrégation\")\n",
    "print(\"✅ Load: CSV, JSON, bases de données\")\n",
    "print(\"✅ Pipeline: Automatisation complète\")\n",
    "print(\"✅ Monitoring: Métriques et performance\")\n",
    "print(\"\\n🚀 Prêt pour : SQLite et bases de données !\")"
   ]
  }
 ],
 "metadata": {
  "kernelspec": {
   "display_name": ".venvexoultime (3.12.11)",
   "language": "python",
   "name": "python3"
  },
  "language_info": {
   "codemirror_mode": {
    "name": "ipython",
    "version": 3
   },
   "file_extension": ".py",
   "mimetype": "text/x-python",
   "name": "python",
   "nbconvert_exporter": "python",
   "pygments_lexer": "ipython3",
   "version": "3.12.11"
  }
 },
 "nbformat": 4,
 "nbformat_minor": 5
}
