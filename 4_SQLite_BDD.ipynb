{
 "cells": [
  {
   "cell_type": "markdown",
   "id": "b94b98aa",
   "metadata": {},
   "source": [
    "# 🗄️ PARTIE 4 : SQLITE ET BASES DE DONNÉES\n",
    "\n",
    "### 🌟 Ce que vous allez apprendre :\n",
    "- **Connexion** : Créer et gérer une base SQLite\n",
    "- **Tables** : Création et structure de données\n",
    "- **CRUD** : Create, Read, Update, Delete\n",
    "- **Requêtes** : SQL avancé avec Pandas\n",
    "- **Performance** : Index et optimisation\n",
    "\n",
    "### 🛠️ Prérequis :\n",
    "Exécutez d'abord la cellule système ci-dessous.\n",
    "\n",
    "---"
   ]
  },
  {
   "cell_type": "code",
   "execution_count": 24,
   "id": "884e284b",
   "metadata": {},
   "outputs": [],
   "source": [
    "exec(open('helpers/sqlite_helper.py').read())"
   ]
  },
  {
   "cell_type": "markdown",
   "id": "60fab051",
   "metadata": {},
   "source": [
    "---\n",
    "\n",
    "## 🌟 Section 4.1 : Connexion et Exploration\n",
    "\n",
    "### 🎯 Objectif :\n",
    "Se connecter à SQLite et explorer la structure de la base."
   ]
  },
  {
   "cell_type": "markdown",
   "id": "642f016e",
   "metadata": {},
   "source": [
    "### 📝 Étape 4.1.1 : Connexion à la base\n",
    "\n",
    "**Instructions :**\n",
    "Établir une connexion avec la base SQLite."
   ]
  },
  {
   "cell_type": "code",
   "execution_count": null,
   "id": "8b03dff1",
   "metadata": {},
   "outputs": [],
   "source": [
    "# 📝 ÉTAPE 4.1.1 : Connexion SQLite\n",
    "# Créez une connexion à la base 'databases/entreprise.db'\n",
    "# Stockez la connexion dans une variable 'conn'\n",
    "\n",
    "# Syntaxe : conn = sqlite3.connect('chemin/base.db')\n",
    "\n",
    "# 👇 Créez votre connexion ici :"
   ]
  },
  {
   "cell_type": "code",
   "execution_count": 33,
   "id": "c5f28efe",
   "metadata": {},
   "outputs": [
    {
     "data": {
      "text/html": [
       "\n",
       "        <details style=\"margin: 10px 0; border: 1px solid #ddd; border-radius: 5px; padding: 5px; background: #f9f9f9;\">\n",
       "            <summary style=\"cursor: pointer; background: #e3f2fd; padding: 10px; border-radius: 3px; font-weight: bold; color: #1976d2;\">\n",
       "                💡 Conseil SQL (cliquer pour dérouler)\n",
       "            </summary>\n",
       "            <div style=\"padding: 15px; margin-top: 10px; background: white; border-radius: 3px;\">\n",
       "                <p style=\"margin: 0; color: #333;\">Utilisez sqlite3.connect('nom_db.db') pour créer la connexion. N'oubliez pas le .close()</p>\n",
       "            </div>\n",
       "        </details>\n",
       "        "
      ],
      "text/plain": [
       "<IPython.core.display.HTML object>"
      ]
     },
     "metadata": {},
     "output_type": "display_data"
    },
    {
     "data": {
      "text/html": [
       "\n",
       "        <details style=\"margin: 10px 0; border: 1px solid #ddd; border-radius: 5px; padding: 5px; background: #f9f9f9;\">\n",
       "            <summary style=\"cursor: pointer; background: #e8f5e8; padding: 10px; border-radius: 3px; font-weight: bold; color: #2e7d32;\">\n",
       "                🔍 Solution SQL (cliquer pour dérouler)\n",
       "            </summary>\n",
       "            <div style=\"padding: 15px; margin-top: 10px; background: white; border-radius: 3px;\">\n",
       "                <p><strong>🗄️ Explication :</strong> sqlite3.connect() crée une connexion à une base SQLite. Si le fichier n'existe pas, il sera créé.</p>\n",
       "                <pre style=\"background: #f5f5f5; padding: 10px; border-radius: 3px; overflow-x: auto; border-left: 3px solid #2196f3;\"><code># Créer une connexion à la base de données\n",
       "conn = sqlite3.connect('entreprise.db')\n",
       "cursor = conn.cursor()\n",
       "\n",
       "print(\"✅ Connexion à la base de données établie\")\n",
       "print(f\"📁 Fichier de base de données: {os.path.abspath('entreprise.db')}\")\n",
       "\n",
       "# N'oubliez pas de fermer la connexion à la fin\n",
       "# conn.close()</code></pre>\n",
       "            </div>\n",
       "        </details>\n",
       "        "
      ],
      "text/plain": [
       "<IPython.core.display.HTML object>"
      ]
     },
     "metadata": {},
     "output_type": "display_data"
    }
   ],
   "source": [
    "# 💡 Aide pour l'étape 4.1.1\n",
    "sqlite_helper.help(\"4.1.1\")"
   ]
  },
  {
   "cell_type": "markdown",
   "id": "56a26bc0",
   "metadata": {},
   "source": [
    "### 📝 Étape 4.1.2 : Explorer les tables\n",
    "\n",
    "**Instructions :**\n",
    "Lister toutes les tables et examiner leur structure."
   ]
  },
  {
   "cell_type": "code",
   "execution_count": null,
   "id": "57c651c4",
   "metadata": {},
   "outputs": [],
   "source": [
    "# 📝 ÉTAPE 4.1.2 : Exploration des tables\n",
    "# 1. Listez toutes les tables avec cette requête :\n",
    "#    \"SELECT name FROM sqlite_master WHERE type='table'\"\n",
    "#    \n",
    "# 2. Pour la table 'employes', affichez sa structure avec :\n",
    "#    \"PRAGMA table_info(employes)\"\n",
    "#    \n",
    "# 3. Comptez le nombre de lignes avec :\n",
    "#    \"SELECT COUNT(*) FROM employes\"\n",
    "\n",
    "# Syntaxe :\n",
    "# cursor = conn.cursor()\n",
    "# cursor.execute(\"requête SQL\")\n",
    "# resultats = cursor.fetchall()  # ou fetchone()\n",
    "\n",
    "# 👇 Explorez la base ici :"
   ]
  },
  {
   "cell_type": "code",
   "execution_count": null,
   "id": "b2c46741",
   "metadata": {},
   "outputs": [],
   "source": [
    "# 🎬 Démonstration exploration\n",
    "def demo_exploration():\n",
    "    try:\n",
    "        conn = sqlite3.connect('databases/entreprise.db')\n",
    "        cursor = conn.cursor()\n",
    "        \n",
    "        # Tables\n",
    "        print(\"📋 TABLES DISPONIBLES :\")\n",
    "        cursor.execute(\"SELECT name FROM sqlite_master WHERE type='table'\")\n",
    "        tables = cursor.fetchall()\n",
    "        for table in tables:\n",
    "            print(f\"  📊 {table[0]}\")\n",
    "        \n",
    "        # Structure employes\n",
    "        print(\"\\n🏗️ STRUCTURE TABLE EMPLOYES :\")\n",
    "        cursor.execute(\"PRAGMA table_info(employes)\")\n",
    "        columns = cursor.fetchall()\n",
    "        for col in columns:\n",
    "            print(f\"  {col[1]} ({col[2]}) {'- PRIMARY KEY' if col[5] else ''}\")\n",
    "        \n",
    "        # Nombre de lignes\n",
    "        cursor.execute(\"SELECT COUNT(*) FROM employes\")\n",
    "        count = cursor.fetchone()[0]\n",
    "        print(f\"\\n📊 Nombre d'employés: {count}\")\n",
    "        \n",
    "        conn.close()\n",
    "        \n",
    "    except Exception as e:\n",
    "        print(f\"❌ Erreur: {e}\")\n",
    "\n",
    "sqlite_helper.demo_button(demo_exploration, \"🎬 Exploration automatique\")"
   ]
  },
  {
   "cell_type": "code",
   "execution_count": 32,
   "id": "c5729f5b",
   "metadata": {},
   "outputs": [
    {
     "data": {
      "text/html": [
       "\n",
       "        <details style=\"margin: 10px 0; border: 1px solid #ddd; border-radius: 5px; padding: 5px; background: #f9f9f9;\">\n",
       "            <summary style=\"cursor: pointer; background: #e3f2fd; padding: 10px; border-radius: 3px; font-weight: bold; color: #1976d2;\">\n",
       "                💡 Conseil SQL (cliquer pour dérouler)\n",
       "            </summary>\n",
       "            <div style=\"padding: 15px; margin-top: 10px; background: white; border-radius: 3px;\">\n",
       "                <p style=\"margin: 0; color: #333;\">Utilisez CREATE TABLE avec les colonnes et leurs types (INTEGER, TEXT, REAL). PRIMARY KEY pour l'ID.</p>\n",
       "            </div>\n",
       "        </details>\n",
       "        "
      ],
      "text/plain": [
       "<IPython.core.display.HTML object>"
      ]
     },
     "metadata": {},
     "output_type": "display_data"
    },
    {
     "data": {
      "text/html": [
       "\n",
       "        <details style=\"margin: 10px 0; border: 1px solid #ddd; border-radius: 5px; padding: 5px; background: #f9f9f9;\">\n",
       "            <summary style=\"cursor: pointer; background: #e8f5e8; padding: 10px; border-radius: 3px; font-weight: bold; color: #2e7d32;\">\n",
       "                🔍 Solution SQL (cliquer pour dérouler)\n",
       "            </summary>\n",
       "            <div style=\"padding: 15px; margin-top: 10px; background: white; border-radius: 3px;\">\n",
       "                <p><strong>🗄️ Explication :</strong> CREATE TABLE définit la structure. IF NOT EXISTS évite les erreurs si la table existe déjà.</p>\n",
       "                <pre style=\"background: #f5f5f5; padding: 10px; border-radius: 3px; overflow-x: auto; border-left: 3px solid #2196f3;\"><code># Créer la table employes\n",
       "cursor.execute('''\n",
       "    CREATE TABLE IF NOT EXISTS employes (\n",
       "        id INTEGER PRIMARY KEY AUTOINCREMENT,\n",
       "        nom TEXT NOT NULL,\n",
       "        departement TEXT NOT NULL,\n",
       "        salaire REAL NOT NULL,\n",
       "        date_embauche DATE\n",
       "    )\n",
       "''')\n",
       "\n",
       "# Valider les changements\n",
       "conn.commit()\n",
       "print(\"✅ Table 'employes' créée avec succès\")</code></pre>\n",
       "            </div>\n",
       "        </details>\n",
       "        "
      ],
      "text/plain": [
       "<IPython.core.display.HTML object>"
      ]
     },
     "metadata": {},
     "output_type": "display_data"
    }
   ],
   "source": [
    "# 💡 Aide pour l'étape 4.1.2\n",
    "sqlite_helper.help(\"4.1.2\")"
   ]
  },
  {
   "cell_type": "markdown",
   "id": "ad63d71f",
   "metadata": {},
   "source": [
    "---\n",
    "\n",
    "## 🌟 Section 4.2 : Requêtes avec Pandas\n",
    "\n",
    "### 🎯 Objectif :\n",
    "Utiliser pandas pour exécuter des requêtes SQL facilement."
   ]
  },
  {
   "cell_type": "markdown",
   "id": "c95f6b7f",
   "metadata": {},
   "source": [
    "### 📝 Étape 4.2.1 : Lecture simple avec pandas\n",
    "\n",
    "**Instructions :**\n",
    "Charger des données SQLite dans des DataFrames pandas."
   ]
  },
  {
   "cell_type": "code",
   "execution_count": null,
   "id": "06fb5552",
   "metadata": {},
   "outputs": [],
   "source": [
    "# 📝 ÉTAPE 4.2.1 : Lecture avec pandas\n",
    "# Utilisez pd.read_sql_query() pour exécuter ces requêtes :\n",
    "# 1. df_tous_employes = tous les employés\n",
    "# 2. df_it = employés du département IT seulement\n",
    "# 3. df_salaires_eleves = employés avec salaire > 50000\n",
    "\n",
    "# Syntaxe :\n",
    "# df = pd.read_sql_query(\"SELECT * FROM table\", conn)\n",
    "# df = pd.read_sql_query(\"SELECT * FROM table WHERE condition\", conn)\n",
    "\n",
    "# 👇 Créez vos DataFrames ici :"
   ]
  },
  {
   "cell_type": "code",
   "execution_count": null,
   "id": "b5bc9108",
   "metadata": {},
   "outputs": [],
   "source": [
    "# 🎬 Démonstration des résultats\n",
    "def demo_requetes():\n",
    "    try:\n",
    "        print(\"📊 RÉSULTATS DES REQUÊTES\")\n",
    "        print(\"=\"*30)\n",
    "        \n",
    "        print(f\"👥 Tous les employés: {len(df_tous_employes)} personnes\")\n",
    "        print(f\"💻 Département IT: {len(df_it)} personnes\")\n",
    "        print(f\"💰 Salaires élevés: {len(df_salaires_eleves)} personnes\")\n",
    "        \n",
    "        print(\"\\n🔍 Aperçu employés IT:\")\n",
    "        if len(df_it) > 0:\n",
    "            print(df_it[['prenom', 'nom', 'salaire']].to_string(index=False))\n",
    "        \n",
    "        print(\"\\n💰 Aperçu salaires élevés:\")\n",
    "        if len(df_salaires_eleves) > 0:\n",
    "            print(df_salaires_eleves[['prenom', 'nom', 'departement', 'salaire']].to_string(index=False))\n",
    "            \n",
    "    except NameError:\n",
    "        print(\"⚠️ Créez d'abord tous les DataFrames\")\n",
    "\n",
    "sqlite_helper.demo_button(demo_requetes, \"🎬 Voir les résultats\")"
   ]
  },
  {
   "cell_type": "code",
   "execution_count": 31,
   "id": "4f4896c1",
   "metadata": {},
   "outputs": [
    {
     "data": {
      "text/html": [
       "\n",
       "        <details style=\"margin: 10px 0; border: 1px solid #ddd; border-radius: 5px; padding: 5px; background: #f9f9f9;\">\n",
       "            <summary style=\"cursor: pointer; background: #e3f2fd; padding: 10px; border-radius: 3px; font-weight: bold; color: #1976d2;\">\n",
       "                💡 Conseil SQL (cliquer pour dérouler)\n",
       "            </summary>\n",
       "            <div style=\"padding: 15px; margin-top: 10px; background: white; border-radius: 3px;\">\n",
       "                <p style=\"margin: 0; color: #333;\">Utilisez INSERT INTO table (colonnes) VALUES (valeurs). Plusieurs façons: une ligne ou plusieurs.</p>\n",
       "            </div>\n",
       "        </details>\n",
       "        "
      ],
      "text/plain": [
       "<IPython.core.display.HTML object>"
      ]
     },
     "metadata": {},
     "output_type": "display_data"
    },
    {
     "data": {
      "text/html": [
       "\n",
       "        <details style=\"margin: 10px 0; border: 1px solid #ddd; border-radius: 5px; padding: 5px; background: #f9f9f9;\">\n",
       "            <summary style=\"cursor: pointer; background: #e8f5e8; padding: 10px; border-radius: 3px; font-weight: bold; color: #2e7d32;\">\n",
       "                🔍 Solution SQL (cliquer pour dérouler)\n",
       "            </summary>\n",
       "            <div style=\"padding: 15px; margin-top: 10px; background: white; border-radius: 3px;\">\n",
       "                <p><strong>🗄️ Explication :</strong> INSERT INTO ajoute des données. executemany() permet d'insérer plusieurs lignes efficacement.</p>\n",
       "                <pre style=\"background: #f5f5f5; padding: 10px; border-radius: 3px; overflow-x: auto; border-left: 3px solid #2196f3;\"><code># Insérer des données d'exemple\n",
       "employes_data = [\n",
       "    ('Alice Martin', 'IT', 45000, '2023-01-15'),\n",
       "    ('Bob Dupont', 'RH', 38000, '2022-11-03'),\n",
       "    ('Charlie Dubois', 'Finance', 52000, '2023-03-20'),\n",
       "    ('Diana Moreau', 'Marketing', 41000, '2022-09-12'),\n",
       "    ('Eve Laurent', 'IT', 48000, '2023-02-08')\n",
       "]\n",
       "\n",
       "cursor.executemany('''\n",
       "    INSERT INTO employes (nom, departement, salaire, date_embauche)\n",
       "    VALUES (?, ?, ?, ?)\n",
       "''', employes_data)\n",
       "\n",
       "conn.commit()\n",
       "print(f\"✅ {len(employes_data)} employés ajoutés à la base de données\")</code></pre>\n",
       "            </div>\n",
       "        </details>\n",
       "        "
      ],
      "text/plain": [
       "<IPython.core.display.HTML object>"
      ]
     },
     "metadata": {},
     "output_type": "display_data"
    }
   ],
   "source": [
    "# 💡 Aide pour l'étape 4.2.1\n",
    "sqlite_helper.help(\"4.2.1\")"
   ]
  },
  {
   "cell_type": "markdown",
   "id": "20f31ee2",
   "metadata": {},
   "source": [
    "### 📝 Étape 4.2.2 : Requêtes avancées\n",
    "\n",
    "**Instructions :**\n",
    "Utiliser des agrégations et fonctions SQL."
   ]
  },
  {
   "cell_type": "code",
   "execution_count": null,
   "id": "c99f0586",
   "metadata": {},
   "outputs": [],
   "source": [
    "# 📝 ÉTAPE 4.2.2 : Requêtes agrégées\n",
    "# Créez ces requêtes d'analyse :\n",
    "# 1. df_stats_dept = statistiques par département (COUNT, AVG(salaire), MIN, MAX)\n",
    "# 2. df_top_salaires = top 3 des salaires les plus élevés\n",
    "# 3. df_anciennete = employés avec leur ancienneté en jours\n",
    "\n",
    "# Exemples de requêtes SQL :\n",
    "# GROUP BY departement\n",
    "# ORDER BY salaire DESC LIMIT 3\n",
    "# julianday('now') - julianday(date_embauche) pour l'ancienneté\n",
    "\n",
    "# 👇 Créez vos requêtes avancées ici :"
   ]
  },
  {
   "cell_type": "code",
   "execution_count": 30,
   "id": "f0cdf94d",
   "metadata": {},
   "outputs": [
    {
     "data": {
      "text/html": [
       "\n",
       "        <details style=\"margin: 10px 0; border: 1px solid #ddd; border-radius: 5px; padding: 5px; background: #f9f9f9;\">\n",
       "            <summary style=\"cursor: pointer; background: #e3f2fd; padding: 10px; border-radius: 3px; font-weight: bold; color: #1976d2;\">\n",
       "                💡 Conseil SQL (cliquer pour dérouler)\n",
       "            </summary>\n",
       "            <div style=\"padding: 15px; margin-top: 10px; background: white; border-radius: 3px;\">\n",
       "                <p style=\"margin: 0; color: #333;\">Utilisez SELECT avec WHERE pour filtrer. Exemples: WHERE salaire > 40000, WHERE departement = 'IT'</p>\n",
       "            </div>\n",
       "        </details>\n",
       "        "
      ],
      "text/plain": [
       "<IPython.core.display.HTML object>"
      ]
     },
     "metadata": {},
     "output_type": "display_data"
    },
    {
     "data": {
      "text/html": [
       "\n",
       "        <details style=\"margin: 10px 0; border: 1px solid #ddd; border-radius: 5px; padding: 5px; background: #f9f9f9;\">\n",
       "            <summary style=\"cursor: pointer; background: #e8f5e8; padding: 10px; border-radius: 3px; font-weight: bold; color: #2e7d32;\">\n",
       "                🔍 Solution SQL (cliquer pour dérouler)\n",
       "            </summary>\n",
       "            <div style=\"padding: 15px; margin-top: 10px; background: white; border-radius: 3px;\">\n",
       "                <p><strong>🗄️ Explication :</strong> SELECT récupère les données. WHERE filtre selon des conditions. fetchall() récupère tous les résultats.</p>\n",
       "                <pre style=\"background: #f5f5f5; padding: 10px; border-radius: 3px; overflow-x: auto; border-left: 3px solid #2196f3;\"><code># Différentes requêtes SELECT\n",
       "print(\"👥 TOUS LES EMPLOYÉS:\")\n",
       "cursor.execute(\"SELECT * FROM employes\")\n",
       "tous_employes = cursor.fetchall()\n",
       "for emp in tous_employes:\n",
       "    print(f\"  {emp}\")\n",
       "\n",
       "print(\"\\n💰 EMPLOYÉS BIEN PAYÉS (> 45000):\")\n",
       "cursor.execute(\"SELECT nom, salaire FROM employes WHERE salaire > 45000\")\n",
       "bien_payes = cursor.fetchall()\n",
       "for emp in bien_payes:\n",
       "    print(f\"  {emp[0]}: {emp[1]}€\")\n",
       "\n",
       "print(\"\\n💻 EMPLOYÉS IT:\")\n",
       "cursor.execute(\"SELECT nom, salaire FROM employes WHERE departement = 'IT'\")\n",
       "it_employes = cursor.fetchall()\n",
       "for emp in it_employes:\n",
       "    print(f\"  {emp[0]}: {emp[1]}€\")</code></pre>\n",
       "            </div>\n",
       "        </details>\n",
       "        "
      ],
      "text/plain": [
       "<IPython.core.display.HTML object>"
      ]
     },
     "metadata": {},
     "output_type": "display_data"
    }
   ],
   "source": [
    "# 💡 Aide pour l'étape 4.2.2\n",
    "sqlite_helper.help(\"4.2.2\")"
   ]
  },
  {
   "cell_type": "markdown",
   "id": "eed384ad",
   "metadata": {},
   "source": [
    "---\n",
    "\n",
    "## 🌟 Section 4.3 : CRUD Operations\n",
    "\n",
    "### 🎯 Objectif :\n",
    "Maîtriser Create, Read, Update, Delete avec SQLite."
   ]
  },
  {
   "cell_type": "markdown",
   "id": "93ffd206",
   "metadata": {},
   "source": [
    "### 📝 Étape 4.3.1 : INSERT - Ajouter des données\n",
    "\n",
    "**Instructions :**\n",
    "Ajouter de nouveaux employés à la base."
   ]
  },
  {
   "cell_type": "code",
   "execution_count": null,
   "id": "3576144b",
   "metadata": {},
   "outputs": [],
   "source": [
    "# 📝 ÉTAPE 4.3.1 : INSERT nouveaux employés\n",
    "# Ajoutez ces 3 nouveaux employés :\n",
    "# 1. ('Rousseau', 'Emma', 'emma.rousseau@email.com', 51000, 'Marketing', '2024-01-10')\n",
    "# 2. ('Petit', 'Lucas', 'lucas.petit@email.com', 46000, 'Finance', '2024-02-15')\n",
    "# 3. ('Garcia', 'Léa', 'lea.garcia@email.com', 53000, 'IT', '2024-03-01')\n",
    "\n",
    "# Méthodes possibles :\n",
    "# 1. cursor.execute() avec INSERT INTO\n",
    "# 2. cursor.executemany() pour plusieurs INSERT\n",
    "# 3. DataFrame.to_sql() pour insérer un DataFrame\n",
    "\n",
    "# N'oubliez pas conn.commit() pour valider !\n",
    "\n",
    "# 👇 Ajoutez les nouveaux employés ici :"
   ]
  },
  {
   "cell_type": "code",
   "execution_count": 17,
   "id": "12360936",
   "metadata": {},
   "outputs": [
    {
     "data": {
      "text/html": [
       "\n",
       "        <details style=\"margin: 10px 0; border: 1px solid #ddd; border-radius: 5px; padding: 5px; background: #f9f9f9;\">\n",
       "            <summary style=\"cursor: pointer; background: #e3f2fd; padding: 10px; border-radius: 3px; font-weight: bold; color: #1976d2;\">\n",
       "                💡 Conseil SQLite (cliquer pour dérouler)\n",
       "            </summary>\n",
       "            <div style=\"padding: 15px; margin-top: 10px; background: white; border-radius: 3px;\">\n",
       "                <p style=\"margin: 0; color: #333;\">INSERT INTO table (colonnes) VALUES (valeurs). Utilisez executemany() pour plusieurs insertions.</p>\n",
       "            </div>\n",
       "        </details>\n",
       "        "
      ],
      "text/plain": [
       "<IPython.core.display.HTML object>"
      ]
     },
     "metadata": {},
     "output_type": "display_data"
    },
    {
     "data": {
      "text/html": [
       "\n",
       "        <details style=\"margin: 10px 0; border: 1px solid #ddd; border-radius: 5px; padding: 5px; background: #f9f9f9;\">\n",
       "            <summary style=\"cursor: pointer; background: #e8f5e8; padding: 10px; border-radius: 3px; font-weight: bold; color: #2e7d32;\">\n",
       "                🔍 Solution SQLite (cliquer pour dérouler)\n",
       "            </summary>\n",
       "            <div style=\"padding: 15px; margin-top: 10px; background: white; border-radius: 3px;\">\n",
       "                <p><strong>🗄️ Explication :</strong> Les ? sont des placeholders pour éviter l'injection SQL. executemany() est efficace pour plusieurs insertions. commit() valide les changements.</p>\n",
       "                <pre style=\"background: #f5f5f5; padding: 10px; border-radius: 3px; overflow-x: auto; border-left: 3px solid #2196f3;\"><code>conn = sqlite3.connect('databases/entreprise.db')\n",
       "cursor = conn.cursor()\n",
       "\n",
       "# Nouveaux employés\n",
       "nouveaux_employes = [\n",
       "    ('Garcia', 'Maria', 'Marketing', 48000, 29, '2024-01-15'),\n",
       "    ('Wilson', 'David', 'IT', 62000, 34, '2024-02-01'),\n",
       "    ('Brown', 'Sarah', 'RH', 52000, 31, '2024-02-15')\n",
       "]\n",
       "\n",
       "cursor.executemany('''\n",
       "INSERT INTO employes (nom, prenom, departement, salaire, age, date_embauche)\n",
       "VALUES (?, ?, ?, ?, ?, ?)\n",
       "''', nouveaux_employes)\n",
       "\n",
       "# Nouveaux projets\n",
       "nouveaux_projets = [\n",
       "    ('Site Web Corporate', 75000, 'En cours', 1),\n",
       "    ('Application Mobile', 120000, 'Planifié', 2),\n",
       "    ('Formation Équipe', 25000, 'En cours', 3)\n",
       "]\n",
       "\n",
       "cursor.executemany('''\n",
       "INSERT INTO projets (nom_projet, budget, statut, responsable_id)\n",
       "VALUES (?, ?, ?, ?)\n",
       "''', nouveaux_projets)\n",
       "\n",
       "conn.commit()\n",
       "print(\"✅ Nouvelles données ajoutées avec succès !\")\n",
       "\n",
       "conn.close()</code></pre>\n",
       "            </div>\n",
       "        </details>\n",
       "        "
      ],
      "text/plain": [
       "<IPython.core.display.HTML object>"
      ]
     },
     "metadata": {},
     "output_type": "display_data"
    }
   ],
   "source": [
    "# 💡 Aide pour l'étape 4.3.1\n",
    "sqlite_helper.help(\"4.3.1\")"
   ]
  },
  {
   "cell_type": "markdown",
   "id": "f5ca7b0c",
   "metadata": {},
   "source": [
    "### 📝 Étape 4.3.2 : UPDATE - Modifier des données\n",
    "\n",
    "**Instructions :**\n",
    "Mettre à jour les salaires et départements."
   ]
  },
  {
   "cell_type": "code",
   "execution_count": null,
   "id": "a1e0fbe4",
   "metadata": {},
   "outputs": [],
   "source": [
    "# 📝 ÉTAPE 4.3.2 : UPDATE données existantes\n",
    "# Effectuez ces modifications :\n",
    "# 1. Augmentez tous les salaires du département IT de 5%\n",
    "# 2. Changez le département de 'Jean Martin' vers 'DevOps'\n",
    "# 3. Mettez à jour l'email de 'Emma Rousseau' vers 'emma.r@entreprise.com'\n",
    "\n",
    "# Syntaxe UPDATE :\n",
    "# UPDATE table SET colonne = valeur WHERE condition\n",
    "# UPDATE table SET colonne = colonne * 1.05 WHERE departement = 'IT'\n",
    "\n",
    "# 👇 Effectuez vos modifications ici :"
   ]
  },
  {
   "cell_type": "code",
   "execution_count": null,
   "id": "4e072c6e",
   "metadata": {},
   "outputs": [],
   "source": [
    "# 🎬 Vérification des modifications\n",
    "def demo_modifications():\n",
    "    try:\n",
    "        # Vérifier les modifications\n",
    "        df_check = pd.read_sql_query(\"SELECT * FROM employes\", conn)\n",
    "        \n",
    "        print(\"🔍 VÉRIFICATION DES MODIFICATIONS\")\n",
    "        print(\"=\"*35)\n",
    "        \n",
    "        # IT salaires\n",
    "        df_it_new = df_check[df_check['departement'] == 'IT']\n",
    "        print(f\"💻 Employés IT (salaires mis à jour):\")\n",
    "        print(df_it_new[['prenom', 'nom', 'salaire']].to_string(index=False))\n",
    "        \n",
    "        # Jean Martin\n",
    "        jean = df_check[(df_check['prenom'] == 'Jean') & (df_check['nom'] == 'Martin')]\n",
    "        if len(jean) > 0:\n",
    "            print(f\"\\n👨‍💼 Jean Martin - Nouveau département: {jean.iloc[0]['departement']}\")\n",
    "        \n",
    "        # Emma email\n",
    "        emma = df_check[(df_check['prenom'] == 'Emma') & (df_check['nom'] == 'Rousseau')]\n",
    "        if len(emma) > 0:\n",
    "            print(f\"📧 Emma Rousseau - Nouvel email: {emma.iloc[0]['email']}\")\n",
    "            \n",
    "    except Exception as e:\n",
    "        print(f\"❌ Erreur: {e}\")\n",
    "\n",
    "sqlite_helper.demo_button(demo_modifications, \"🎬 Vérifier les modifications\")"
   ]
  },
  {
   "cell_type": "code",
   "execution_count": 20,
   "id": "2ae32b9f",
   "metadata": {},
   "outputs": [
    {
     "data": {
      "text/html": [
       "\n",
       "        <details style=\"margin: 10px 0; border: 1px solid #ddd; border-radius: 5px; padding: 5px; background: #f9f9f9;\">\n",
       "            <summary style=\"cursor: pointer; background: #e3f2fd; padding: 10px; border-radius: 3px; font-weight: bold; color: #1976d2;\">\n",
       "                💡 Conseil SQLite (cliquer pour dérouler)\n",
       "            </summary>\n",
       "            <div style=\"padding: 15px; margin-top: 10px; background: white; border-radius: 3px;\">\n",
       "                <p style=\"margin: 0; color: #333;\">UPDATE table SET colonne=valeur WHERE condition. DELETE FROM table WHERE condition.</p>\n",
       "            </div>\n",
       "        </details>\n",
       "        "
      ],
      "text/plain": [
       "<IPython.core.display.HTML object>"
      ]
     },
     "metadata": {},
     "output_type": "display_data"
    },
    {
     "data": {
      "text/html": [
       "\n",
       "        <details style=\"margin: 10px 0; border: 1px solid #ddd; border-radius: 5px; padding: 5px; background: #f9f9f9;\">\n",
       "            <summary style=\"cursor: pointer; background: #e8f5e8; padding: 10px; border-radius: 3px; font-weight: bold; color: #2e7d32;\">\n",
       "                🔍 Solution SQLite (cliquer pour dérouler)\n",
       "            </summary>\n",
       "            <div style=\"padding: 15px; margin-top: 10px; background: white; border-radius: 3px;\">\n",
       "                <p><strong>🗄️ Explication :</strong> UPDATE modifie les enregistrements existants. DELETE supprime des lignes. rowcount indique le nombre de lignes affectées.</p>\n",
       "                <pre style=\"background: #f5f5f5; padding: 10px; border-radius: 3px; overflow-x: auto; border-left: 3px solid #2196f3;\"><code>conn = sqlite3.connect('databases/entreprise.db')\n",
       "cursor = conn.cursor()\n",
       "\n",
       "# 1. Augmentation salariale IT (+5%)\n",
       "cursor.execute('''\n",
       "UPDATE employes \n",
       "SET salaire = salaire * 1.05 \n",
       "WHERE departement = 'IT'\n",
       "''')\n",
       "print(f\"✅ {cursor.rowcount} salaires IT augmentés de 5%\")\n",
       "\n",
       "# 2. Changer statut projet\n",
       "cursor.execute('''\n",
       "UPDATE projets \n",
       "SET statut = 'Terminé' \n",
       "WHERE nom_projet = 'Formation Équipe'\n",
       "''')\n",
       "print(f\"✅ Statut du projet mis à jour\")\n",
       "\n",
       "# 3. Supprimer projets annulés (si existants)\n",
       "cursor.execute('''\n",
       "DELETE FROM projets \n",
       "WHERE statut = 'Annulé'\n",
       "''')\n",
       "print(f\"✅ {cursor.rowcount} projets annulés supprimés\")\n",
       "\n",
       "conn.commit()\n",
       "print(\"\\n📊 RÉSUMÉ FINAL:\")\n",
       "\n",
       "# Vérification finale\n",
       "cursor.execute(\"SELECT COUNT(*) FROM employes\")\n",
       "nb_employes = cursor.fetchone()[0]\n",
       "cursor.execute(\"SELECT COUNT(*) FROM projets\")\n",
       "nb_projets = cursor.fetchone()[0]\n",
       "\n",
       "print(f\"Total employés: {nb_employes}\")\n",
       "print(f\"Total projets: {nb_projets}\")\n",
       "\n",
       "conn.close()</code></pre>\n",
       "            </div>\n",
       "        </details>\n",
       "        "
      ],
      "text/plain": [
       "<IPython.core.display.HTML object>"
      ]
     },
     "metadata": {},
     "output_type": "display_data"
    }
   ],
   "source": [
    "# 💡 Aide pour l'étape 4.3.2\n",
    "sqlite_helper.help(\"4.3.2\")"
   ]
  },
  {
   "cell_type": "markdown",
   "id": "c67a2748",
   "metadata": {},
   "source": [
    "---\n",
    "\n",
    "## 🌟 Section 4.4 : Performance et Index\n",
    "\n",
    "### 🎯 Objectif :\n",
    "Optimiser les performances avec des index et analyser les requêtes."
   ]
  },
  {
   "cell_type": "code",
   "execution_count": null,
   "id": "522a6e39",
   "metadata": {},
   "outputs": [],
   "source": [
    "# 📝 ÉTAPE 4.4 : Optimisation et index\n",
    "# Créez des index pour améliorer les performances :\n",
    "# 1. Index sur la colonne 'departement'\n",
    "# 2. Index sur la colonne 'salaire'\n",
    "# 3. Index composite sur 'nom' et 'prenom'\n",
    "\n",
    "# Syntaxe :\n",
    "# CREATE INDEX nom_index ON table(colonne)\n",
    "# CREATE INDEX nom_index ON table(col1, col2)\n",
    "\n",
    "# Puis testez les performances avec EXPLAIN QUERY PLAN\n",
    "\n",
    "# 👇 Créez vos index ici :"
   ]
  },
  {
   "cell_type": "code",
   "execution_count": 28,
   "id": "f13d4a6f",
   "metadata": {},
   "outputs": [
    {
     "data": {
      "text/html": [
       "\n",
       "        <details style=\"margin: 10px 0; border: 1px solid #ddd; border-radius: 5px; padding: 5px; background: #f9f9f9;\">\n",
       "            <summary style=\"cursor: pointer; background: #e3f2fd; padding: 10px; border-radius: 3px; font-weight: bold; color: #1976d2;\">\n",
       "                💡 Conseil SQL (cliquer pour dérouler)\n",
       "            </summary>\n",
       "            <div style=\"padding: 15px; margin-top: 10px; background: white; border-radius: 3px;\">\n",
       "                <p style=\"margin: 0; color: #333;\">Créez des index avec CREATE INDEX nom_index ON table(colonne). IF NOT EXISTS évite les erreurs. EXPLAIN QUERY PLAN montre l'utilisation des index.</p>\n",
       "            </div>\n",
       "        </details>\n",
       "        "
      ],
      "text/plain": [
       "<IPython.core.display.HTML object>"
      ]
     },
     "metadata": {},
     "output_type": "display_data"
    },
    {
     "data": {
      "text/html": [
       "\n",
       "        <details style=\"margin: 10px 0; border: 1px solid #ddd; border-radius: 5px; padding: 5px; background: #f9f9f9;\">\n",
       "            <summary style=\"cursor: pointer; background: #e8f5e8; padding: 10px; border-radius: 3px; font-weight: bold; color: #2e7d32;\">\n",
       "                🔍 Solution SQL (cliquer pour dérouler)\n",
       "            </summary>\n",
       "            <div style=\"padding: 15px; margin-top: 10px; background: white; border-radius: 3px;\">\n",
       "                <p><strong>🗄️ Explication :</strong> Les index accélèrent les recherches WHERE, ORDER BY et JOIN. Les index composés optimisent les requêtes multi-colonnes.</p>\n",
       "                <pre style=\"background: #f5f5f5; padding: 10px; border-radius: 3px; overflow-x: auto; border-left: 3px solid #2196f3;\"><code># Créer des index pour optimiser les performances\n",
       "cursor = conn.cursor()\n",
       "\n",
       "# 1. Index sur département (requêtes fréquentes)\n",
       "cursor.execute(\"CREATE INDEX IF NOT EXISTS idx_departement ON employes(departement)\")\n",
       "\n",
       "# 2. Index sur salaire (tri et filtres)\n",
       "cursor.execute(\"CREATE INDEX IF NOT EXISTS idx_salaire ON employes(salaire)\")\n",
       "\n",
       "# 3. Index composite nom/prenom (recherches nominatives)\n",
       "cursor.execute(\"CREATE INDEX IF NOT EXISTS idx_nom_prenom ON employes(nom, prenom)\")\n",
       "\n",
       "conn.commit()\n",
       "\n",
       "# Test de performance - voir l'utilisation des index\n",
       "cursor.execute(\"EXPLAIN QUERY PLAN SELECT * FROM employes WHERE departement = 'IT'\")\n",
       "plan = cursor.fetchall()\n",
       "print(\"📊 Plan d'exécution (avec index):\")\n",
       "for step in plan:\n",
       "    print(f\"  {step[3]}\")\n",
       "\n",
       "print(\"\n",
       "✅ Index créés et performance optimisée\")\n",
       "print(\"🔒 N'oubliez pas: conn.close() pour fermer la connexion\")</code></pre>\n",
       "            </div>\n",
       "        </details>\n",
       "        "
      ],
      "text/plain": [
       "<IPython.core.display.HTML object>"
      ]
     },
     "metadata": {},
     "output_type": "display_data"
    }
   ],
   "source": [
    "# 💡 Aide pour l'étape 4.4.1 : Index et Performance\n",
    "sqlite_helper.help(\"4.4.1\")"
   ]
  },
  {
   "cell_type": "code",
   "execution_count": null,
   "id": "22a7b1a6",
   "metadata": {},
   "outputs": [],
   "source": [
    "# 🎉 VALIDATION FINALE SQLITE\n",
    "sqlite_helper.success(\"MAÎTRE SQLITE ! Base de données maîtrisée !\")\n",
    "\n",
    "print(\"\\n🏆 COMPÉTENCES SQLITE ACQUISES :\")\n",
    "print(\"✅ Connexion et exploration de base\")\n",
    "print(\"✅ Requêtes SELECT avec pandas\")\n",
    "print(\"✅ CRUD : INSERT, UPDATE, DELETE\")\n",
    "print(\"✅ Requêtes avancées et agrégations\")\n",
    "print(\"✅ Index et optimisation des performances\")\n",
    "print(\"✅ Integration pandas-SQL\")\n",
    "print(\"\\n🚀 Prêt pour : Docker et containerisation !\")\n",
    "\n",
    "# Fermeture propre\n",
    "try:\n",
    "    conn.close()\n",
    "    print(\"\\n🔒 Connexion fermée proprement\")\n",
    "except:\n",
    "    pass"
   ]
  }
 ],
 "metadata": {
  "kernelspec": {
   "display_name": ".venvexoultime (3.12.11)",
   "language": "python",
   "name": "python3"
  },
  "language_info": {
   "codemirror_mode": {
    "name": "ipython",
    "version": 3
   },
   "file_extension": ".py",
   "mimetype": "text/x-python",
   "name": "python",
   "nbconvert_exporter": "python",
   "pygments_lexer": "ipython3",
   "version": "3.12.11"
  }
 },
 "nbformat": 4,
 "nbformat_minor": 5
}
