{
 "cells": [
  {
   "cell_type": "markdown",
   "id": "33d36847",
   "metadata": {},
   "source": [
    "# 📊 PARTIE 2 : PANDAS ET MANIPULATION DE DONNÉES\n",
    "\n",
    "### 🌟 Ce que vous allez apprendre :\n",
    "- **DataFrames** : création et manipulation\n",
    "- **Sélection** : colonnes et lignes\n",
    "- **Filtrage** : conditions complexes\n",
    "- **Nettoyage** : données réelles\n",
    "\n",
    "### 🛠️ Prérequis :\n",
    "Exécutez d'abord la cellule système ci-dessous.\n",
    "\n",
    "---"
   ]
  },
  {
   "cell_type": "code",
   "execution_count": 30,
   "id": "828c1cd2",
   "metadata": {},
   "outputs": [],
   "source": [
    "exec(open('helpers/setup_helper.py').read())"
   ]
  },
  {
   "cell_type": "markdown",
   "id": "b21e1b30",
   "metadata": {},
   "source": [
    "---\n",
    "\n",
    "## 🌟 Section 2.1 : Création de votre Premier DataFrame\n",
    "\n",
    "### 🎯 Objectif :\n",
    "Créer un DataFrame avec des données d'employés et explorer sa structure."
   ]
  },
  {
   "cell_type": "markdown",
   "id": "bd4014ce",
   "metadata": {},
   "source": [
    "### 📝 Étape 2.1.1 : Générer des données d'employés\n",
    "\n",
    "**Instructions :**\n",
    "Créer des listes de données pour construire un DataFrame."
   ]
  },
  {
   "cell_type": "code",
   "execution_count": null,
   "id": "218e7a50",
   "metadata": {},
   "outputs": [],
   "source": [
    "# 📝 ÉTAPE 2.1.1 : Données d'employés\n",
    "# Créez ces 4 listes avec 10 éléments chacune :\n",
    "# 1. noms : liste de prénoms\n",
    "# 2. departements : 5 départements répétés (IT, RH, Finance, Marketing, Ventes)\n",
    "# 3. salaires : salaires aléatoires entre 30000 et 80000\n",
    "# 4. ages : âges aléatoires entre 22 et 60\n",
    "\n",
    "# Exemple pour salaires aléatoires :\n",
    "# salaires = [random.randint(30000, 80000) for _ in range(10)]\n",
    "\n",
    "# 👇 Créez vos 4 listes ici :"
   ]
  },
  {
   "cell_type": "code",
   "execution_count": 31,
   "id": "aafe8ee8",
   "metadata": {},
   "outputs": [
    {
     "data": {
      "text/html": [
       "\n",
       "        <details style=\"margin: 10px 0; border: 1px solid #ddd; border-radius: 5px; padding: 5px; background: #f9f9f9;\">\n",
       "            <summary style=\"cursor: pointer; background: #fff3e0; padding: 10px; border-radius: 3px; font-weight: bold; color: #ef6c00;\">\n",
       "                💡 Conseil (cliquer pour dérouler)\n",
       "            </summary>\n",
       "            <div style=\"padding: 15px; margin-top: 10px; background: white; border-radius: 3px;\">\n",
       "                <p style=\"margin: 0; color: #333;\">Utilisez des list comprehensions pour les valeurs aléatoires : [random.randint(min, max) for _ in range(10)]</p>\n",
       "            </div>\n",
       "        </details>\n",
       "        "
      ],
      "text/plain": [
       "<IPython.core.display.HTML object>"
      ]
     },
     "metadata": {},
     "output_type": "display_data"
    },
    {
     "data": {
      "text/html": [
       "\n",
       "        <details style=\"margin: 10px 0; border: 1px solid #ddd; border-radius: 5px; padding: 5px; background: #f9f9f9;\">\n",
       "            <summary style=\"cursor: pointer; background: #e8f5e8; padding: 10px; border-radius: 3px; font-weight: bold; color: #2e7d32;\">\n",
       "                🔍 Solution (cliquer pour dérouler)\n",
       "            </summary>\n",
       "            <div style=\"padding: 15px; margin-top: 10px; background: white; border-radius: 3px;\">\n",
       "                <p><strong>💡 Explication :</strong> Les départements sont multipliés par 2 pour avoir 10 éléments. Les list comprehensions génèrent des valeurs aléatoires.</p>\n",
       "                <pre style=\"background: #f5f5f5; padding: 10px; border-radius: 3px; overflow-x: auto; border-left: 3px solid #4caf50;\"><code>noms = ['Alice', 'Bob', 'Charlie', 'Diana', 'Eve', 'Frank', 'Grace', 'Henry', 'Iris', 'Jack']\n",
       "departements = ['IT', 'RH', 'Finance', 'Marketing', 'Ventes'] * 2\n",
       "salaires = [random.randint(30000, 80000) for _ in range(10)]\n",
       "ages = [random.randint(22, 60) for _ in range(10)]</code></pre>\n",
       "            </div>\n",
       "        </details>\n",
       "        "
      ],
      "text/plain": [
       "<IPython.core.display.HTML object>"
      ]
     },
     "metadata": {},
     "output_type": "display_data"
    }
   ],
   "source": [
    "# 💡 Aide pour l'étape 2.1.1\n",
    "pandas_helper.help(\"2.1.1\")"
   ]
  },
  {
   "cell_type": "markdown",
   "id": "6719a720",
   "metadata": {},
   "source": [
    "### 📝 Étape 2.1.2 : Créer le DataFrame\n",
    "\n",
    "**Instructions :**\n",
    "Assembler les listes dans un DataFrame pandas."
   ]
  },
  {
   "cell_type": "code",
   "execution_count": null,
   "id": "696cb5b2",
   "metadata": {},
   "outputs": [],
   "source": [
    "# 📝 ÉTAPE 2.1.2 : DataFrame principal\n",
    "# Créez un DataFrame 'df_employes' avec pd.DataFrame()\n",
    "# Utilisez un dictionnaire pour associer noms de colonnes et listes :\n",
    "# {\n",
    "#     'nom': noms,\n",
    "#     'departement': departements,\n",
    "#     'salaire': salaires,\n",
    "#     'age': ages\n",
    "# }\n",
    "\n",
    "# 👇 Créez votre DataFrame ici :"
   ]
  },
  {
   "cell_type": "code",
   "execution_count": 32,
   "id": "deca8555",
   "metadata": {},
   "outputs": [
    {
     "data": {
      "text/html": [
       "\n",
       "        <details style=\"margin: 10px 0; border: 1px solid #ddd; border-radius: 5px; padding: 5px; background: #f9f9f9;\">\n",
       "            <summary style=\"cursor: pointer; background: #fff3e0; padding: 10px; border-radius: 3px; font-weight: bold; color: #ef6c00;\">\n",
       "                💡 Conseil (cliquer pour dérouler)\n",
       "            </summary>\n",
       "            <div style=\"padding: 15px; margin-top: 10px; background: white; border-radius: 3px;\">\n",
       "                <p style=\"margin: 0; color: #333;\">Syntaxe : df_employes = pd.DataFrame({'colonne1': liste1, 'colonne2': liste2, ...})</p>\n",
       "            </div>\n",
       "        </details>\n",
       "        "
      ],
      "text/plain": [
       "<IPython.core.display.HTML object>"
      ]
     },
     "metadata": {},
     "output_type": "display_data"
    },
    {
     "data": {
      "text/html": [
       "\n",
       "        <details style=\"margin: 10px 0; border: 1px solid #ddd; border-radius: 5px; padding: 5px; background: #f9f9f9;\">\n",
       "            <summary style=\"cursor: pointer; background: #e8f5e8; padding: 10px; border-radius: 3px; font-weight: bold; color: #2e7d32;\">\n",
       "                🔍 Solution (cliquer pour dérouler)\n",
       "            </summary>\n",
       "            <div style=\"padding: 15px; margin-top: 10px; background: white; border-radius: 3px;\">\n",
       "                <p><strong>💡 Explication :</strong> pd.DataFrame() crée un tableau 2D. Chaque clé du dictionnaire devient une colonne.</p>\n",
       "                <pre style=\"background: #f5f5f5; padding: 10px; border-radius: 3px; overflow-x: auto; border-left: 3px solid #4caf50;\"><code>df_employes = pd.DataFrame({\n",
       "    'nom': noms,\n",
       "    'departement': departements,\n",
       "    'salaire': salaires,\n",
       "    'age': ages\n",
       "})</code></pre>\n",
       "            </div>\n",
       "        </details>\n",
       "        "
      ],
      "text/plain": [
       "<IPython.core.display.HTML object>"
      ]
     },
     "metadata": {},
     "output_type": "display_data"
    }
   ],
   "source": [
    "# 💡 Aide pour l'étape 2.1.2\n",
    "pandas_helper.help(\"2.1.2\")"
   ]
  },
  {
   "cell_type": "markdown",
   "id": "3573738f",
   "metadata": {},
   "source": [
    "### 📝 Étape 2.1.3 : Explorer le DataFrame\n",
    "\n",
    "**Instructions :**\n",
    "Utiliser les méthodes d'exploration pandas."
   ]
  },
  {
   "cell_type": "code",
   "execution_count": null,
   "id": "65d64c99",
   "metadata": {},
   "outputs": [],
   "source": [
    "# 📝 ÉTAPE 2.1.3 : Exploration\n",
    "# Utilisez ces méthodes sur df_employes :\n",
    "# 1. .head() - premières lignes\n",
    "# 2. .info() - informations générales\n",
    "# 3. .describe() - statistiques\n",
    "# 4. .shape - forme (pas de parenthèses)\n",
    "\n",
    "print(\"🔍 EXPLORATION DU DATAFRAME\")\n",
    "print(\"=\"*35)\n",
    "\n",
    "# 👇 Ajoutez vos explorations ici :"
   ]
  },
  {
   "cell_type": "code",
   "execution_count": null,
   "id": "97013329",
   "metadata": {},
   "outputs": [],
   "source": [
    "# 🎬 Démonstration automatique\n",
    "def demo_exploration():\n",
    "    try:\n",
    "        print(\"📊 Premières lignes :\")\n",
    "        print(df_employes.head())\n",
    "        print(f\"\\n📏 Shape : {df_employes.shape}\")\n",
    "        print(\"\\n📈 Statistiques :\")\n",
    "        print(df_employes.describe())\n",
    "    except NameError:\n",
    "        print(\"⚠️ Créez d'abord df_employes\")\n",
    "\n",
    "pandas_helper.demo_button(demo_exploration, \"🎬 Voir l'exploration automatique\")"
   ]
  },
  {
   "cell_type": "code",
   "execution_count": 33,
   "id": "7ff3632b",
   "metadata": {},
   "outputs": [
    {
     "data": {
      "text/html": [
       "\n",
       "        <details style=\"margin: 10px 0; border: 1px solid #ddd; border-radius: 5px; padding: 5px; background: #f9f9f9;\">\n",
       "            <summary style=\"cursor: pointer; background: #fff3e0; padding: 10px; border-radius: 3px; font-weight: bold; color: #ef6c00;\">\n",
       "                💡 Conseil (cliquer pour dérouler)\n",
       "            </summary>\n",
       "            <div style=\"padding: 15px; margin-top: 10px; background: white; border-radius: 3px;\">\n",
       "                <p style=\"margin: 0; color: #333;\">Utilisez .head(), .info(), .describe(), .shape sur votre DataFrame</p>\n",
       "            </div>\n",
       "        </details>\n",
       "        "
      ],
      "text/plain": [
       "<IPython.core.display.HTML object>"
      ]
     },
     "metadata": {},
     "output_type": "display_data"
    },
    {
     "data": {
      "text/html": [
       "\n",
       "        <details style=\"margin: 10px 0; border: 1px solid #ddd; border-radius: 5px; padding: 5px; background: #f9f9f9;\">\n",
       "            <summary style=\"cursor: pointer; background: #e8f5e8; padding: 10px; border-radius: 3px; font-weight: bold; color: #2e7d32;\">\n",
       "                🔍 Solution (cliquer pour dérouler)\n",
       "            </summary>\n",
       "            <div style=\"padding: 15px; margin-top: 10px; background: white; border-radius: 3px;\">\n",
       "                <p><strong>💡 Explication :</strong> .head() montre les premières lignes, .info() les types, .describe() les statistiques, .shape la taille.</p>\n",
       "                <pre style=\"background: #f5f5f5; padding: 10px; border-radius: 3px; overflow-x: auto; border-left: 3px solid #4caf50;\"><code># Explorer le DataFrame\n",
       "print(\"🔍 Premières lignes:\")\n",
       "print(df_employes.head())\n",
       "\n",
       "print(\"\n",
       "📊 Informations générales:\")\n",
       "print(df_employes.info())\n",
       "\n",
       "print(\"\n",
       "📈 Statistiques descriptives:\")\n",
       "print(df_employes.describe())\n",
       "\n",
       "print(\"\n",
       "📏 Dimensions:\")\n",
       "print(f\"Forme: {df_employes.shape}\")</code></pre>\n",
       "            </div>\n",
       "        </details>\n",
       "        "
      ],
      "text/plain": [
       "<IPython.core.display.HTML object>"
      ]
     },
     "metadata": {},
     "output_type": "display_data"
    },
    {
     "data": {
      "text/html": [
       "\n",
       "        <div style=\"background: linear-gradient(90deg, #4CAF50, #45a049); color: white; padding: 15px; border-radius: 10px; margin: 10px 0; text-align: center; font-weight: bold; font-size: 16px;\">\n",
       "            🎉 Section 2.1 terminée ! Vous savez créer et explorer un DataFrame ! 🎉\n",
       "        </div>\n",
       "        "
      ],
      "text/plain": [
       "<IPython.core.display.HTML object>"
      ]
     },
     "metadata": {},
     "output_type": "display_data"
    }
   ],
   "source": [
    "# 💡 Aide pour l'étape 2.1.3\n",
    "pandas_helper.help(\"2.1.3\")\n",
    "\n",
    "pandas_helper.success(\"Section 2.1 terminée ! Vous savez créer et explorer un DataFrame !\")"
   ]
  },
  {
   "cell_type": "markdown",
   "id": "e21ebd9e",
   "metadata": {},
   "source": [
    "---\n",
    "\n",
    "## 🌟 Section 2.2 : Sélection et Filtrage de Données\n",
    "\n",
    "### 🎯 Objectif :\n",
    "Maîtriser toutes les techniques de sélection pandas."
   ]
  },
  {
   "cell_type": "markdown",
   "id": "a726551e",
   "metadata": {},
   "source": [
    "### 📝 Étape 2.2.1 : Sélection de colonnes\n",
    "\n",
    "**Instructions :**\n",
    "Créer des sélections simples et multiples."
   ]
  },
  {
   "cell_type": "code",
   "execution_count": null,
   "id": "90235c3b",
   "metadata": {},
   "outputs": [],
   "source": [
    "# 📝 ÉTAPE 2.2.1 : Sélections de colonnes\n",
    "# Créez ces 3 variables :\n",
    "# 1. noms_seuls = sélection de la colonne 'nom' uniquement\n",
    "# 2. salaires_seuls = sélection de la colonne 'salaire' uniquement  \n",
    "# 3. nom_salaire = sélection des colonnes 'nom' ET 'salaire'\n",
    "\n",
    "# Syntaxe :\n",
    "# Une colonne : df['colonne']\n",
    "# Plusieurs colonnes : df[['col1', 'col2']]\n",
    "\n",
    "# 👇 Créez vos sélections ici :"
   ]
  },
  {
   "cell_type": "code",
   "execution_count": 36,
   "id": "a1fb90e7",
   "metadata": {},
   "outputs": [
    {
     "data": {
      "text/html": [
       "\n",
       "        <details style=\"margin: 10px 0; border: 1px solid #ddd; border-radius: 5px; padding: 5px; background: #f9f9f9;\">\n",
       "            <summary style=\"cursor: pointer; background: #fff3e0; padding: 10px; border-radius: 3px; font-weight: bold; color: #ef6c00;\">\n",
       "                💡 Conseil (cliquer pour dérouler)\n",
       "            </summary>\n",
       "            <div style=\"padding: 15px; margin-top: 10px; background: white; border-radius: 3px;\">\n",
       "                <p style=\"margin: 0; color: #333;\">Pour une colonne: df['nom_colonne']. Pour plusieurs: df[['col1', 'col2']]</p>\n",
       "            </div>\n",
       "        </details>\n",
       "        "
      ],
      "text/plain": [
       "<IPython.core.display.HTML object>"
      ]
     },
     "metadata": {},
     "output_type": "display_data"
    },
    {
     "data": {
      "text/html": [
       "\n",
       "        <details style=\"margin: 10px 0; border: 1px solid #ddd; border-radius: 5px; padding: 5px; background: #f9f9f9;\">\n",
       "            <summary style=\"cursor: pointer; background: #e8f5e8; padding: 10px; border-radius: 3px; font-weight: bold; color: #2e7d32;\">\n",
       "                🔍 Solution (cliquer pour dérouler)\n",
       "            </summary>\n",
       "            <div style=\"padding: 15px; margin-top: 10px; background: white; border-radius: 3px;\">\n",
       "                <p><strong>💡 Explication :</strong> Une colonne retourne une Series, plusieurs colonnes retournent un DataFrame.</p>\n",
       "                <pre style=\"background: #f5f5f5; padding: 10px; border-radius: 3px; overflow-x: auto; border-left: 3px solid #4caf50;\"><code># Sélection d'une seule colonne (Series)\n",
       "noms_seuls = df_employes['nom']\n",
       "\n",
       "# Sélection d'une colonne avec DataFrame\n",
       "salaires_seuls = df_employes[['salaire']]\n",
       "\n",
       "# Sélection de plusieurs colonnes\n",
       "nom_salaire = df_employes[['nom', 'salaire']]</code></pre>\n",
       "            </div>\n",
       "        </details>\n",
       "        "
      ],
      "text/plain": [
       "<IPython.core.display.HTML object>"
      ]
     },
     "metadata": {},
     "output_type": "display_data"
    }
   ],
   "source": [
    "# 💡 Aide pour l'étape 2.2.1\n",
    "pandas_helper.help(\"2.2.1\")"
   ]
  },
  {
   "cell_type": "markdown",
   "id": "f1a38055",
   "metadata": {},
   "source": [
    "### 📝 Étape 2.2.2 : Filtrage conditionnel\n",
    "\n",
    "**Instructions :**\n",
    "Créer des filtres avec des conditions."
   ]
  },
  {
   "cell_type": "code",
   "execution_count": null,
   "id": "1bf07378",
   "metadata": {},
   "outputs": [],
   "source": [
    "# 📝 ÉTAPE 2.2.2 : Filtres conditionnels\n",
    "# Créez ces 4 DataFrames filtrés :\n",
    "# 1. employes_bien_payes = salaire > 50000\n",
    "# 2. employes_jeunes = age < 30\n",
    "# 3. employes_it = departement == 'IT'\n",
    "# 4. seniors_it = (age > 40) ET (departement == 'IT')\n",
    "\n",
    "# Syntaxe :\n",
    "# df[df['colonne'] > valeur]\n",
    "# df[(condition1) & (condition2)]  # ET\n",
    "# df[(condition1) | (condition2)]  # OU\n",
    "\n",
    "# 👇 Créez vos filtres ici :"
   ]
  },
  {
   "cell_type": "code",
   "execution_count": null,
   "id": "c14bfdb7",
   "metadata": {},
   "outputs": [],
   "source": [
    "# 🎬 Démonstration des résultats\n",
    "def demo_filtres():\n",
    "    try:\n",
    "        print(f\"💰 Bien payés (>50k) : {len(employes_bien_payes)} employés\")\n",
    "        print(f\"👶 Jeunes (<30 ans) : {len(employes_jeunes)} employés\")\n",
    "        print(f\"💻 IT : {len(employes_it)} employés\")\n",
    "        print(f\"👨‍💼 Seniors IT : {len(seniors_it)} employés\")\n",
    "        \n",
    "        if len(seniors_it) > 0:\n",
    "            print(\"\\n🔍 Détail seniors IT :\")\n",
    "            print(seniors_it[['nom', 'age', 'salaire']])\n",
    "    except NameError:\n",
    "        print(\"⚠️ Créez d'abord tous les filtres\")\n",
    "\n",
    "pandas_helper.demo_button(demo_filtres, \"🎬 Voir les résultats de filtrage\")"
   ]
  },
  {
   "cell_type": "code",
   "execution_count": 37,
   "id": "e12b7726",
   "metadata": {},
   "outputs": [
    {
     "data": {
      "text/html": [
       "\n",
       "        <details style=\"margin: 10px 0; border: 1px solid #ddd; border-radius: 5px; padding: 5px; background: #f9f9f9;\">\n",
       "            <summary style=\"cursor: pointer; background: #fff3e0; padding: 10px; border-radius: 3px; font-weight: bold; color: #ef6c00;\">\n",
       "                💡 Conseil (cliquer pour dérouler)\n",
       "            </summary>\n",
       "            <div style=\"padding: 15px; margin-top: 10px; background: white; border-radius: 3px;\">\n",
       "                <p style=\"margin: 0; color: #333;\">Utilisez les opérateurs de comparaison : >, <, ==, !=. Combinez avec & (et) et | (ou)</p>\n",
       "            </div>\n",
       "        </details>\n",
       "        "
      ],
      "text/plain": [
       "<IPython.core.display.HTML object>"
      ]
     },
     "metadata": {},
     "output_type": "display_data"
    },
    {
     "data": {
      "text/html": [
       "\n",
       "        <details style=\"margin: 10px 0; border: 1px solid #ddd; border-radius: 5px; padding: 5px; background: #f9f9f9;\">\n",
       "            <summary style=\"cursor: pointer; background: #e8f5e8; padding: 10px; border-radius: 3px; font-weight: bold; color: #2e7d32;\">\n",
       "                🔍 Solution (cliquer pour dérouler)\n",
       "            </summary>\n",
       "            <div style=\"padding: 15px; margin-top: 10px; background: white; border-radius: 3px;\">\n",
       "                <p><strong>💡 Explication :</strong> Les filtres pandas utilisent des conditions booléennes. Utilisez & pour 'et', | pour 'ou'.</p>\n",
       "                <pre style=\"background: #f5f5f5; padding: 10px; border-radius: 3px; overflow-x: auto; border-left: 3px solid #4caf50;\"><code># Filtres simples\n",
       "employes_bien_payes = df_employes[df_employes['salaire'] > 45000]\n",
       "employes_jeunes = df_employes[df_employes['age'] < 30]\n",
       "\n",
       "# Filtres par catégorie\n",
       "employes_it = df_employes[df_employes['departement'] == 'IT']\n",
       "\n",
       "# Filtres combinés (attention aux parenthèses !)\n",
       "seniors_it = df_employes[(df_employes['age'] > 35) & (df_employes['departement'] == 'IT')]</code></pre>\n",
       "            </div>\n",
       "        </details>\n",
       "        "
      ],
      "text/plain": [
       "<IPython.core.display.HTML object>"
      ]
     },
     "metadata": {},
     "output_type": "display_data"
    },
    {
     "data": {
      "text/html": [
       "\n",
       "        <div style=\"background: linear-gradient(90deg, #4CAF50, #45a049); color: white; padding: 15px; border-radius: 10px; margin: 10px 0; text-align: center; font-weight: bold; font-size: 16px;\">\n",
       "            🎉 Section 2.2 terminée ! Vous maîtrisez la sélection et le filtrage ! 🎉\n",
       "        </div>\n",
       "        "
      ],
      "text/plain": [
       "<IPython.core.display.HTML object>"
      ]
     },
     "metadata": {},
     "output_type": "display_data"
    }
   ],
   "source": [
    "# 💡 Aide pour l'étape 2.2.2\n",
    "pandas_helper.help(\"2.2.2\")\n",
    "\n",
    "pandas_helper.success(\"Section 2.2 terminée ! Vous maîtrisez la sélection et le filtrage !\")"
   ]
  },
  {
   "cell_type": "markdown",
   "id": "5e3cf59b",
   "metadata": {},
   "source": [
    "---\n",
    "\n",
    "## 🌟 Section 2.3 : Agrégation et Statistiques\n",
    "\n",
    "### 🎯 Objectif :\n",
    "Calculer des statistiques par groupe et analyser les données."
   ]
  },
  {
   "cell_type": "markdown",
   "id": "ff29fecb",
   "metadata": {},
   "source": [
    "### 📝 Étape 2.3.1 : Statistiques par département\n",
    "\n",
    "**Instructions :**\n",
    "Utiliser `.groupby()` pour analyser par département."
   ]
  },
  {
   "cell_type": "code",
   "execution_count": null,
   "id": "050e5e35",
   "metadata": {},
   "outputs": [],
   "source": [
    "# 📝 ÉTAPE 2.3.1 : Groupement par département\n",
    "# Créez ces analyses :\n",
    "# 1. stats_par_dept = df_employes.groupby('departement').agg({\n",
    "#        'salaire': ['mean', 'min', 'max', 'count'],\n",
    "#        'age': 'mean'\n",
    "#    })\n",
    "# \n",
    "# 2. salaire_moyen_dept = df_employes.groupby('departement')['salaire'].mean()\n",
    "\n",
    "# 👇 Créez vos analyses ici :"
   ]
  },
  {
   "cell_type": "code",
   "execution_count": null,
   "id": "785548c0",
   "metadata": {},
   "outputs": [],
   "source": [
    "# 🎬 Démonstration des statistiques\n",
    "def demo_stats():\n",
    "    try:\n",
    "        print(\"📊 STATISTIQUES PAR DÉPARTEMENT\")\n",
    "        print(\"=\"*40)\n",
    "        print(stats_par_dept)\n",
    "        \n",
    "        print(\"\\n💰 SALAIRE MOYEN PAR DÉPARTEMENT\")\n",
    "        print(\"=\"*35)\n",
    "        for dept, salaire in salaire_moyen_dept.items():\n",
    "            print(f\"{dept}: {salaire:.0f}€\")\n",
    "            \n",
    "        # Département le mieux payé\n",
    "        best_dept = salaire_moyen_dept.idxmax()\n",
    "        best_salary = salaire_moyen_dept.max()\n",
    "        print(f\"\\n🏆 Département le mieux payé: {best_dept} ({best_salary:.0f}€)\")\n",
    "        \n",
    "    except NameError:\n",
    "        print(\"⚠️ Créez d'abord les analyses\")\n",
    "\n",
    "pandas_helper.demo_button(demo_stats, \"🎬 Voir les statistiques détaillées\")"
   ]
  },
  {
   "cell_type": "code",
   "execution_count": 38,
   "id": "90696652",
   "metadata": {},
   "outputs": [
    {
     "data": {
      "text/html": [
       "\n",
       "        <details style=\"margin: 10px 0; border: 1px solid #ddd; border-radius: 5px; padding: 5px; background: #f9f9f9;\">\n",
       "            <summary style=\"cursor: pointer; background: #fff3e0; padding: 10px; border-radius: 3px; font-weight: bold; color: #ef6c00;\">\n",
       "                💡 Conseil (cliquer pour dérouler)\n",
       "            </summary>\n",
       "            <div style=\"padding: 15px; margin-top: 10px; background: white; border-radius: 3px;\">\n",
       "                <p style=\"margin: 0; color: #333;\">Utilisez .groupby('colonne').agg({'autre_colonne': ['mean', 'sum', 'count']})</p>\n",
       "            </div>\n",
       "        </details>\n",
       "        "
      ],
      "text/plain": [
       "<IPython.core.display.HTML object>"
      ]
     },
     "metadata": {},
     "output_type": "display_data"
    },
    {
     "data": {
      "text/html": [
       "\n",
       "        <details style=\"margin: 10px 0; border: 1px solid #ddd; border-radius: 5px; padding: 5px; background: #f9f9f9;\">\n",
       "            <summary style=\"cursor: pointer; background: #e8f5e8; padding: 10px; border-radius: 3px; font-weight: bold; color: #2e7d32;\">\n",
       "                🔍 Solution (cliquer pour dérouler)\n",
       "            </summary>\n",
       "            <div style=\"padding: 15px; margin-top: 10px; background: white; border-radius: 3px;\">\n",
       "                <p><strong>💡 Explication :</strong> groupby() groupe les données. agg() applique des fonctions d'agrégation à chaque groupe.</p>\n",
       "                <pre style=\"background: #f5f5f5; padding: 10px; border-radius: 3px; overflow-x: auto; border-left: 3px solid #4caf50;\"><code># Analyse par département\n",
       "stats_par_dept = df_employes.groupby('departement').agg({\n",
       "    'salaire': ['mean', 'min', 'max', 'count'],\n",
       "    'age': ['mean', 'min', 'max']\n",
       "}).round(2)\n",
       "\n",
       "# Salaire moyen par département (Series)\n",
       "salaire_moyen_dept = df_employes.groupby('departement')['salaire'].mean()</code></pre>\n",
       "            </div>\n",
       "        </details>\n",
       "        "
      ],
      "text/plain": [
       "<IPython.core.display.HTML object>"
      ]
     },
     "metadata": {},
     "output_type": "display_data"
    },
    {
     "data": {
      "text/html": [
       "\n",
       "        <div style=\"background: linear-gradient(90deg, #4CAF50, #45a049); color: white; padding: 15px; border-radius: 10px; margin: 10px 0; text-align: center; font-weight: bold; font-size: 16px;\">\n",
       "            🎉 Section 2.3 terminée ! Vous maîtrisez l'agrégation de données ! 🎉\n",
       "        </div>\n",
       "        "
      ],
      "text/plain": [
       "<IPython.core.display.HTML object>"
      ]
     },
     "metadata": {},
     "output_type": "display_data"
    }
   ],
   "source": [
    "# 💡 Aide pour l'étape 2.3.1\n",
    "pandas_helper.help(\"2.3.1\")\n",
    "\n",
    "pandas_helper.success(\"Section 2.3 terminée ! Vous maîtrisez l'agrégation de données !\")"
   ]
  },
  {
   "cell_type": "code",
   "execution_count": null,
   "id": "3ee93f7c",
   "metadata": {},
   "outputs": [],
   "source": [
    "# 🎉 VALIDATION FINALE PANDAS\n",
    "pandas_helper.success(\"FÉLICITATIONS ! Vous maîtrisez Pandas !\")\n",
    "\n",
    "print(\"\\n🏆 COMPÉTENCES PANDAS ACQUISES :\")\n",
    "print(\"✅ Création de DataFrames\")\n",
    "print(\"✅ Sélection de colonnes et lignes\")\n",
    "print(\"✅ Filtrage conditionnel\")\n",
    "print(\"✅ Agrégation et groupement\")\n",
    "print(\"✅ Statistiques descriptives\")\n",
    "print(\"\\n🚀 Prêt pour : ETL et traitement de données !\")"
   ]
  }
 ],
 "metadata": {
  "kernelspec": {
   "display_name": ".venvexoultime (3.12.11)",
   "language": "python",
   "name": "python3"
  },
  "language_info": {
   "codemirror_mode": {
    "name": "ipython",
    "version": 3
   },
   "file_extension": ".py",
   "mimetype": "text/x-python",
   "name": "python",
   "nbconvert_exporter": "python",
   "pygments_lexer": "ipython3",
   "version": "3.12.11"
  }
 },
 "nbformat": 4,
 "nbformat_minor": 5
}
