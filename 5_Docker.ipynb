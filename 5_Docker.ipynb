{
  "cells": [
    {
      "cell_type": "markdown",
      "id": "3ea5a818",
      "metadata": {},
      "source": [
        "# 🐳 PARTIE 5 : DOCKER ET CONTAINERISATION\n",
        "\n",
        "### 🌟 Ce que vous allez apprendre :\n",
        "- **Containers** : Isolation et portabilité\n",
        "- **Images** : Construction et gestion\n",
        "- **Volumes** : Persistance des données\n",
        "- **Networks** : Communication entre containers\n",
        "- **Python** : Docker SDK pour l'automation\n",
        "\n",
        "### 🛠️ Prérequis :\n",
        "- Docker Desktop installé\n",
        "- Exécutez d'abord la cellule système ci-dessous\n",
        "\n",
        "---"
      ]
    },
    {
      "cell_type": "code",
      "execution_count": 32,
      "id": "fba0b9a2",
      "metadata": {},
      "outputs": [
        {
          "name": "stdout",
          "output_type": "stream",
          "text": [
            "📝 Vérifiez que 'ipywidgets' et 'requests' sont installés dans votre environnement Jupyter si vous utilisez l'interface HTML.\n",
            "� Note: Docker lui-même doit être installé séparément (Docker Desktop).\n",
            "🐳 Système d'aide Docker chargé (Jupyter) !\n",
            "✨ Prêt pour la conteneurisation !\n"
          ]
        }
      ],
      "source": [
        "exec(open(\"helpers/docker_helper.py\").read())"
      ]
    },
    {
      "cell_type": "markdown",
      "id": "3695d13c",
      "metadata": {},
      "source": [
        "---\n",
        "\n",
        "## 📚 SECTION 5.1 : DÉCOUVERTE DE DOCKER\n",
        "\n",
        "### 🎯 Objectifs :\n",
        "- Comprendre les concepts de base de Docker\n",
        "- Vérifier l'installation et la configuration\n",
        "- Explorer l'API Docker depuis Python"
      ]
    },
    {
      "cell_type": "code",
      "execution_count": 6,
      "id": "2d7097c4",
      "metadata": {},
      "outputs": [],
      "source": [
        "# 🐳 EXERCICE 5.1.1 : Vérification de Docker\n",
        "# TODO: Vérifiez que Docker est installé et accessible\n",
        "\n",
        "# Votre code ici"
      ]
    },
    {
      "cell_type": "code",
      "execution_count": 39,
      "id": "aide_5_1_1",
      "metadata": {},
      "outputs": [
        {
          "data": {
            "text/html": [
              "\n",
              "            <details style=\"margin: 10px 0; border: 1px solid #ddd; border-radius: 5px; padding: 5px; background: #f9f9f9;\">\n",
              "                <summary style=\"cursor: pointer; background: #e3f2fd; padding: 10px; border-radius: 3px; font-weight: bold; color: #0277bd;\">\n",
              "                    💡 Conseil Docker (cliquer pour dérouler)\n",
              "                </summary>\n",
              "                <div style=\"padding: 15px; margin-top: 10px; background: white; border-radius: 3px;\">\n",
              "                    <p style=\"margin: 0; color: #333;\">Vérifiez l'installation avec `docker --version` et testez avec `docker run hello-world`.</p>\n",
              "                </div>\n",
              "            </details>\n",
              "            "
            ],
            "text/plain": [
              "<IPython.core.display.HTML object>"
            ]
          },
          "metadata": {},
          "output_type": "display_data"
        },
        {
          "data": {
            "text/html": [
              "\n",
              "            <details style=\"margin: 10px 0; border: 1px solid #ddd; border-radius: 5px; padding: 5px; background: #f9f9f9;\">\n",
              "                <summary style=\"cursor: pointer; background: #e8f5e8; padding: 10px; border-radius: 3px; font-weight: bold; color: #2e7d32;\">\n",
              "                    🔍 Solution Docker (cliquer pour dérouler)\n",
              "                </summary>\n",
              "                <div style=\"padding: 15px; margin-top: 10px; background: white; border-radius: 3px;\">\n",
              "                    <p><strong>🐳 Explication :</strong> `docker --version` vérifie l'installation. `docker run hello-world` teste le fonctionnement de base.</p>\n",
              "                    <pre style=\"background: #f5f5f5; padding: 10px; border-radius: 3px; overflow-x: auto; border-left: 3px solid #0db7ed;\"><code># Vérifier l'installation Docker\n",
              "import subprocess\n",
              "\n",
              "try:\n",
              "    result = subprocess.run(['docker', '--version'], capture_output=True, text=True)\n",
              "    print(f\"✅ Docker installé: {result.stdout.strip()}\")\n",
              "    print(\"\n",
              "🚀 Test avec hello-world...\")\n",
              "    result = subprocess.run(['docker', 'run', 'hello-world'], capture_output=True, text=True)\n",
              "    if result.returncode == 0:\n",
              "        print(\"✅ Docker fonctionne correctement!\")\n",
              "    else:\n",
              "        print(f\"❌ Erreur: {result.stderr}\")\n",
              "except FileNotFoundError:\n",
              "    print(\"❌ Docker n'est pas installé ou pas dans le PATH\")\n",
              "    print(\"💡 Installez Docker Desktop depuis https://docker.com\")\n",
              "</code></pre>\n",
              "                </div>\n",
              "            </details>\n",
              "            "
            ],
            "text/plain": [
              "<IPython.core.display.HTML object>"
            ]
          },
          "metadata": {},
          "output_type": "display_data"
        }
      ],
      "source": [
        "# 🐳 **AIDE 5.1.1 - Vérification Docker**\\n\n",
        "helper.help('5.1.1')"
      ]
    },
    {
      "cell_type": "code",
      "execution_count": 7,
      "id": "a1adeba8",
      "metadata": {},
      "outputs": [],
      "source": [
        "# 🐳 EXERCICE 5.1.2 : Exploration des conteneurs\n",
        "# TODO: Listez tous les conteneurs Docker (actifs et arrêtés)\n",
        "\n",
        "# Votre code ici"
      ]
    },
    {
      "cell_type": "code",
      "execution_count": 38,
      "id": "aide_5_1_2",
      "metadata": {},
      "outputs": [
        {
          "data": {
            "text/html": [
              "\n",
              "            <details style=\"margin: 10px 0; border: 1px solid #ddd; border-radius: 5px; padding: 5px; background: #f9f9f9;\">\n",
              "                <summary style=\"cursor: pointer; background: #e3f2fd; padding: 10px; border-radius: 3px; font-weight: bold; color: #0277bd;\">\n",
              "                    💡 Conseil Docker (cliquer pour dérouler)\n",
              "                </summary>\n",
              "                <div style=\"padding: 15px; margin-top: 10px; background: white; border-radius: 3px;\">\n",
              "                    <p style=\"margin: 0; color: #333;\">Utilisez `docker ps` pour les conteneurs actifs, `docker ps -a` pour tous les conteneurs.</p>\n",
              "                </div>\n",
              "            </details>\n",
              "            "
            ],
            "text/plain": [
              "<IPython.core.display.HTML object>"
            ]
          },
          "metadata": {},
          "output_type": "display_data"
        },
        {
          "data": {
            "text/html": [
              "\n",
              "            <details style=\"margin: 10px 0; border: 1px solid #ddd; border-radius: 5px; padding: 5px; background: #f9f9f9;\">\n",
              "                <summary style=\"cursor: pointer; background: #e8f5e8; padding: 10px; border-radius: 3px; font-weight: bold; color: #2e7d32;\">\n",
              "                    🔍 Solution Docker (cliquer pour dérouler)\n",
              "                </summary>\n",
              "                <div style=\"padding: 15px; margin-top: 10px; background: white; border-radius: 3px;\">\n",
              "                    <p><strong>🐳 Explication :</strong> `docker ps` affiche les conteneurs actifs, `docker ps -a` affiche tous les conteneurs, `docker images` liste les images.</p>\n",
              "                    <pre style=\"background: #f5f5f5; padding: 10px; border-radius: 3px; overflow-x: auto; border-left: 3px solid #0db7ed;\"><code># Explorer les conteneurs Docker\n",
              "import subprocess\n",
              "\n",
              "try:\n",
              "    print(\"🔍 Conteneurs actifs:\")\n",
              "    result = subprocess.run(['docker', 'ps'], capture_output=True, text=True)\n",
              "    print(result.stdout or \"ℹ️ Aucun conteneur actif\")\n",
              "\n",
              "    print(\"\n",
              "📦 Tous les conteneurs:\")\n",
              "    result = subprocess.run(['docker', 'ps', '-a'], capture_output=True, text=True)\n",
              "    print(result.stdout)\n",
              "\n",
              "    print(\"\n",
              "🖼️ Images Docker disponibles:\")\n",
              "    result = subprocess.run(['docker', 'images'], capture_output=True, text=True)\n",
              "    print(result.stdout)\n",
              "except Exception as e:\n",
              "    print(f\"❌ Erreur: {e}\")\n",
              "</code></pre>\n",
              "                </div>\n",
              "            </details>\n",
              "            "
            ],
            "text/plain": [
              "<IPython.core.display.HTML object>"
            ]
          },
          "metadata": {},
          "output_type": "display_data"
        }
      ],
      "source": [
        "# 🐳 **AIDE 5.1.2 - Exploration des Conteneurs**\n",
        "helper.help('5.1.2')"
      ]
    },
    {
      "cell_type": "markdown",
      "id": "81993c27",
      "metadata": {},
      "source": [
        "---\n",
        "\n",
        "## 📚 SECTION 5.2 : GESTION DES CONTENEURS\n",
        "\n",
        "### 🎯 Objectifs :\n",
        "- Démarrer et arrêter des conteneurs\n",
        "- Gérer les ports et la configuration\n",
        "- Comprendre le cycle de vie des conteneurs"
      ]
    },
    {
      "cell_type": "code",
      "execution_count": 8,
      "id": "c2fa3755",
      "metadata": {},
      "outputs": [],
      "source": [
        "# 🐳 EXERCICE 5.2.1 : Démarrer un serveur web\n",
        "# TODO: Téléchargez l'image nginx et démarrez un conteneur sur le port 8080\n",
        "\n",
        "# Votre code ici"
      ]
    },
    {
      "cell_type": "code",
      "execution_count": 37,
      "id": "aide_5_2_1",
      "metadata": {},
      "outputs": [
        {
          "data": {
            "text/html": [
              "\n",
              "            <details style=\"margin: 10px 0; border: 1px solid #ddd; border-radius: 5px; padding: 5px; background: #f9f9f9;\">\n",
              "                <summary style=\"cursor: pointer; background: #e3f2fd; padding: 10px; border-radius: 3px; font-weight: bold; color: #0277bd;\">\n",
              "                    💡 Conseil Docker (cliquer pour dérouler)\n",
              "                </summary>\n",
              "                <div style=\"padding: 15px; margin-top: 10px; background: white; border-radius: 3px;\">\n",
              "                    <p style=\"margin: 0; color: #333;\">Créez un Dockerfile (FROM, COPY, RUN, CMD) et utilisez une image de base comme `python:3.9`.</p>\n",
              "                </div>\n",
              "            </details>\n",
              "            "
            ],
            "text/plain": [
              "<IPython.core.display.HTML object>"
            ]
          },
          "metadata": {},
          "output_type": "display_data"
        },
        {
          "data": {
            "text/html": [
              "\n",
              "            <details style=\"margin: 10px 0; border: 1px solid #ddd; border-radius: 5px; padding: 5px; background: #f9f9f9;\">\n",
              "                <summary style=\"cursor: pointer; background: #e8f5e8; padding: 10px; border-radius: 3px; font-weight: bold; color: #2e7d32;\">\n",
              "                    🔍 Solution Docker (cliquer pour dérouler)\n",
              "                </summary>\n",
              "                <div style=\"padding: 15px; margin-top: 10px; background: white; border-radius: 3px;\">\n",
              "                    <p><strong>🐳 Explication :</strong> Un Dockerfile définit comment construire une image ; FROM, COPY, RUN et CMD sont les instructions de base.</p>\n",
              "                    <pre style=\"background: #f5f5f5; padding: 10px; border-radius: 3px; overflow-x: auto; border-left: 3px solid #0db7ed;\"><code># Exemple de Dockerfile pour une app Python\n",
              "dockerfile = '''FROM python:3.9-slim\n",
              "WORKDIR /app\n",
              "COPY requirements.txt .\n",
              "RUN pip install --no-cache-dir -r requirements.txt\n",
              "COPY . .\n",
              "EXPOSE 8000\n",
              "CMD [\"python\", \"app.py\"]\n",
              "'''\n",
              "print(dockerfile)\n",
              "</code></pre>\n",
              "                </div>\n",
              "            </details>\n",
              "            "
            ],
            "text/plain": [
              "<IPython.core.display.HTML object>"
            ]
          },
          "metadata": {},
          "output_type": "display_data"
        }
      ],
      "source": [
        "# 🐳 **AIDE 5.2.1 - Création Dockerfile**\\n\n",
        "helper.help('5.2.1')"
      ]
    },
    {
      "cell_type": "code",
      "execution_count": 9,
      "id": "631769aa",
      "metadata": {},
      "outputs": [],
      "source": [
        "# 🐳 EXERCICE 5.2.2 : Arrêter et nettoyer\n",
        "# TODO: Arrêtez et supprimez le conteneur nginx précédent\n",
        "\n",
        "# Votre code ici"
      ]
    },
    {
      "cell_type": "code",
      "execution_count": 36,
      "id": "aide_5_2_2",
      "metadata": {},
      "outputs": [
        {
          "data": {
            "text/html": [
              "\n",
              "            <details style=\"margin: 10px 0; border: 1px solid #ddd; border-radius: 5px; padding: 5px; background: #f9f9f9;\">\n",
              "                <summary style=\"cursor: pointer; background: #e3f2fd; padding: 10px; border-radius: 3px; font-weight: bold; color: #0277bd;\">\n",
              "                    💡 Conseil Docker (cliquer pour dérouler)\n",
              "                </summary>\n",
              "                <div style=\"padding: 15px; margin-top: 10px; background: white; border-radius: 3px;\">\n",
              "                    <p style=\"margin: 0; color: #333;\">Construisez l'image avec `docker build -t nom_image .` puis listez les images avec `docker images`.</p>\n",
              "                </div>\n",
              "            </details>\n",
              "            "
            ],
            "text/plain": [
              "<IPython.core.display.HTML object>"
            ]
          },
          "metadata": {},
          "output_type": "display_data"
        },
        {
          "data": {
            "text/html": [
              "\n",
              "            <details style=\"margin: 10px 0; border: 1px solid #ddd; border-radius: 5px; padding: 5px; background: #f9f9f9;\">\n",
              "                <summary style=\"cursor: pointer; background: #e8f5e8; padding: 10px; border-radius: 3px; font-weight: bold; color: #2e7d32;\">\n",
              "                    🔍 Solution Docker (cliquer pour dérouler)\n",
              "                </summary>\n",
              "                <div style=\"padding: 15px; margin-top: 10px; background: white; border-radius: 3px;\">\n",
              "                    <p><strong>🐳 Explication :</strong> `docker build` crée une image à partir d'un Dockerfile ; `-t` spécifie le tag (nom).</p>\n",
              "                    <pre style=\"background: #f5f5f5; padding: 10px; border-radius: 3px; overflow-x: auto; border-left: 3px solid #0db7ed;\"><code># Construire une image Docker (exemple)\n",
              "import subprocess\n",
              "\n",
              "try:\n",
              "    print('🔨 Construction de l'image...')\n",
              "    subprocess.run(['docker', 'build', '-t', 'mon-app-python', '.'], check=False)\n",
              "    print('\n",
              "� Images disponibles:')\n",
              "    subprocess.run(['docker', 'images'], check=False)\n",
              "except Exception as e:\n",
              "    print('❌ Erreur:', e)\n",
              "</code></pre>\n",
              "                </div>\n",
              "            </details>\n",
              "            "
            ],
            "text/plain": [
              "<IPython.core.display.HTML object>"
            ]
          },
          "metadata": {},
          "output_type": "display_data"
        }
      ],
      "source": [
        "# 🐳 **AIDE 5.2.2 - Build de l'Image**\\n\n",
        "helper.help('5.2.2')"
      ]
    },
    {
      "cell_type": "markdown",
      "id": "2ccf9769",
      "metadata": {},
      "source": [
        "---\n",
        "\n",
        "## 📚 SECTION 5.3 : CONSTRUCTION D'IMAGES\n",
        "\n",
        "### 🎯 Objectifs :\n",
        "- Créer un Dockerfile\n",
        "- Construire des images personnalisées\n",
        "- Comprendre les layers et le cache"
      ]
    },
    {
      "cell_type": "code",
      "execution_count": 10,
      "id": "1c547184",
      "metadata": {},
      "outputs": [],
      "source": [
        "# 🐳 EXERCICE 5.3.1 : Créer une image personnalisée\n",
        "# TODO: Créez un Dockerfile et construisez une image Python simple\n",
        "\n",
        "# Votre code ici"
      ]
    },
    {
      "cell_type": "code",
      "execution_count": 34,
      "id": "aide_5_3_1",
      "metadata": {},
      "outputs": [
        {
          "data": {
            "text/html": [
              "\n",
              "            <details style=\"margin: 10px 0; border: 1px solid #ddd; border-radius: 5px; padding: 5px; background: #f9f9f9;\">\n",
              "                <summary style=\"cursor: pointer; background: #e3f2fd; padding: 10px; border-radius: 3px; font-weight: bold; color: #0277bd;\">\n",
              "                    💡 Conseil Docker (cliquer pour dérouler)\n",
              "                </summary>\n",
              "                <div style=\"padding: 15px; margin-top: 10px; background: white; border-radius: 3px;\">\n",
              "                    <p style=\"margin: 0; color: #333;\">Démarrez un conteneur en arrière-plan avec `docker run -d -p host:container --name nom image`.</p>\n",
              "                </div>\n",
              "            </details>\n",
              "            "
            ],
            "text/plain": [
              "<IPython.core.display.HTML object>"
            ]
          },
          "metadata": {},
          "output_type": "display_data"
        },
        {
          "data": {
            "text/html": [
              "\n",
              "            <details style=\"margin: 10px 0; border: 1px solid #ddd; border-radius: 5px; padding: 5px; background: #f9f9f9;\">\n",
              "                <summary style=\"cursor: pointer; background: #e8f5e8; padding: 10px; border-radius: 3px; font-weight: bold; color: #2e7d32;\">\n",
              "                    🔍 Solution Docker (cliquer pour dérouler)\n",
              "                </summary>\n",
              "                <div style=\"padding: 15px; margin-top: 10px; background: white; border-radius: 3px;\">\n",
              "                    <p><strong>🐳 Explication :</strong> `-d` détache le conteneur, `-p` mappe les ports, `--name` donne un nom utile pour l'administration.</p>\n",
              "                    <pre style=\"background: #f5f5f5; padding: 10px; border-radius: 3px; overflow-x: auto; border-left: 3px solid #0db7ed;\"><code># Lancer un conteneur en arrière-plan\n",
              "import subprocess\n",
              "\n",
              "try:\n",
              "    subprocess.run(['docker', 'run', '-d', '-p', '8000:8000', '--name', 'mon-conteneur', 'mon-app-python'], check=False)\n",
              "    subprocess.run(['docker', 'ps'], check=False)\n",
              "except Exception as e:\n",
              "    print('❌ Erreur:', e)\n",
              "</code></pre>\n",
              "                </div>\n",
              "            </details>\n",
              "            "
            ],
            "text/plain": [
              "<IPython.core.display.HTML object>"
            ]
          },
          "metadata": {},
          "output_type": "display_data"
        }
      ],
      "source": [
        "# 🐳 **AIDE 5.3.1 - Gestion des Volumes**\\n\n",
        "helper.help('5.3.1')"
      ]
    },
    {
      "cell_type": "markdown",
      "id": "094283f8",
      "metadata": {},
      "source": [
        "---\n",
        "\n",
        "## 📚 SECTION 5.4 : VOLUMES ET PERSISTANCE\n",
        "\n",
        "### 🎯 Objectifs :\n",
        "- Créer et gérer des volumes\n",
        "- Comprendre la persistance des données\n",
        "- Monter des volumes dans les conteneurs"
      ]
    },
    {
      "cell_type": "code",
      "execution_count": 11,
      "id": "16d0536c",
      "metadata": {},
      "outputs": [],
      "source": [
        "# 🐳 EXERCICE 5.4.1 : Volumes persistants\n",
        "# TODO: Créez un volume et testez la persistance des données\n",
        "\n",
        "# Votre code ici"
      ]
    },
    {
      "cell_type": "code",
      "execution_count": 35,
      "id": "aide_5_4_1",
      "metadata": {},
      "outputs": [
        {
          "data": {
            "text/html": [
              "\n",
              "            <details style=\"margin: 10px 0; border: 1px solid #ddd; border-radius: 5px; padding: 5px; background: #f9f9f9;\">\n",
              "                <summary style=\"cursor: pointer; background: #e3f2fd; padding: 10px; border-radius: 3px; font-weight: bold; color: #0277bd;\">\n",
              "                    💡 Conseil Docker (cliquer pour dérouler)\n",
              "                </summary>\n",
              "                <div style=\"padding: 15px; margin-top: 10px; background: white; border-radius: 3px;\">\n",
              "                    <p style=\"margin: 0; color: #333;\">Créez un volume avec `docker volume create <name>` puis montez-le via `docker run -v <name>:<path>` pour tester la persistance.</p>\n",
              "                </div>\n",
              "            </details>\n",
              "            "
            ],
            "text/plain": [
              "<IPython.core.display.HTML object>"
            ]
          },
          "metadata": {},
          "output_type": "display_data"
        },
        {
          "data": {
            "text/html": [
              "\n",
              "            <details style=\"margin: 10px 0; border: 1px solid #ddd; border-radius: 5px; padding: 5px; background: #f9f9f9;\">\n",
              "                <summary style=\"cursor: pointer; background: #e8f5e8; padding: 10px; border-radius: 3px; font-weight: bold; color: #2e7d32;\">\n",
              "                    🔍 Solution Docker (cliquer pour dérouler)\n",
              "                </summary>\n",
              "                <div style=\"padding: 15px; margin-top: 10px; background: white; border-radius: 3px;\">\n",
              "                    <p><strong>🐳 Explication :</strong> Les fichiers écrits dans un volume persistent après l'arrêt du conteneur ; utilisez `docker run -v` pour monter.</p>\n",
              "                    <pre style=\"background: #f5f5f5; padding: 10px; border-radius: 3px; overflow-x: auto; border-left: 3px solid #0db7ed;\"><code># Exemple simple pour tester la persistance avec un volume\n",
              "import subprocess\n",
              "\n",
              "try:\n",
              "    print('🔧 Création du volume (si nécessaire)')\n",
              "    subprocess.run(['docker', 'volume', 'create', 'exercice_vol'], check=False)\n",
              "    print('🚀 Lancement d'un conteneur qui écrit dans le volume')\n",
              "    subprocess.run(['docker', 'run', '--rm', '-v', 'exercice_vol:/data', 'busybox', 'sh', '-c', \"echo hello > /data/hello.txt\"], check=False)\n",
              "    print('\n",
              "📄 Contenu du volume:')\n",
              "    subprocess.run(['docker', 'run', '--rm', '-v', 'exercice_vol:/data', 'busybox', 'ls', '-la', '/data'], check=False)\n",
              "except Exception as e:\n",
              "    print('❌ Erreur:', e)\n",
              "</code></pre>\n",
              "                </div>\n",
              "            </details>\n",
              "            "
            ],
            "text/plain": [
              "<IPython.core.display.HTML object>"
            ]
          },
          "metadata": {},
          "output_type": "display_data"
        }
      ],
      "source": [
        "# 🐳 **AIDE 5.4.1 - Networks Docker**\\n\n",
        "helper.help('5.4.1')"
      ]
    },
    {
      "cell_type": "markdown",
      "id": "5f182063",
      "metadata": {},
      "source": [
        "---\n",
        "\n",
        "## 🎊 FÉLICITATIONS !\n",
        "\n",
        "Vous avez terminé le module Docker ! Vous maîtrisez maintenant :\n",
        "\n",
        "### ✅ Ce que vous avez appris :\n",
        "- **Conteneurs** : Isolation et exécution d'applications\n",
        "- **Images** : Construction et gestion d'environnements\n",
        "- **Volumes** : Persistance et partage de données\n",
        "- **API Python** : Automation Docker avec le SDK\n",
        "\n",
        "### 🚀 Prochaines étapes :\n",
        "- Explorez Docker Compose pour les applications multi-conteneurs\n",
        "- Découvrez les registries Docker (Docker Hub, privés)\n",
        "- Apprenez l'orchestration avec Kubernetes\n",
        "\n",
        "**🎯 Continuez vers la Partie 6 : MongoDB et NoSQL !**"
      ]
    }
  ],
  "metadata": {
    "kernelspec": {
      "display_name": ".venvexoultime (3.12.11)",
      "language": "python",
      "name": "python3"
    },
    "language_info": {
      "codemirror_mode": {
        "name": "ipython",
        "version": 3
      },
      "file_extension": ".py",
      "mimetype": "text/x-python",
      "name": "python",
      "nbconvert_exporter": "python",
      "pygments_lexer": "ipython3",
      "version": "3.12.11"
    }
  },
  "nbformat": 4,
  "nbformat_minor": 5
}
